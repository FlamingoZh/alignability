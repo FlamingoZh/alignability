{
 "cells": [
  {
   "cell_type": "code",
   "execution_count": 1,
   "id": "25598d9d-f351-4fe5-ab1d-d4f7cf3d3f05",
   "metadata": {},
   "outputs": [],
   "source": [
    "import csv\n",
    "import sys\n",
    "import os\n",
    "import pickle\n",
    "import random\n",
    "import numpy as np\n",
    "import time\n",
    "import operator\n",
    "import seaborn as sns\n",
    "\n",
    "import matplotlib\n",
    "import matplotlib.pyplot as plt\n",
    "\n",
    "from collections import Counter\n",
    "\n",
    "import statsmodels.stats.api as sms\n",
    "\n",
    "import scipy.stats\n",
    "from scipy.stats import entropy\n",
    "from scipy.stats import spearmanr\n",
    "from scipy.stats import zscore\n",
    "from sklearn.linear_model import LinearRegression\n",
    "from sklearn.metrics.pairwise import cosine_similarity"
   ]
  },
  {
   "cell_type": "code",
   "execution_count": 2,
   "id": "6123483e-8392-4a5b-b553-ccf50beffe9b",
   "metadata": {},
   "outputs": [],
   "source": [
    "np.set_printoptions(precision=2)"
   ]
  },
  {
   "cell_type": "code",
   "execution_count": 3,
   "id": "09d974c6-251f-481d-9ad3-6d282bde798f",
   "metadata": {},
   "outputs": [],
   "source": [
    "sys.path.append('../python')\n",
    "from permutation import permutation, compute_alignment_strength\n",
    "from utils.utils_funcs import aggregate_embeddings_visual_and_language, get_variance, get_distinctness_from_nearest_5\n",
    "from utils.utils_funcs import load_data_to_dict"
   ]
  },
  {
   "cell_type": "code",
   "execution_count": 4,
   "id": "af91fd7e-bacd-4d39-b39b-861b2fabeb59",
   "metadata": {},
   "outputs": [],
   "source": [
    "def get_alignment_strength(struct,concepts,relative):\n",
    "    visual_embeddings_list=list()\n",
    "    langauge_embeddings_list=list()\n",
    "    for concept in concepts:\n",
    "        embeddings=struct[\"embeds\"][concept]\n",
    "        visual_embeddings_list.append(embeddings[\"visual\"])\n",
    "        langauge_embeddings_list.append(embeddings[\"language\"])\n",
    "    z_0=np.array(visual_embeddings_list)\n",
    "    z_1=np.array(langauge_embeddings_list)\n",
    "    if relative:\n",
    "        return permutation(z_0,z_1,n_sim=100)[0]\n",
    "    else:\n",
    "        return compute_alignment_strength(z_0,z_1)"
   ]
  },
  {
   "cell_type": "code",
   "execution_count": 5,
   "id": "34e8a9f3-fc3c-43dc-9f5d-209dfe1a0478",
   "metadata": {},
   "outputs": [],
   "source": [
    "imagenet_data=pickle.load(open(\"../data/dumped_embeddings/imagenet_concept_swav_bert_20.pkl\",\"rb\"))"
   ]
  },
  {
   "cell_type": "code",
   "execution_count": 6,
   "id": "24d00ebd-5bf2-42e7-8cf0-f556d265ce75",
   "metadata": {},
   "outputs": [],
   "source": [
    "aggregated_imagenet_data=aggregate_embeddings_visual_and_language(imagenet_data,1,1)"
   ]
  },
  {
   "cell_type": "code",
   "execution_count": 7,
   "id": "5528131b-1a7e-4879-9de0-d51f3888e530",
   "metadata": {},
   "outputs": [],
   "source": [
    "# kuperman aoa\n",
    "noun_aoa_dict=dict()\n",
    "with open(\"../data/processed/AoA_Kuperman.csv\",\"r\") as f:\n",
    "    next(f)\n",
    "    for row in f:\n",
    "        temp=row.replace('\\n','').replace('\\r','').split(\",\")\n",
    "        if temp[0]:\n",
    "            if temp[0] in imagenet_data[\"words\"]:\n",
    "                noun_aoa_dict[temp[0]]=float(temp[4])\n",
    "noun_aoa_sorted= sorted(noun_aoa_dict.items(), key=operator.itemgetter(1))"
   ]
  },
  {
   "cell_type": "code",
   "execution_count": 8,
   "id": "64997a16-2e89-4c66-9c7c-ad7e4207cebb",
   "metadata": {},
   "outputs": [],
   "source": [
    "# noun_aoa_dict=load_data_to_dict(\"../data/processed/aoa/wordbank_noun_aoa.txt\",concepts=vg_noun_data[\"words\"])\n",
    "# verb_aoa_dict=load_data_to_dict(\"../data/processed/aoa/wordbank_verb_aoa.txt\",concepts=vg_verb_data[\"words\"])\n",
    "\n",
    "# noun_aoa_sorted = sorted(noun_aoa_dict.items(), key=operator.itemgetter(1))\n",
    "# verb_aoa_sorted = sorted(verb_aoa_dict.items(), key=operator.itemgetter(1))"
   ]
  },
  {
   "cell_type": "code",
   "execution_count": 9,
   "id": "0fa1008e-27f0-45b9-918f-225d1569c696",
   "metadata": {},
   "outputs": [],
   "source": [
    "# noun_aoa_dict=load_data_to_dict(\"../data/processed/aoa/glasgow_noun_aoa.txt\",concepts=vg_noun_data[\"words\"])\n",
    "# verb_aoa_dict=load_data_to_dict(\"../data/processed/aoa/glasgow_verb_aoa.txt\",concepts=vg_verb_data[\"words\"])\n",
    "\n",
    "# noun_aoa_sorted = sorted(noun_aoa_dict.items(), key=operator.itemgetter(1))\n",
    "# verb_aoa_sorted = sorted(verb_aoa_dict.items(), key=operator.itemgetter(1))"
   ]
  },
  {
   "cell_type": "code",
   "execution_count": 10,
   "id": "a2264698-3f17-4541-92bb-249df9cd99ff",
   "metadata": {},
   "outputs": [],
   "source": [
    "def mean_confidence_interval(data, confidence=0.95):\n",
    "    a = 1.0 * np.array(data)\n",
    "    n = len(a)\n",
    "    m, se = np.mean(a), scipy.stats.sem(a)\n",
    "    h = se * scipy.stats.t.ppf((1 + confidence) / 2., n-1)\n",
    "    return m, h"
   ]
  },
  {
   "cell_type": "code",
   "execution_count": 11,
   "id": "59eb7d95-e4eb-4481-8ffa-c67634ed1f5a",
   "metadata": {},
   "outputs": [],
   "source": [
    "def compute_alignment(concepts,shuffled_concepts,struct,relative):\n",
    "    num_list=list()\n",
    "    for sh_concepts in shuffled_concepts:\n",
    "        num_list.append(get_alignment_strength(struct,sh_concepts,relative))\n",
    "    temp=mean_confidence_interval(num_list)\n",
    "    return get_alignment_strength(struct,concepts,relative),temp[0],temp[1]"
   ]
  },
  {
   "cell_type": "code",
   "execution_count": 12,
   "id": "d4c9834e-8e82-4f0d-b01f-47ac9e666c52",
   "metadata": {},
   "outputs": [],
   "source": [
    "def sim_in_order(struct,concepts,step=20,num_simulation=1000,concept_accum=True,relative=False):\n",
    "    \n",
    "    xs=list()\n",
    "    ag_true=list()\n",
    "    ag_sh=list()\n",
    "    ag_sh_err=list()\n",
    "\n",
    "    for idx in range(0,len(concepts),step):\n",
    "        if concept_accum:\n",
    "            concept_group=concepts[:idx+step]\n",
    "        else:\n",
    "            concept_group=concepts[idx:idx+step]\n",
    "        \n",
    "        shuffled_list=list()\n",
    "        temp=concepts.copy()\n",
    "        for i in range(num_simulation):\n",
    "            random.shuffle(temp)\n",
    "            temp2=temp[:len(concept_group)]\n",
    "            shuffled_list.append(temp2)\n",
    "            # print(sorted(temp2))\n",
    "            # for j in temp2:\n",
    "            #     if j not in concept_group:\n",
    "            #         print(j)\n",
    "        \n",
    "        xs.append(min(idx+step,len(concepts)))\n",
    "        ag_rts=compute_alignment(concept_group,shuffled_list,struct,relative)\n",
    "        ag_true.append(ag_rts[0])\n",
    "        ag_sh.append(ag_rts[1])\n",
    "        ag_sh_err.append(ag_rts[2])\n",
    "    \n",
    "    return ag_true,ag_sh,ag_sh_err,xs"
   ]
  },
  {
   "cell_type": "code",
   "execution_count": 13,
   "id": "19236cd0-985a-4d01-af67-aea477c6a646",
   "metadata": {},
   "outputs": [],
   "source": [
    "def sim_in_order(struct,concepts,step=20,num_simulation=1000,concept_accum=True,relative=False):\n",
    "    \n",
    "    xs=list()\n",
    "    ag_true=list()\n",
    "    ag_sh=list()\n",
    "    ag_sh_err=list()\n",
    "    \n",
    "    for idx in range(0,len(concepts),step):\n",
    "        if concept_accum:\n",
    "            concept_group=concepts[:idx+step]\n",
    "        else:\n",
    "            concept_group=concepts[idx:idx+step]\n",
    "        xs.append(min(idx+step,len(concepts)))\n",
    "        ag_true.append(get_alignment_strength(struct,concept_group,relative))\n",
    "    \n",
    "    temp=concepts.copy()\n",
    "    ll=list()\n",
    "    for i in range(num_simulation):\n",
    "        random.shuffle(temp)\n",
    "        l=list()\n",
    "        for idx in range(0,len(temp),step):\n",
    "            if concept_accum:\n",
    "                concept_group=temp[:idx+step]\n",
    "            else:\n",
    "                concept_group=temp[idx:idx+step]\n",
    "            l.append(get_alignment_strength(struct,concept_group,relative))\n",
    "        ll.append(l)\n",
    "    ll=np.array(ll)\n",
    "    for i in range(ll.shape[1]):\n",
    "        temp=mean_confidence_interval([row[i] for row in ll])\n",
    "        ag_sh.append(temp[0])\n",
    "        ag_sh_err.append(temp[1])\n",
    "        \n",
    "    return ag_true,ag_sh,ag_sh_err,xs"
   ]
  },
  {
   "cell_type": "code",
   "execution_count": 14,
   "id": "ab076d05-e2bd-47ce-bb9d-d9cc1190124b",
   "metadata": {},
   "outputs": [],
   "source": [
    "def plot_percentage_in_order(title,struct,concepts,step=20,num_simulation=1000,concept_accum=True,relative=False):\n",
    "    t1=time.time()\n",
    "    ag_true,ag_sh,ag_sh_err,xs=sim_in_order(struct,concepts,step,num_simulation,concept_accum,relative)\n",
    "    t2=time.time()\n",
    "    print(t2-t1)\n",
    "    \n",
    "    plt.plot(xs,ag_true,color=\"green\",label=\"Alignment Strength of True Order\")\n",
    "    #plt.plot(xs,ag_sh,color=\"red\",label=\"Alignment Strength of Random Concepts\")\n",
    "    plt.errorbar(xs,ag_sh,yerr =ag_sh_err,color=\"red\",label=\"Alignment Strength of Random Concepts\")\n",
    "    plt.title(title)\n",
    "    plt.xlabel(\"number of concepts in the system\")\n",
    "    plt.ylabel(\"Alignment Strength\")\n",
    "    plt.legend() \n",
    "    \n",
    "    print(xs)\n",
    "    print(\"alignment true:\",ag_true)\n",
    "    print(\"alignment shuffled:\",ag_sh)"
   ]
  },
  {
   "cell_type": "code",
   "execution_count": 15,
   "id": "102e2574-891f-42cb-8318-e552f4bcddea",
   "metadata": {},
   "outputs": [
    {
     "name": "stdout",
     "output_type": "stream",
     "text": [
      "46.16199588775635\n",
      "[10, 20, 30, 40, 50, 60, 70, 80, 90, 100, 110, 120, 130, 140, 150, 160, 170, 180, 190, 200, 210, 220, 230, 240, 250, 260, 270, 280, 290, 300, 310, 320, 330, 340, 350, 360, 370, 380, 390, 400, 410, 420, 425]\n",
      "alignment true: [0.009486166007905137, 0.0905063706386385, 0.07865926462634323, 0.02375632286858308, 0.03038499576013113, 0.03797849309883513, 0.05294908115040747, 0.07370002535021254, 0.10199655421989967, 0.11376744289741733, 0.11033366428768263, 0.1099054892156646, 0.08683710596509288, 0.07724758625565821, 0.06536114870138167, 0.06676951909189924, 0.0767700800539565, 0.07251997625157329, 0.07152596939185338, 0.06735778713692335, 0.066555565400052, 0.06892481208473292, 0.06458615454639931, 0.07009799512978247, 0.06680746337484966, 0.06515468578142249, 0.06657395539655991, 0.06748721561753875, 0.06621040579090229, 0.06649284528751939, 0.06525072863772764, 0.06713306201297116, 0.06328966689112486, 0.06429754111050384, 0.06717940000340034, 0.06645766908029298, 0.06649572247152039, 0.06703806897726286, 0.06691739413776508, 0.06708457834485881, 0.0679265722736531, 0.06769669735104406, 0.06822214903333901]\n",
      "alignment shuffled: [0.07911921424571451, 0.08050927576983781, 0.07344007479428438, 0.07064564173020095, 0.06924218376751518, 0.06874384730900722, 0.0680493945535894, 0.06784057499949346, 0.0671615980206697, 0.06774908727757911, 0.06796657230221154, 0.06879656068911703, 0.06770386743560061, 0.06859941612025394, 0.06953749118269673, 0.06921466837434505, 0.06864029627362428, 0.06809697851182583, 0.06851268279452832, 0.0681510222707024, 0.06766988469578183, 0.06772333255420461, 0.06797972112138448, 0.0676374953930139, 0.06734911918846484, 0.067721950108099, 0.06763712699720985, 0.0677403797074312, 0.06801013565493691, 0.06804371663024901, 0.06853048267363952, 0.06829671807532024, 0.06829938231884962, 0.06771137459394833, 0.06783641883780102, 0.06788244688601433, 0.06799024643246483, 0.06801828168943219, 0.06815298719827108, 0.06834715055858899, 0.0682349012933127, 0.06820143557417038, 0.06822214903333901]\n"
     ]
    },
    {
     "data": {
      "image/png": "[encoded data removed]",
      "text/plain": [
       "<Figure size 432x288 with 1 Axes>"
      ]
     },
     "metadata": {
      "needs_background": "light"
     },
     "output_type": "display_data"
    }
   ],
   "source": [
    "plot_percentage_in_order(\"imagenet: absolute\",aggregated_imagenet_data,list(list(zip(*noun_aoa_sorted))[0]),\n",
    "                         step=10,num_simulation=100,concept_accum=True,relative=False)"
   ]
  },
  {
   "cell_type": "code",
   "execution_count": 16,
   "id": "31ae1baa-00ac-44e7-8331-271a4176fb0a",
   "metadata": {},
   "outputs": [
    {
     "name": "stdout",
     "output_type": "stream",
     "text": [
      "432.4299759864807\n",
      "[10, 20, 30, 40, 50, 60, 70, 80, 90, 100, 110, 120, 130, 140, 150, 160, 170, 180, 190, 200, 210, 220, 230, 240, 250, 260, 270, 280, 290, 300, 310, 320, 330, 340, 350, 360, 370, 380, 390, 400, 410, 420, 425]\n",
      "alignment true: [0.48, 0.78, 0.91, 0.71, 0.78, 0.93, 0.89, 1.0, 1.0, 1.0, 1.0, 1.0, 1.0, 1.0, 0.99, 1.0, 1.0, 1.0, 1.0, 1.0, 1.0, 1.0, 1.0, 1.0, 1.0, 1.0, 1.0, 1.0, 1.0, 1.0, 1.0, 1.0, 1.0, 1.0, 1.0, 1.0, 1.0, 1.0, 1.0, 1.0, 1.0, 1.0, 1.0]\n",
      "alignment shuffled: [0.6119999999999999, 0.7130000000000001, 0.7390000000000001, 0.9039999999999999, 0.9120000000000001, 0.976, 0.9700000000000001, 0.9799999999999999, 0.984, 0.9819999999999999, 0.9870000000000001, 0.9960000000000001, 0.999, 0.998, 0.9949999999999999, 0.998, 0.9970000000000001, 0.9969999999999999, 0.999, 0.999, 1.0, 1.0, 1.0, 1.0, 0.999, 1.0, 1.0, 1.0, 1.0, 1.0, 1.0, 1.0, 1.0, 1.0, 1.0, 1.0, 1.0, 1.0, 1.0, 1.0, 1.0, 1.0, 1.0]\n"
     ]
    },
    {
     "data": {
      "image/png": "[encoded data removed]",
      "text/plain": [
       "<Figure size 432x288 with 1 Axes>"
      ]
     },
     "metadata": {
      "needs_background": "light"
     },
     "output_type": "display_data"
    }
   ],
   "source": [
    "plot_percentage_in_order(\"imagenet: relative\",aggregated_imagenet_data,list(list(zip(*noun_aoa_sorted))[0]),\n",
    "                         step=10,num_simulation=10,concept_accum=True,relative=True)"
   ]
  },
  {
   "cell_type": "code",
   "execution_count": null,
   "id": "ad642c2e-257f-489f-997e-97c995c64020",
   "metadata": {},
   "outputs": [],
   "source": []
  }
 ],
 "metadata": {
  "kernelspec": {
   "display_name": "Python 3 (ipykernel)",
   "language": "python",
   "name": "python3"
  },
  "language_info": {
   "codemirror_mode": {
    "name": "ipython",
    "version": 3
   },
   "file_extension": ".py",
   "mimetype": "text/x-python",
   "name": "python",
   "nbconvert_exporter": "python",
   "pygments_lexer": "ipython3",
   "version": "3.8.12"
  }
 },
 "nbformat": 4,
 "nbformat_minor": 5
}
