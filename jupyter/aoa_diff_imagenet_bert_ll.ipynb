{
 "cells": [
  {
   "cell_type": "code",
   "execution_count": 34,
   "id": "25598d9d-f351-4fe5-ab1d-d4f7cf3d3f05",
   "metadata": {},
   "outputs": [],
   "source": [
    "import csv\n",
    "import sys\n",
    "import os\n",
    "import pickle\n",
    "import random\n",
    "import numpy as np\n",
    "import time\n",
    "import operator\n",
    "import seaborn as sns\n",
    "\n",
    "import matplotlib\n",
    "import matplotlib.pyplot as plt\n",
    "\n",
    "from collections import Counter\n",
    "\n",
    "import statsmodels.stats.api as sms\n",
    "\n",
    "import scipy.stats\n",
    "from scipy.stats import entropy\n",
    "from scipy.stats import spearmanr\n",
    "from scipy.stats import zscore\n",
    "from sklearn.linear_model import LinearRegression\n",
    "from sklearn.metrics.pairwise import cosine_similarity"
   ]
  },
  {
   "cell_type": "code",
   "execution_count": 35,
   "id": "6123483e-8392-4a5b-b553-ccf50beffe9b",
   "metadata": {},
   "outputs": [],
   "source": [
    "np.set_printoptions(precision=2)"
   ]
  },
  {
   "cell_type": "code",
   "execution_count": 36,
   "id": "09d974c6-251f-481d-9ad3-6d282bde798f",
   "metadata": {},
   "outputs": [],
   "source": [
    "sys.path.append('../python')\n",
    "from permutation import permutation, compute_alignment_strength\n",
    "from utils.utils_funcs import get_variance, get_distinctness_from_nearest_5\n",
    "from utils.utils_funcs import load_data_to_dict"
   ]
  },
  {
   "cell_type": "code",
   "execution_count": 75,
   "id": "d61a7e8a-9464-40cc-bd06-cfd20a06ebd0",
   "metadata": {},
   "outputs": [],
   "source": [
    "# aggregate both visual embeddings and language embeddings\n",
    "def aggregate_embeddings_visual_and_language(input_struct,n_sample_per_visual,n_sample_per_language):\n",
    "\twords=input_struct['words']\n",
    "\tembed_dict=dict()\n",
    "\tfor word in words:\n",
    "\t\tn_sample_v = min(len(input_struct['embeds'][word]['visual']), n_sample_per_visual)\n",
    "\t\tvisual_temp=np.mean(np.array(random.sample(input_struct['embeds'][word]['visual'],n_sample_v)),axis=0)\n",
    "\t\tn_sample_l = min(len(input_struct['embeds'][word]['language']), n_sample_per_language)\n",
    "\t\tlanguage_temp=np.mean(np.array(random.sample(input_struct['embeds'][word]['language'],n_sample_l)),axis=0)\n",
    "\t\t#embed_dict[word]=dict(visual=np.expand_dims(visual_temp,axis=0),language=language_temp)\n",
    "\t\tembed_dict[word]=dict(visual=visual_temp,language=np.squeeze(language_temp))\n",
    "\treturn dict(embeds=embed_dict,words=words)"
   ]
  },
  {
   "cell_type": "code",
   "execution_count": 76,
   "id": "af91fd7e-bacd-4d39-b39b-861b2fabeb59",
   "metadata": {},
   "outputs": [],
   "source": [
    "def get_alignment_strength(struct,concepts,relative):\n",
    "    visual_embeddings_list=list()\n",
    "    langauge_embeddings_list=list()\n",
    "    for concept in concepts:\n",
    "        embeddings=struct[\"embeds\"][concept]\n",
    "        visual_embeddings_list.append(embeddings[\"visual\"])\n",
    "        langauge_embeddings_list.append(embeddings[\"language\"])\n",
    "    z_0=np.array(visual_embeddings_list)\n",
    "    z_1=np.array(langauge_embeddings_list)\n",
    "    if relative:\n",
    "        return permutation(z_0,z_1,n_sim=100)[0]\n",
    "    else:\n",
    "        return compute_alignment_strength(z_0,z_1)"
   ]
  },
  {
   "cell_type": "code",
   "execution_count": 77,
   "id": "34e8a9f3-fc3c-43dc-9f5d-209dfe1a0478",
   "metadata": {},
   "outputs": [],
   "source": [
    "imagenet_data=pickle.load(open(\"../data/dumped_embeddings/imagenet_ll_concept_swav_bert_20.pkl\",\"rb\"))"
   ]
  },
  {
   "cell_type": "code",
   "execution_count": 78,
   "id": "24d00ebd-5bf2-42e7-8cf0-f556d265ce75",
   "metadata": {},
   "outputs": [],
   "source": [
    "aggregated_imagenet_data=aggregate_embeddings_visual_and_language(imagenet_data,1,1)"
   ]
  },
  {
   "cell_type": "code",
   "execution_count": 79,
   "id": "5528131b-1a7e-4879-9de0-d51f3888e530",
   "metadata": {},
   "outputs": [],
   "source": [
    "# kuperman aoa\n",
    "noun_aoa_dict=dict()\n",
    "with open(\"../data/processed/AoA_Kuperman.csv\",\"r\") as f:\n",
    "    next(f)\n",
    "    for row in f:\n",
    "        temp=row.replace('\\n','').replace('\\r','').split(\",\")\n",
    "        if temp[0]:\n",
    "            if temp[0] in imagenet_data[\"words\"]:\n",
    "                noun_aoa_dict[temp[0]]=float(temp[4])\n",
    "noun_aoa_sorted= sorted(noun_aoa_dict.items(), key=operator.itemgetter(1))"
   ]
  },
  {
   "cell_type": "code",
   "execution_count": 80,
   "id": "64997a16-2e89-4c66-9c7c-ad7e4207cebb",
   "metadata": {},
   "outputs": [],
   "source": [
    "# noun_aoa_dict=load_data_to_dict(\"../data/processed/aoa/wordbank_noun_aoa.txt\",concepts=vg_noun_data[\"words\"])\n",
    "# verb_aoa_dict=load_data_to_dict(\"../data/processed/aoa/wordbank_verb_aoa.txt\",concepts=vg_verb_data[\"words\"])\n",
    "\n",
    "# noun_aoa_sorted = sorted(noun_aoa_dict.items(), key=operator.itemgetter(1))\n",
    "# verb_aoa_sorted = sorted(verb_aoa_dict.items(), key=operator.itemgetter(1))"
   ]
  },
  {
   "cell_type": "code",
   "execution_count": 81,
   "id": "0fa1008e-27f0-45b9-918f-225d1569c696",
   "metadata": {},
   "outputs": [],
   "source": [
    "# noun_aoa_dict=load_data_to_dict(\"../data/processed/aoa/glasgow_noun_aoa.txt\",concepts=vg_noun_data[\"words\"])\n",
    "# verb_aoa_dict=load_data_to_dict(\"../data/processed/aoa/glasgow_verb_aoa.txt\",concepts=vg_verb_data[\"words\"])\n",
    "\n",
    "# noun_aoa_sorted = sorted(noun_aoa_dict.items(), key=operator.itemgetter(1))\n",
    "# verb_aoa_sorted = sorted(verb_aoa_dict.items(), key=operator.itemgetter(1))"
   ]
  },
  {
   "cell_type": "code",
   "execution_count": 82,
   "id": "a2264698-3f17-4541-92bb-249df9cd99ff",
   "metadata": {},
   "outputs": [],
   "source": [
    "def mean_confidence_interval(data, confidence=0.95):\n",
    "    a = 1.0 * np.array(data)\n",
    "    n = len(a)\n",
    "    m, se = np.mean(a), scipy.stats.sem(a)\n",
    "    h = se * scipy.stats.t.ppf((1 + confidence) / 2., n-1)\n",
    "    return m, h"
   ]
  },
  {
   "cell_type": "code",
   "execution_count": 83,
   "id": "59eb7d95-e4eb-4481-8ffa-c67634ed1f5a",
   "metadata": {},
   "outputs": [],
   "source": [
    "def compute_alignment(concepts,shuffled_concepts,struct,relative):\n",
    "    num_list=list()\n",
    "    for sh_concepts in shuffled_concepts:\n",
    "        num_list.append(get_alignment_strength(struct,sh_concepts,relative))\n",
    "    temp=mean_confidence_interval(num_list)\n",
    "    return get_alignment_strength(struct,concepts,relative),temp[0],temp[1]"
   ]
  },
  {
   "cell_type": "code",
   "execution_count": 84,
   "id": "d4c9834e-8e82-4f0d-b01f-47ac9e666c52",
   "metadata": {},
   "outputs": [],
   "source": [
    "def sim_in_order(struct,concepts,step=20,num_simulation=1000,concept_accum=True,relative=False):\n",
    "    \n",
    "    xs=list()\n",
    "    ag_true=list()\n",
    "    ag_sh=list()\n",
    "    ag_sh_err=list()\n",
    "\n",
    "    for idx in range(0,len(concepts),step):\n",
    "        if concept_accum:\n",
    "            concept_group=concepts[:idx+step]\n",
    "        else:\n",
    "            concept_group=concepts[idx:idx+step]\n",
    "        \n",
    "        shuffled_list=list()\n",
    "        temp=concepts.copy()\n",
    "        for i in range(num_simulation):\n",
    "            random.shuffle(temp)\n",
    "            temp2=temp[:len(concept_group)]\n",
    "            shuffled_list.append(temp2)\n",
    "            # print(sorted(temp2))\n",
    "            # for j in temp2:\n",
    "            #     if j not in concept_group:\n",
    "            #         print(j)\n",
    "        \n",
    "        xs.append(min(idx+step,len(concepts)))\n",
    "        ag_rts=compute_alignment(concept_group,shuffled_list,struct,relative)\n",
    "        ag_true.append(ag_rts[0])\n",
    "        ag_sh.append(ag_rts[1])\n",
    "        ag_sh_err.append(ag_rts[2])\n",
    "    \n",
    "    return ag_true,ag_sh,ag_sh_err,xs"
   ]
  },
  {
   "cell_type": "code",
   "execution_count": 85,
   "id": "19236cd0-985a-4d01-af67-aea477c6a646",
   "metadata": {},
   "outputs": [],
   "source": [
    "def sim_in_order(struct,concepts,step=20,num_simulation=1000,concept_accum=True,relative=False):\n",
    "    \n",
    "    xs=list()\n",
    "    ag_true=list()\n",
    "    ag_sh=list()\n",
    "    ag_sh_err=list()\n",
    "    \n",
    "    for idx in range(0,len(concepts),step):\n",
    "        if concept_accum:\n",
    "            concept_group=concepts[:idx+step]\n",
    "        else:\n",
    "            concept_group=concepts[idx:idx+step]\n",
    "        xs.append(min(idx+step,len(concepts)))\n",
    "        ag_true.append(get_alignment_strength(struct,concept_group,relative))\n",
    "    \n",
    "    temp=concepts.copy()\n",
    "    ll=list()\n",
    "    for i in range(num_simulation):\n",
    "        random.shuffle(temp)\n",
    "        l=list()\n",
    "        for idx in range(0,len(temp),step):\n",
    "            if concept_accum:\n",
    "                concept_group=temp[:idx+step]\n",
    "            else:\n",
    "                concept_group=temp[idx:idx+step]\n",
    "            l.append(get_alignment_strength(struct,concept_group,relative))\n",
    "        ll.append(l)\n",
    "    ll=np.array(ll)\n",
    "    for i in range(ll.shape[1]):\n",
    "        temp=mean_confidence_interval([row[i] for row in ll])\n",
    "        ag_sh.append(temp[0])\n",
    "        ag_sh_err.append(temp[1])\n",
    "        \n",
    "    return ag_true,ag_sh,ag_sh_err,xs"
   ]
  },
  {
   "cell_type": "code",
   "execution_count": 86,
   "id": "ab076d05-e2bd-47ce-bb9d-d9cc1190124b",
   "metadata": {},
   "outputs": [],
   "source": [
    "def plot_percentage_in_order(title,struct,concepts,step=20,num_simulation=1000,concept_accum=True,relative=False):\n",
    "    t1=time.time()\n",
    "    ag_true,ag_sh,ag_sh_err,xs=sim_in_order(struct,concepts,step,num_simulation,concept_accum,relative)\n",
    "    t2=time.time()\n",
    "    print(t2-t1)\n",
    "    \n",
    "    plt.plot(xs,ag_true,color=\"green\",label=\"Alignment Strength of True Order\")\n",
    "    #plt.plot(xs,ag_sh,color=\"red\",label=\"Alignment Strength of Random Concepts\")\n",
    "    plt.errorbar(xs,ag_sh,yerr =ag_sh_err,color=\"red\",label=\"Alignment Strength of Random Concepts\")\n",
    "    plt.title(title)\n",
    "    plt.xlabel(\"number of concepts in the system\")\n",
    "    plt.ylabel(\"Alignment Strength\")\n",
    "    plt.legend() \n",
    "    \n",
    "    print(xs)\n",
    "    print(\"alignment true:\",ag_true)\n",
    "    print(\"alignment shuffled:\",ag_sh)"
   ]
  },
  {
   "cell_type": "code",
   "execution_count": 87,
   "id": "102e2574-891f-42cb-8318-e552f4bcddea",
   "metadata": {},
   "outputs": [
    {
     "name": "stdout",
     "output_type": "stream",
     "text": [
      "44.07911920547485\n",
      "[10, 20, 30, 40, 50, 60, 70, 80, 90, 100, 110, 120, 130, 140, 150, 160, 170, 180, 190, 200, 210, 220, 230, 240, 250, 260, 270, 280, 290, 300, 310, 320, 330, 340, 350, 360, 370, 380, 390, 400, 410, 420, 425]\n",
      "alignment true: [-0.01515151515151515, 0.07816662074033251, 0.049434569063922774, 0.1188965945551673, 0.10803238750638916, 0.08892213823876918, 0.08347079052966537, 0.07762873656124337, 0.08027363483206841, 0.09065593612706063, 0.10386014724250171, 0.08855360851579173, 0.08729978017304248, 0.07949615525081971, 0.09182671384383069, 0.09081073267394882, 0.09327633634016919, 0.1011969893035369, 0.09630955435623337, 0.09360959255528735, 0.09120295344116419, 0.09164833409211681, 0.08298030490688486, 0.08525179195409313, 0.08382203389671654, 0.08559976572097872, 0.0837176979433039, 0.0798862008623579, 0.07833290297253721, 0.07575821196786577, 0.0674308395743879, 0.0665138533150292, 0.05943693771586303, 0.05701585190339742, 0.05272507505768446, 0.05278779455823994, 0.050364061900408826, 0.04838306667093401, 0.04839621205064327, 0.046818225471906345, 0.04826693655685757, 0.04755716467577718, 0.04633342213342057]\n",
      "alignment shuffled: [0.020944664031620545, 0.04644244118148776, 0.04440149168218073, 0.05215449061012948, 0.051124174114210226, 0.051215030945993646, 0.051313345996659813, 0.05046084454822638, 0.05117932265870444, 0.05045996798259144, 0.05100452116691901, 0.050227864214315875, 0.049720188727769704, 0.04895742202622014, 0.04879964989593134, 0.04842596028134184, 0.04757944364635765, 0.046640713455162935, 0.046597909246803744, 0.047084008853852166, 0.04696965184454843, 0.04696808988880099, 0.046426950516244986, 0.04644715641702086, 0.04650639665627963, 0.04664606018141506, 0.04659067764119464, 0.046480990103060574, 0.04688777303795279, 0.04706675240190109, 0.04668453998498538, 0.04648042670046817, 0.04645016071002894, 0.0462176316861233, 0.04618909259333039, 0.04639934015671165, 0.04643008410141425, 0.046553240281443434, 0.04634022606707497, 0.04635120230957012, 0.046345782932582694, 0.04635156608575046, 0.046333422133420565]\n"
     ]
    },
    {
     "data": {
      "image/png": "[encoded data removed]",
      "text/plain": [
       "<Figure size 432x288 with 1 Axes>"
      ]
     },
     "metadata": {
      "needs_background": "light"
     },
     "output_type": "display_data"
    }
   ],
   "source": [
    "plot_percentage_in_order(\"imagenet: absolute\",aggregated_imagenet_data,list(list(zip(*noun_aoa_sorted))[0]),\n",
    "                         step=10,num_simulation=100,concept_accum=True,relative=False)"
   ]
  },
  {
   "cell_type": "code",
   "execution_count": 88,
   "id": "31ae1baa-00ac-44e7-8331-271a4176fb0a",
   "metadata": {},
   "outputs": [
    {
     "name": "stdout",
     "output_type": "stream",
     "text": [
      "433.7572708129883\n",
      "[10, 20, 30, 40, 50, 60, 70, 80, 90, 100, 110, 120, 130, 140, 150, 160, 170, 180, 190, 200, 210, 220, 230, 240, 250, 260, 270, 280, 290, 300, 310, 320, 330, 340, 350, 360, 370, 380, 390, 400, 410, 420, 425]\n",
      "alignment true: [0.46, 0.84, 0.82, 1.0, 1.0, 1.0, 1.0, 1.0, 0.99, 1.0, 1.0, 1.0, 1.0, 1.0, 1.0, 1.0, 1.0, 1.0, 1.0, 1.0, 1.0, 1.0, 1.0, 1.0, 1.0, 1.0, 1.0, 1.0, 1.0, 1.0, 1.0, 1.0, 1.0, 1.0, 1.0, 1.0, 1.0, 1.0, 1.0, 1.0, 1.0, 1.0, 1.0]\n",
      "alignment shuffled: [0.449, 0.679, 0.683, 0.7790000000000001, 0.7789999999999999, 0.7929999999999999, 0.849, 0.8710000000000001, 0.9129999999999999, 0.9179999999999999, 0.933, 0.9409999999999998, 0.953, 0.9620000000000001, 0.968, 0.966, 0.9640000000000001, 0.9640000000000001, 0.961, 0.976, 0.984, 0.994, 0.992, 0.992, 0.9949999999999999, 0.9960000000000001, 0.999, 1.0, 1.0, 0.9969999999999999, 0.9969999999999999, 1.0, 0.999, 0.999, 0.999, 0.999, 1.0, 1.0, 1.0, 1.0, 1.0, 1.0, 1.0]\n"
     ]
    },
    {
     "data": {
      "image/png": "[encoded data removed]",
      "text/plain": [
       "<Figure size 432x288 with 1 Axes>"
      ]
     },
     "metadata": {
      "needs_background": "light"
     },
     "output_type": "display_data"
    }
   ],
   "source": [
    "plot_percentage_in_order(\"imagenet: relative\",aggregated_imagenet_data,list(list(zip(*noun_aoa_sorted))[0]),\n",
    "                         step=10,num_simulation=10,concept_accum=True,relative=True)"
   ]
  },
  {
   "cell_type": "code",
   "execution_count": null,
   "id": "ad642c2e-257f-489f-997e-97c995c64020",
   "metadata": {},
   "outputs": [],
   "source": []
  }
 ],
 "metadata": {
  "kernelspec": {
   "display_name": "Python 3 (ipykernel)",
   "language": "python",
   "name": "python3"
  },
  "language_info": {
   "codemirror_mode": {
    "name": "ipython",
    "version": 3
   },
   "file_extension": ".py",
   "mimetype": "text/x-python",
   "name": "python",
   "nbconvert_exporter": "python",
   "pygments_lexer": "ipython3",
   "version": "3.8.12"
  }
 },
 "nbformat": 4,
 "nbformat_minor": 5
}
