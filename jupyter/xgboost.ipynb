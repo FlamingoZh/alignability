{
 "cells": [
  {
   "cell_type": "code",
   "execution_count": 2,
   "id": "00575cd6-1375-4e6b-8a88-c512c06cbe42",
   "metadata": {},
   "outputs": [],
   "source": [
    "import csv\n",
    "import sys\n",
    "import os\n",
    "import pickle\n",
    "import random\n",
    "import numpy as np\n",
    "import time\n",
    "import operator\n",
    "import seaborn as sns\n",
    "import pandas as pd\n",
    "\n",
    "import matplotlib\n",
    "import matplotlib.pyplot as plt\n",
    "\n",
    "from collections import Counter\n",
    "\n",
    "import statsmodels.stats.api as sms\n",
    "import statsmodels.formula.api as smf\n",
    "import statsmodels.api as sm\n",
    "\n",
    "import scipy.stats\n",
    "from scipy.stats import entropy\n",
    "from scipy.stats import spearmanr\n",
    "from scipy.stats import zscore\n",
    "from sklearn.linear_model import LinearRegression\n",
    "from sklearn.metrics.pairwise import cosine_similarity\n",
    "from sklearn.metrics import mean_squared_error\n",
    "from sklearn.model_selection import train_test_split\n",
    "\n",
    "import xgboost as xgb"
   ]
  },
  {
   "cell_type": "code",
   "execution_count": 3,
   "id": "313bd45c-465f-4d10-93a2-294d5b1d4a75",
   "metadata": {},
   "outputs": [],
   "source": [
    "sys.path.append('../python')\n",
    "from permutation import permutation, compute_alignment_strength\n",
    "from utils.utils_funcs import get_variance, get_distinctness_from_nearest_5\n",
    "from utils.utils_funcs import load_data_to_dict"
   ]
  },
  {
   "cell_type": "code",
   "execution_count": 4,
   "id": "2427b905-ce16-46f9-a9a3-eb2f94d3713b",
   "metadata": {},
   "outputs": [],
   "source": [
    "# aggregate both visual embeddings and language embeddings\n",
    "def aggregate_embeddings_visual_and_language(input_struct,n_sample_per_visual,n_sample_per_language):\n",
    "\twords=input_struct['words']\n",
    "\tembed_dict=dict()\n",
    "\tfor word in words:\n",
    "\t\tn_sample_v = min(len(input_struct['embeds'][word]['visual']), n_sample_per_visual)\n",
    "\t\tvisual_temp=np.mean(np.array(random.sample(input_struct['embeds'][word]['visual'],n_sample_v)),axis=0)\n",
    "\t\tn_sample_l = min(len(input_struct['embeds'][word]['language']), n_sample_per_language)\n",
    "\t\tlanguage_temp=np.mean(np.array(random.sample(input_struct['embeds'][word]['language'],n_sample_l)),axis=0)\n",
    "\t\t#embed_dict[word]=dict(visual=np.expand_dims(visual_temp,axis=0),language=language_temp)\n",
    "\t\tembed_dict[word]=dict(visual=visual_temp,language=np.squeeze(language_temp))\n",
    "\treturn dict(embeds=embed_dict,words=words)"
   ]
  },
  {
   "cell_type": "code",
   "execution_count": 5,
   "id": "4e57712d-fe65-480f-adf4-7b9caf29f21a",
   "metadata": {},
   "outputs": [],
   "source": [
    "def get_concept_level_alignment_strength(struct,concepts,targets):\n",
    "    visual_embeddings_list=list()\n",
    "    langauge_embeddings_list=list()\n",
    "    for concept in concepts:\n",
    "        embeddings=struct[\"embeds\"][concept]\n",
    "        visual_embeddings_list.append(embeddings[\"visual\"])\n",
    "        langauge_embeddings_list.append(embeddings[\"language\"])\n",
    "    z_0=np.array(visual_embeddings_list)\n",
    "    z_1=np.array(langauge_embeddings_list)\n",
    "    sim_z_0=cosine_similarity(z_0)\n",
    "    sim_z_1=cosine_similarity(z_1)\n",
    "    rt=list()\n",
    "    for target in targets:\n",
    "        idx=concepts.index(target)\n",
    "        rt.append(spearmanr(sim_z_0[idx],sim_z_1[idx])[0])\n",
    "    return rt"
   ]
  },
  {
   "cell_type": "code",
   "execution_count": 6,
   "id": "7d0f1f4c-a695-4086-861b-78244228dcc3",
   "metadata": {},
   "outputs": [],
   "source": [
    "def get_variance(struct):\n",
    "    words=struct[\"words\"]\n",
    "    visual_variability=dict()\n",
    "    language_variance=dict()\n",
    "    for word in words:\n",
    "        visual_embeddings=struct[\"embeds\"][word][\"visual\"]\n",
    "        visual_variability[word]=np.mean(np.linalg.norm(visual_embeddings-np.mean(visual_embeddings,axis=0),axis=1))\n",
    "        language_embeddings=struct[\"embeds\"][word][\"language\"]\n",
    "        language_variance[word]=np.mean(np.linalg.norm(language_embeddings-np.mean(language_embeddings,axis=0),axis=1))\n",
    "    return visual_variability,language_variance"
   ]
  },
  {
   "cell_type": "code",
   "execution_count": 7,
   "id": "24df0849-31c9-4d98-a047-0749e99648c3",
   "metadata": {},
   "outputs": [],
   "source": [
    "def get_distinctness_from_nearest_5(struct):\n",
    "    words=struct[\"words\"]\n",
    "    visual_centers=dict()\n",
    "    language_centers=dict()\n",
    "    for word in words:\n",
    "        visual_embeddings=np.array(struct[\"embeds\"][word][\"visual\"])\n",
    "        visual_centers[word]=np.mean(visual_embeddings,axis=0)\n",
    "        language_embeddings=np.array(struct[\"embeds\"][word][\"language\"])\n",
    "        language_centers[word]=np.mean(language_embeddings,axis=0)\n",
    "    visual_discriminability=dict()\n",
    "    language_distinctness=dict()\n",
    "    for word in words:\n",
    "        visual_distances=[np.linalg.norm(visual_centers[word]-visual_centers[temp]) for temp in words]\n",
    "        visual_discriminability[word]=np.sum(sorted(visual_distances)[:6])/5\n",
    "        language_distances=[np.linalg.norm(language_centers[word]-language_centers[temp]) for temp in words]\n",
    "        language_distinctness[word]=np.sum(sorted(language_distances)[:6])/5\n",
    "    return visual_discriminability,language_distinctness"
   ]
  },
  {
   "cell_type": "code",
   "execution_count": 8,
   "id": "076d3eac-5e7a-4bc0-abfe-4b92e84e2501",
   "metadata": {},
   "outputs": [],
   "source": [
    "def combine_all_data_2(data,aoa_dict,v_var_dict,l_var_dict,v_dist_dict,l_dist_dict):\n",
    "    aoas=list()\n",
    "    v_vars=list()\n",
    "    l_vars=list()\n",
    "    v_dists=list()\n",
    "    l_dists=list()\n",
    "    \n",
    "    intersect_concepts=list()\n",
    "    for concept in aoa_dict:\n",
    "        if concept in data['words']:\n",
    "            aoas.append(aoa_dict[concept])\n",
    "            v_vars.append(v_var_dict[concept])\n",
    "            l_vars.append(l_var_dict[concept])\n",
    "            v_dists.append(v_dist_dict[concept])\n",
    "            l_dists.append(l_dist_dict[concept])\n",
    "            intersect_concepts.append(concept)\n",
    "    alignments=get_concept_level_alignment_strength(data,data['words'],intersect_concepts)\n",
    "    return aoas,alignments,v_vars,l_vars,v_dists,l_dists"
   ]
  },
  {
   "cell_type": "code",
   "execution_count": null,
   "id": "9e6b81db-53db-4799-97ba-7c778c20e1be",
   "metadata": {},
   "outputs": [],
   "source": [
    "def combine_all_data(data,aoa_dict,v_var_dict,l_var_dict,v_dist_dict,l_dist_dict,freq_dict):\n",
    "    aoas=list()\n",
    "    v_vars=list()\n",
    "    l_vars=list()\n",
    "    v_dists=list()\n",
    "    l_dists=list()\n",
    "    freqs=list()\n",
    "    \n",
    "    intersect_concepts=list()\n",
    "    for concept in aoa_dict:\n",
    "        if concept in data['words']:\n",
    "            aoas.append(aoa_dict[concept])\n",
    "            v_vars.append(v_var_dict[concept])\n",
    "            l_vars.append(l_var_dict[concept])\n",
    "            v_dists.append(v_dist_dict[concept])\n",
    "            l_dists.append(l_dist_dict[concept])\n",
    "            intersect_concepts.append(concept)\n",
    "    alignments=get_concept_level_alignment_strength(data,data['words'],intersect_concepts)\n",
    "    return aoas,alignments,v_vars,l_vars,v_dists,l_dists"
   ]
  },
  {
   "cell_type": "code",
   "execution_count": 9,
   "id": "325b5b79-7792-40dc-949e-e1d7da54694f",
   "metadata": {},
   "outputs": [],
   "source": [
    "vg_noun_data=pickle.load(open(\"../data/dumped_embeddings/vg_noun_swav_bert_window5_20.pkl\",\"rb\"))\n",
    "vg_verb_data=pickle.load(open(\"../data/dumped_embeddings/vg_verb_swav_bert_window5_20.pkl\",\"rb\"))\n",
    "\n",
    "aggregated_vg_noun_data=aggregate_embeddings_visual_and_language(vg_noun_data,20,20)\n",
    "aggregated_vg_verb_data=aggregate_embeddings_visual_and_language(vg_verb_data,20,20)"
   ]
  },
  {
   "cell_type": "code",
   "execution_count": 10,
   "id": "f036353c-5fce-475e-8ab7-88370ffce4ec",
   "metadata": {
    "tags": []
   },
   "outputs": [],
   "source": [
    "# vg_noun_data=pickle.load(open(\"../data/dumped_embeddings/vg_noun_ll_swav_bert_20.pkl\",\"rb\"))\n",
    "# vg_verb_data=pickle.load(open(\"../data/dumped_embeddings/vg_verb_ll_swav_bert_20.pkl\",\"rb\"))\n",
    "\n",
    "# aggregated_vg_noun_data=aggregate_embeddings_visual_and_language(vg_noun_data,20,20)\n",
    "# aggregated_vg_verb_data=aggregate_embeddings_visual_and_language(vg_verb_data,20,20)"
   ]
  },
  {
   "cell_type": "code",
   "execution_count": 11,
   "id": "e188a119-a725-4b53-9028-cbf133a2ed60",
   "metadata": {},
   "outputs": [],
   "source": [
    "# vg_noun_data=pickle.load(open(\"../data/dumped_embeddings/vg_noun_concept_least20_swav_bert_20.pkl\",\"rb\"))\n",
    "# vg_verb_data=pickle.load(open(\"../data/dumped_embeddings/vg_verb_concept_least20_swav_bert_20.pkl\",\"rb\"))\n",
    "\n",
    "# aggregated_vg_noun_data=aggregate_embeddings_visual_and_language(vg_noun_data,20,20)\n",
    "# aggregated_vg_verb_data=aggregate_embeddings_visual_and_language(vg_verb_data,20,20)"
   ]
  },
  {
   "cell_type": "code",
   "execution_count": 12,
   "id": "2d1f4578-e215-417c-9a85-765fd22291eb",
   "metadata": {},
   "outputs": [],
   "source": [
    "# vg_noun_data=pickle.load(open(\"../data/dumped_embeddings/vg_noun_concept_least20_swav_glove_20.pkl\",\"rb\"))\n",
    "# vg_verb_data=pickle.load(open(\"../data/dumped_embeddings/vg_verb_concept_least20_swav_glove_20.pkl\",\"rb\"))\n",
    "\n",
    "# aggregated_vg_noun_data=aggregate_embeddings_visual_and_language(vg_noun_data,20,1)\n",
    "# aggregated_vg_verb_data=aggregate_embeddings_visual_and_language(vg_verb_data,20,1)"
   ]
  },
  {
   "cell_type": "markdown",
   "id": "d68145fb-0604-4866-bc8f-5843b16c0617",
   "metadata": {},
   "source": [
    "----"
   ]
  },
  {
   "cell_type": "code",
   "execution_count": 13,
   "id": "f59803b3-7e73-4b39-a1a8-68700254f714",
   "metadata": {},
   "outputs": [],
   "source": [
    "noun_aoa_dict=load_data_to_dict(\"../data/processed/aoa/kuperman_noun_aoa.txt\",concepts=vg_noun_data[\"words\"])\n",
    "verb_aoa_dict=load_data_to_dict(\"../data/processed/aoa/kuperman_verb_aoa.txt\",concepts=vg_verb_data[\"words\"])\n",
    "\n",
    "noun_aoa_sorted = sorted(noun_aoa_dict.items(), key=operator.itemgetter(1))\n",
    "verb_aoa_sorted = sorted(verb_aoa_dict.items(), key=operator.itemgetter(1))"
   ]
  },
  {
   "cell_type": "code",
   "execution_count": 14,
   "id": "804b6885-2932-4a85-bf2e-5a0bb2b69e5c",
   "metadata": {},
   "outputs": [],
   "source": [
    "# noun_aoa_dict=load_data_to_dict(\"../data/processed/aoa/wordbank_noun_aoa.txt\",concepts=vg_noun_data[\"words\"])\n",
    "# verb_aoa_dict=load_data_to_dict(\"../data/processed/aoa/wordbank_verb_aoa.txt\",concepts=vg_verb_data[\"words\"])\n",
    "\n",
    "# noun_aoa_sorted = sorted(noun_aoa_dict.items(), key=operator.itemgetter(1))\n",
    "# verb_aoa_sorted = sorted(verb_aoa_dict.items(), key=operator.itemgetter(1))"
   ]
  },
  {
   "cell_type": "code",
   "execution_count": 15,
   "id": "a42c350a-20e7-44ad-a146-db655db94aaa",
   "metadata": {},
   "outputs": [],
   "source": [
    "# noun_aoa_dict=load_data_to_dict(\"../data/processed/aoa/glasgow_noun_aoa.txt\",concepts=vg_noun_data[\"words\"])\n",
    "# verb_aoa_dict=load_data_to_dict(\"../data/processed/aoa/glasgow_verb_aoa.txt\",concepts=vg_verb_data[\"words\"])\n",
    "\n",
    "# noun_aoa_sorted = sorted(noun_aoa_dict.items(), key=operator.itemgetter(1))\n",
    "# verb_aoa_sorted = sorted(verb_aoa_dict.items(), key=operator.itemgetter(1))"
   ]
  },
  {
   "cell_type": "markdown",
   "id": "fd263e14-ae72-4b38-8c83-6d0c4b1a837d",
   "metadata": {},
   "source": [
    "----"
   ]
  },
  {
   "cell_type": "code",
   "execution_count": 16,
   "id": "5e7b6040-0d3b-48ba-9a88-eede489d4d15",
   "metadata": {},
   "outputs": [],
   "source": [
    "noun_visual_variability,noun_language_variance=get_variance(vg_noun_data)\n",
    "verb_visual_variability,verb_language_variance=get_variance(vg_verb_data)"
   ]
  },
  {
   "cell_type": "code",
   "execution_count": 17,
   "id": "6d667f9a-e739-41ad-a679-f8a3753fe511",
   "metadata": {},
   "outputs": [],
   "source": [
    "noun_visual_discriminability,noun_language_distinctness=get_distinctness_from_nearest_5(vg_noun_data)\n",
    "verb_visual_discriminability,verb_language_distinctness=get_distinctness_from_nearest_5(vg_verb_data)"
   ]
  },
  {
   "cell_type": "markdown",
   "id": "1164d361-c662-4268-b420-d90085ce401c",
   "metadata": {},
   "source": [
    "----"
   ]
  },
  {
   "cell_type": "code",
   "execution_count": 18,
   "id": "48f15dc3-15ef-4b9d-a227-d7f78b1b7f29",
   "metadata": {},
   "outputs": [],
   "source": [
    "aoas,alignments,v_vars,l_vars,v_dists,l_dists=combine_all_data(aggregated_vg_noun_data,noun_aoa_dict,\n",
    "                                                              noun_visual_variability,noun_language_variance,\n",
    "                                                              noun_visual_discriminability,noun_language_distinctness)"
   ]
  },
  {
   "cell_type": "code",
   "execution_count": 19,
   "id": "5a7b658b-f46a-4761-bbb0-983d5a305381",
   "metadata": {},
   "outputs": [],
   "source": [
    "df1=pd.DataFrame(data=np.transpose(np.array([aoas,alignments,v_vars,l_vars,v_dists,l_dists])),columns=['aoa','alignment','v_variability','l_variability','v_discriminability','l_discriminability'])\n",
    "df1['type']='noun'"
   ]
  },
  {
   "cell_type": "code",
   "execution_count": 20,
   "id": "c22d5b8e-791b-447b-a2c7-f8f9dd033b51",
   "metadata": {
    "tags": []
   },
   "outputs": [
    {
     "data": {
      "text/html": [
       "<div>\n",
       "<style scoped>\n",
       "    .dataframe tbody tr th:only-of-type {\n",
       "        vertical-align: middle;\n",
       "    }\n",
       "\n",
       "    .dataframe tbody tr th {\n",
       "        vertical-align: top;\n",
       "    }\n",
       "\n",
       "    .dataframe thead th {\n",
       "        text-align: right;\n",
       "    }\n",
       "</style>\n",
       "<table border=\"1\" class=\"dataframe\">\n",
       "  <thead>\n",
       "    <tr style=\"text-align: right;\">\n",
       "      <th></th>\n",
       "      <th>aoa</th>\n",
       "      <th>alignment</th>\n",
       "      <th>v_variability</th>\n",
       "      <th>l_variability</th>\n",
       "      <th>v_discriminability</th>\n",
       "      <th>l_discriminability</th>\n",
       "      <th>type</th>\n",
       "    </tr>\n",
       "  </thead>\n",
       "  <tbody>\n",
       "    <tr>\n",
       "      <th>0</th>\n",
       "      <td>3.94</td>\n",
       "      <td>0.217737</td>\n",
       "      <td>0.859551</td>\n",
       "      <td>0.295025</td>\n",
       "      <td>0.361048</td>\n",
       "      <td>8.626495</td>\n",
       "      <td>noun</td>\n",
       "    </tr>\n",
       "    <tr>\n",
       "      <th>1</th>\n",
       "      <td>3.94</td>\n",
       "      <td>0.235367</td>\n",
       "      <td>0.593261</td>\n",
       "      <td>0.200954</td>\n",
       "      <td>0.627667</td>\n",
       "      <td>8.671186</td>\n",
       "      <td>noun</td>\n",
       "    </tr>\n",
       "    <tr>\n",
       "      <th>2</th>\n",
       "      <td>2.89</td>\n",
       "      <td>0.317529</td>\n",
       "      <td>0.870794</td>\n",
       "      <td>0.232416</td>\n",
       "      <td>0.418797</td>\n",
       "      <td>8.459664</td>\n",
       "      <td>noun</td>\n",
       "    </tr>\n",
       "    <tr>\n",
       "      <th>3</th>\n",
       "      <td>4.15</td>\n",
       "      <td>0.153757</td>\n",
       "      <td>0.742962</td>\n",
       "      <td>0.238987</td>\n",
       "      <td>0.441333</td>\n",
       "      <td>8.855353</td>\n",
       "      <td>noun</td>\n",
       "    </tr>\n",
       "    <tr>\n",
       "      <th>4</th>\n",
       "      <td>3.26</td>\n",
       "      <td>0.357621</td>\n",
       "      <td>0.835725</td>\n",
       "      <td>0.235835</td>\n",
       "      <td>0.296650</td>\n",
       "      <td>7.827719</td>\n",
       "      <td>noun</td>\n",
       "    </tr>\n",
       "    <tr>\n",
       "      <th>...</th>\n",
       "      <td>...</td>\n",
       "      <td>...</td>\n",
       "      <td>...</td>\n",
       "      <td>...</td>\n",
       "      <td>...</td>\n",
       "      <td>...</td>\n",
       "      <td>...</td>\n",
       "    </tr>\n",
       "    <tr>\n",
       "      <th>202</th>\n",
       "      <td>4.58</td>\n",
       "      <td>0.211939</td>\n",
       "      <td>0.912326</td>\n",
       "      <td>0.244061</td>\n",
       "      <td>0.359449</td>\n",
       "      <td>8.217980</td>\n",
       "      <td>noun</td>\n",
       "    </tr>\n",
       "    <tr>\n",
       "      <th>203</th>\n",
       "      <td>4.42</td>\n",
       "      <td>0.196053</td>\n",
       "      <td>0.736928</td>\n",
       "      <td>0.244147</td>\n",
       "      <td>0.322387</td>\n",
       "      <td>8.973331</td>\n",
       "      <td>noun</td>\n",
       "    </tr>\n",
       "    <tr>\n",
       "      <th>204</th>\n",
       "      <td>5.94</td>\n",
       "      <td>0.330452</td>\n",
       "      <td>0.603568</td>\n",
       "      <td>0.227072</td>\n",
       "      <td>0.251161</td>\n",
       "      <td>8.387299</td>\n",
       "      <td>noun</td>\n",
       "    </tr>\n",
       "    <tr>\n",
       "      <th>205</th>\n",
       "      <td>4.77</td>\n",
       "      <td>0.097514</td>\n",
       "      <td>0.761205</td>\n",
       "      <td>0.228313</td>\n",
       "      <td>0.368581</td>\n",
       "      <td>8.701978</td>\n",
       "      <td>noun</td>\n",
       "    </tr>\n",
       "    <tr>\n",
       "      <th>206</th>\n",
       "      <td>4.79</td>\n",
       "      <td>0.107134</td>\n",
       "      <td>0.356398</td>\n",
       "      <td>0.208759</td>\n",
       "      <td>0.802770</td>\n",
       "      <td>8.223269</td>\n",
       "      <td>noun</td>\n",
       "    </tr>\n",
       "  </tbody>\n",
       "</table>\n",
       "<p>207 rows × 7 columns</p>\n",
       "</div>"
      ],
      "text/plain": [
       "      aoa  alignment  v_variability  l_variability  v_discriminability  \\\n",
       "0    3.94   0.217737       0.859551       0.295025            0.361048   \n",
       "1    3.94   0.235367       0.593261       0.200954            0.627667   \n",
       "2    2.89   0.317529       0.870794       0.232416            0.418797   \n",
       "3    4.15   0.153757       0.742962       0.238987            0.441333   \n",
       "4    3.26   0.357621       0.835725       0.235835            0.296650   \n",
       "..    ...        ...            ...            ...                 ...   \n",
       "202  4.58   0.211939       0.912326       0.244061            0.359449   \n",
       "203  4.42   0.196053       0.736928       0.244147            0.322387   \n",
       "204  5.94   0.330452       0.603568       0.227072            0.251161   \n",
       "205  4.77   0.097514       0.761205       0.228313            0.368581   \n",
       "206  4.79   0.107134       0.356398       0.208759            0.802770   \n",
       "\n",
       "     l_discriminability  type  \n",
       "0              8.626495  noun  \n",
       "1              8.671186  noun  \n",
       "2              8.459664  noun  \n",
       "3              8.855353  noun  \n",
       "4              7.827719  noun  \n",
       "..                  ...   ...  \n",
       "202            8.217980  noun  \n",
       "203            8.973331  noun  \n",
       "204            8.387299  noun  \n",
       "205            8.701978  noun  \n",
       "206            8.223269  noun  \n",
       "\n",
       "[207 rows x 7 columns]"
      ]
     },
     "execution_count": 20,
     "metadata": {},
     "output_type": "execute_result"
    }
   ],
   "source": [
    "df1"
   ]
  },
  {
   "cell_type": "code",
   "execution_count": 21,
   "id": "02d19f87-0104-467c-b46a-7083fc35d0d2",
   "metadata": {},
   "outputs": [],
   "source": [
    "aoas,alignments,v_vars,l_vars,v_dists,l_dists=combine_all_data(aggregated_vg_verb_data,verb_aoa_dict,\n",
    "                                                              verb_visual_variability,verb_language_variance,\n",
    "                                                              verb_visual_discriminability,verb_language_distinctness)"
   ]
  },
  {
   "cell_type": "code",
   "execution_count": 22,
   "id": "e6e1f405-4b78-47fa-bc1f-943d455073bd",
   "metadata": {},
   "outputs": [],
   "source": [
    "df2=pd.DataFrame(data=np.transpose(np.array([aoas,alignments,v_vars,l_vars,v_dists,l_dists])),columns=['aoa','alignment','v_variability','l_variability','v_discriminability','l_discriminability'])\n",
    "df2['type']='verb'"
   ]
  },
  {
   "cell_type": "code",
   "execution_count": 23,
   "id": "18b646a5-7a17-4b8e-8ed8-3fc074a8d1bc",
   "metadata": {
    "tags": []
   },
   "outputs": [
    {
     "data": {
      "text/html": [
       "<div>\n",
       "<style scoped>\n",
       "    .dataframe tbody tr th:only-of-type {\n",
       "        vertical-align: middle;\n",
       "    }\n",
       "\n",
       "    .dataframe tbody tr th {\n",
       "        vertical-align: top;\n",
       "    }\n",
       "\n",
       "    .dataframe thead th {\n",
       "        text-align: right;\n",
       "    }\n",
       "</style>\n",
       "<table border=\"1\" class=\"dataframe\">\n",
       "  <thead>\n",
       "    <tr style=\"text-align: right;\">\n",
       "      <th></th>\n",
       "      <th>aoa</th>\n",
       "      <th>alignment</th>\n",
       "      <th>v_variability</th>\n",
       "      <th>l_variability</th>\n",
       "      <th>v_discriminability</th>\n",
       "      <th>l_discriminability</th>\n",
       "      <th>type</th>\n",
       "    </tr>\n",
       "  </thead>\n",
       "  <tbody>\n",
       "    <tr>\n",
       "      <th>0</th>\n",
       "      <td>13.36</td>\n",
       "      <td>0.154660</td>\n",
       "      <td>0.825772</td>\n",
       "      <td>0.153138</td>\n",
       "      <td>0.492119</td>\n",
       "      <td>9.991625</td>\n",
       "      <td>verb</td>\n",
       "    </tr>\n",
       "    <tr>\n",
       "      <th>1</th>\n",
       "      <td>8.53</td>\n",
       "      <td>0.088723</td>\n",
       "      <td>0.862767</td>\n",
       "      <td>0.217756</td>\n",
       "      <td>0.319524</td>\n",
       "      <td>8.425980</td>\n",
       "      <td>verb</td>\n",
       "    </tr>\n",
       "    <tr>\n",
       "      <th>2</th>\n",
       "      <td>5.10</td>\n",
       "      <td>0.113732</td>\n",
       "      <td>0.772262</td>\n",
       "      <td>0.236029</td>\n",
       "      <td>0.518686</td>\n",
       "      <td>8.071630</td>\n",
       "      <td>verb</td>\n",
       "    </tr>\n",
       "    <tr>\n",
       "      <th>3</th>\n",
       "      <td>8.43</td>\n",
       "      <td>0.085468</td>\n",
       "      <td>0.874238</td>\n",
       "      <td>0.196295</td>\n",
       "      <td>0.313468</td>\n",
       "      <td>8.182177</td>\n",
       "      <td>verb</td>\n",
       "    </tr>\n",
       "    <tr>\n",
       "      <th>4</th>\n",
       "      <td>9.63</td>\n",
       "      <td>0.265958</td>\n",
       "      <td>0.828123</td>\n",
       "      <td>0.145860</td>\n",
       "      <td>0.360399</td>\n",
       "      <td>10.526436</td>\n",
       "      <td>verb</td>\n",
       "    </tr>\n",
       "    <tr>\n",
       "      <th>...</th>\n",
       "      <td>...</td>\n",
       "      <td>...</td>\n",
       "      <td>...</td>\n",
       "      <td>...</td>\n",
       "      <td>...</td>\n",
       "      <td>...</td>\n",
       "      <td>...</td>\n",
       "    </tr>\n",
       "    <tr>\n",
       "      <th>202</th>\n",
       "      <td>4.63</td>\n",
       "      <td>0.137376</td>\n",
       "      <td>0.846328</td>\n",
       "      <td>0.258009</td>\n",
       "      <td>0.297241</td>\n",
       "      <td>8.541475</td>\n",
       "      <td>verb</td>\n",
       "    </tr>\n",
       "    <tr>\n",
       "      <th>203</th>\n",
       "      <td>7.11</td>\n",
       "      <td>0.183319</td>\n",
       "      <td>0.920983</td>\n",
       "      <td>0.209003</td>\n",
       "      <td>0.316375</td>\n",
       "      <td>7.801135</td>\n",
       "      <td>verb</td>\n",
       "    </tr>\n",
       "    <tr>\n",
       "      <th>204</th>\n",
       "      <td>5.86</td>\n",
       "      <td>0.189100</td>\n",
       "      <td>0.822247</td>\n",
       "      <td>0.253786</td>\n",
       "      <td>0.311517</td>\n",
       "      <td>7.794843</td>\n",
       "      <td>verb</td>\n",
       "    </tr>\n",
       "    <tr>\n",
       "      <th>205</th>\n",
       "      <td>4.89</td>\n",
       "      <td>0.024849</td>\n",
       "      <td>0.924379</td>\n",
       "      <td>0.206177</td>\n",
       "      <td>0.311869</td>\n",
       "      <td>7.851201</td>\n",
       "      <td>verb</td>\n",
       "    </tr>\n",
       "    <tr>\n",
       "      <th>206</th>\n",
       "      <td>3.20</td>\n",
       "      <td>0.051923</td>\n",
       "      <td>0.915617</td>\n",
       "      <td>0.256358</td>\n",
       "      <td>0.320917</td>\n",
       "      <td>8.500342</td>\n",
       "      <td>verb</td>\n",
       "    </tr>\n",
       "  </tbody>\n",
       "</table>\n",
       "<p>207 rows × 7 columns</p>\n",
       "</div>"
      ],
      "text/plain": [
       "       aoa  alignment  v_variability  l_variability  v_discriminability  \\\n",
       "0    13.36   0.154660       0.825772       0.153138            0.492119   \n",
       "1     8.53   0.088723       0.862767       0.217756            0.319524   \n",
       "2     5.10   0.113732       0.772262       0.236029            0.518686   \n",
       "3     8.43   0.085468       0.874238       0.196295            0.313468   \n",
       "4     9.63   0.265958       0.828123       0.145860            0.360399   \n",
       "..     ...        ...            ...            ...                 ...   \n",
       "202   4.63   0.137376       0.846328       0.258009            0.297241   \n",
       "203   7.11   0.183319       0.920983       0.209003            0.316375   \n",
       "204   5.86   0.189100       0.822247       0.253786            0.311517   \n",
       "205   4.89   0.024849       0.924379       0.206177            0.311869   \n",
       "206   3.20   0.051923       0.915617       0.256358            0.320917   \n",
       "\n",
       "     l_discriminability  type  \n",
       "0              9.991625  verb  \n",
       "1              8.425980  verb  \n",
       "2              8.071630  verb  \n",
       "3              8.182177  verb  \n",
       "4             10.526436  verb  \n",
       "..                  ...   ...  \n",
       "202            8.541475  verb  \n",
       "203            7.801135  verb  \n",
       "204            7.794843  verb  \n",
       "205            7.851201  verb  \n",
       "206            8.500342  verb  \n",
       "\n",
       "[207 rows x 7 columns]"
      ]
     },
     "execution_count": 23,
     "metadata": {},
     "output_type": "execute_result"
    }
   ],
   "source": [
    "df2"
   ]
  },
  {
   "cell_type": "code",
   "execution_count": 24,
   "id": "7140cc46-3755-427c-8f73-e31b1abc7de4",
   "metadata": {},
   "outputs": [],
   "source": [
    "df=pd.concat([df1,df2])"
   ]
  },
  {
   "cell_type": "code",
   "execution_count": 25,
   "id": "398d3669-4a17-4f21-a206-201c8247f40c",
   "metadata": {
    "tags": []
   },
   "outputs": [
    {
     "data": {
      "text/html": [
       "<div>\n",
       "<style scoped>\n",
       "    .dataframe tbody tr th:only-of-type {\n",
       "        vertical-align: middle;\n",
       "    }\n",
       "\n",
       "    .dataframe tbody tr th {\n",
       "        vertical-align: top;\n",
       "    }\n",
       "\n",
       "    .dataframe thead th {\n",
       "        text-align: right;\n",
       "    }\n",
       "</style>\n",
       "<table border=\"1\" class=\"dataframe\">\n",
       "  <thead>\n",
       "    <tr style=\"text-align: right;\">\n",
       "      <th></th>\n",
       "      <th>aoa</th>\n",
       "      <th>alignment</th>\n",
       "      <th>v_variability</th>\n",
       "      <th>l_variability</th>\n",
       "      <th>v_discriminability</th>\n",
       "      <th>l_discriminability</th>\n",
       "      <th>type</th>\n",
       "    </tr>\n",
       "  </thead>\n",
       "  <tbody>\n",
       "    <tr>\n",
       "      <th>0</th>\n",
       "      <td>3.94</td>\n",
       "      <td>0.217737</td>\n",
       "      <td>0.859551</td>\n",
       "      <td>0.295025</td>\n",
       "      <td>0.361048</td>\n",
       "      <td>8.626495</td>\n",
       "      <td>noun</td>\n",
       "    </tr>\n",
       "    <tr>\n",
       "      <th>1</th>\n",
       "      <td>3.94</td>\n",
       "      <td>0.235367</td>\n",
       "      <td>0.593261</td>\n",
       "      <td>0.200954</td>\n",
       "      <td>0.627667</td>\n",
       "      <td>8.671186</td>\n",
       "      <td>noun</td>\n",
       "    </tr>\n",
       "    <tr>\n",
       "      <th>2</th>\n",
       "      <td>2.89</td>\n",
       "      <td>0.317529</td>\n",
       "      <td>0.870794</td>\n",
       "      <td>0.232416</td>\n",
       "      <td>0.418797</td>\n",
       "      <td>8.459664</td>\n",
       "      <td>noun</td>\n",
       "    </tr>\n",
       "    <tr>\n",
       "      <th>3</th>\n",
       "      <td>4.15</td>\n",
       "      <td>0.153757</td>\n",
       "      <td>0.742962</td>\n",
       "      <td>0.238987</td>\n",
       "      <td>0.441333</td>\n",
       "      <td>8.855353</td>\n",
       "      <td>noun</td>\n",
       "    </tr>\n",
       "    <tr>\n",
       "      <th>4</th>\n",
       "      <td>3.26</td>\n",
       "      <td>0.357621</td>\n",
       "      <td>0.835725</td>\n",
       "      <td>0.235835</td>\n",
       "      <td>0.296650</td>\n",
       "      <td>7.827719</td>\n",
       "      <td>noun</td>\n",
       "    </tr>\n",
       "    <tr>\n",
       "      <th>...</th>\n",
       "      <td>...</td>\n",
       "      <td>...</td>\n",
       "      <td>...</td>\n",
       "      <td>...</td>\n",
       "      <td>...</td>\n",
       "      <td>...</td>\n",
       "      <td>...</td>\n",
       "    </tr>\n",
       "    <tr>\n",
       "      <th>202</th>\n",
       "      <td>4.63</td>\n",
       "      <td>0.137376</td>\n",
       "      <td>0.846328</td>\n",
       "      <td>0.258009</td>\n",
       "      <td>0.297241</td>\n",
       "      <td>8.541475</td>\n",
       "      <td>verb</td>\n",
       "    </tr>\n",
       "    <tr>\n",
       "      <th>203</th>\n",
       "      <td>7.11</td>\n",
       "      <td>0.183319</td>\n",
       "      <td>0.920983</td>\n",
       "      <td>0.209003</td>\n",
       "      <td>0.316375</td>\n",
       "      <td>7.801135</td>\n",
       "      <td>verb</td>\n",
       "    </tr>\n",
       "    <tr>\n",
       "      <th>204</th>\n",
       "      <td>5.86</td>\n",
       "      <td>0.189100</td>\n",
       "      <td>0.822247</td>\n",
       "      <td>0.253786</td>\n",
       "      <td>0.311517</td>\n",
       "      <td>7.794843</td>\n",
       "      <td>verb</td>\n",
       "    </tr>\n",
       "    <tr>\n",
       "      <th>205</th>\n",
       "      <td>4.89</td>\n",
       "      <td>0.024849</td>\n",
       "      <td>0.924379</td>\n",
       "      <td>0.206177</td>\n",
       "      <td>0.311869</td>\n",
       "      <td>7.851201</td>\n",
       "      <td>verb</td>\n",
       "    </tr>\n",
       "    <tr>\n",
       "      <th>206</th>\n",
       "      <td>3.20</td>\n",
       "      <td>0.051923</td>\n",
       "      <td>0.915617</td>\n",
       "      <td>0.256358</td>\n",
       "      <td>0.320917</td>\n",
       "      <td>8.500342</td>\n",
       "      <td>verb</td>\n",
       "    </tr>\n",
       "  </tbody>\n",
       "</table>\n",
       "<p>414 rows × 7 columns</p>\n",
       "</div>"
      ],
      "text/plain": [
       "      aoa  alignment  v_variability  l_variability  v_discriminability  \\\n",
       "0    3.94   0.217737       0.859551       0.295025            0.361048   \n",
       "1    3.94   0.235367       0.593261       0.200954            0.627667   \n",
       "2    2.89   0.317529       0.870794       0.232416            0.418797   \n",
       "3    4.15   0.153757       0.742962       0.238987            0.441333   \n",
       "4    3.26   0.357621       0.835725       0.235835            0.296650   \n",
       "..    ...        ...            ...            ...                 ...   \n",
       "202  4.63   0.137376       0.846328       0.258009            0.297241   \n",
       "203  7.11   0.183319       0.920983       0.209003            0.316375   \n",
       "204  5.86   0.189100       0.822247       0.253786            0.311517   \n",
       "205  4.89   0.024849       0.924379       0.206177            0.311869   \n",
       "206  3.20   0.051923       0.915617       0.256358            0.320917   \n",
       "\n",
       "     l_discriminability  type  \n",
       "0              8.626495  noun  \n",
       "1              8.671186  noun  \n",
       "2              8.459664  noun  \n",
       "3              8.855353  noun  \n",
       "4              7.827719  noun  \n",
       "..                  ...   ...  \n",
       "202            8.541475  verb  \n",
       "203            7.801135  verb  \n",
       "204            7.794843  verb  \n",
       "205            7.851201  verb  \n",
       "206            8.500342  verb  \n",
       "\n",
       "[414 rows x 7 columns]"
      ]
     },
     "execution_count": 25,
     "metadata": {},
     "output_type": "execute_result"
    }
   ],
   "source": [
    "df"
   ]
  },
  {
   "cell_type": "code",
   "execution_count": 28,
   "id": "4dc3f183-6318-41c5-9555-20e9c115d4e1",
   "metadata": {},
   "outputs": [],
   "source": [
    "df['type']=df['type'].astype(\"category\")"
   ]
  },
  {
   "cell_type": "code",
   "execution_count": 29,
   "id": "4ec9196d-307f-4714-9ed8-c19106c766f5",
   "metadata": {},
   "outputs": [
    {
     "data": {
      "text/plain": [
       "aoa                    float64\n",
       "alignment              float64\n",
       "v_variability          float64\n",
       "l_variability          float64\n",
       "v_discriminability     float64\n",
       "l_discriminability     float64\n",
       "type                  category\n",
       "dtype: object"
      ]
     },
     "execution_count": 29,
     "metadata": {},
     "output_type": "execute_result"
    }
   ],
   "source": [
    "df.dtypes"
   ]
  },
  {
   "cell_type": "code",
   "execution_count": 30,
   "id": "c75e0a50-523a-4444-96e5-dd85b9a1432f",
   "metadata": {},
   "outputs": [],
   "source": [
    "x=df.iloc[:,1:]"
   ]
  },
  {
   "cell_type": "code",
   "execution_count": 31,
   "id": "2c28bc5c-e7e7-47c8-9e25-c9abafcbda8c",
   "metadata": {},
   "outputs": [],
   "source": [
    "y=df.iloc[:,:1]"
   ]
  },
  {
   "cell_type": "code",
   "execution_count": 32,
   "id": "ea7b465d-8ee2-4953-a433-978a73934e8c",
   "metadata": {},
   "outputs": [],
   "source": [
    "test_size=0.33\n",
    "X_train, X_test, y_train, y_test = train_test_split(x, y, test_size=test_size)"
   ]
  },
  {
   "cell_type": "code",
   "execution_count": 36,
   "id": "33ae7f2e-4da5-471d-be76-3523db33b282",
   "metadata": {},
   "outputs": [],
   "source": [
    "xg_reg = xgb.XGBRegressor(objective ='reg:linear', colsample_bytree = 0.3, learning_rate = 0.1,\n",
    "                max_depth = 5, alpha = 10, n_estimators = 10, tree_method=\"hist\", enable_categorical=True)"
   ]
  },
  {
   "cell_type": "code",
   "execution_count": 37,
   "id": "3a6dda8a-e07e-4436-a948-71e14291953c",
   "metadata": {},
   "outputs": [
    {
     "data": {
      "text/plain": [
       "XGBRegressor(alpha=10, base_score=None, booster=None, callbacks=None,\n",
       "             colsample_bylevel=None, colsample_bynode=None,\n",
       "             colsample_bytree=0.3, early_stopping_rounds=None,\n",
       "             enable_categorical=True, eval_metric=None, gamma=None, gpu_id=None,\n",
       "             grow_policy=None, importance_type=None,\n",
       "             interaction_constraints=None, learning_rate=0.1, max_bin=None,\n",
       "             max_cat_to_onehot=None, max_delta_step=None, max_depth=5,\n",
       "             max_leaves=None, min_child_weight=None, missing=nan,\n",
       "             monotone_constraints=None, n_estimators=10, n_jobs=None,\n",
       "             num_parallel_tree=None, objective='reg:linear', predictor=None,\n",
       "             random_state=None, ...)"
      ]
     },
     "execution_count": 37,
     "metadata": {},
     "output_type": "execute_result"
    }
   ],
   "source": [
    "xg_reg"
   ]
  },
  {
   "cell_type": "code",
   "execution_count": 38,
   "id": "9f4cd98d-7d9b-4a1f-9b0d-c3a91bd3be73",
   "metadata": {},
   "outputs": [
    {
     "name": "stdout",
     "output_type": "stream",
     "text": [
      "[09:58:46] WARNING: /Users/runner/work/xgboost/xgboost/python-package/build/temp.macosx-11.0-arm64-3.8/xgboost/src/objective/regression_obj.cu:203: reg:linear is now deprecated in favor of reg:squarederror.\n"
     ]
    }
   ],
   "source": [
    "xg_reg.fit(X_train,y_train)\n",
    "\n",
    "preds = xg_reg.predict(X_test)"
   ]
  },
  {
   "cell_type": "code",
   "execution_count": 39,
   "id": "b38b96f9-e848-4eb3-9d90-d338f123b156",
   "metadata": {},
   "outputs": [
    {
     "data": {
      "text/plain": [
       "array([3.623076 , 4.0302052, 3.623076 , 3.623076 , 3.623076 , 4.0302052,\n",
       "       4.0302052, 3.623076 , 3.623076 , 3.623076 , 3.3978748, 4.0302052,\n",
       "       4.0302052, 4.0302052, 4.0302052, 3.623076 , 3.623076 , 3.623076 ,\n",
       "       4.0302052, 3.623076 , 3.623076 , 3.623076 , 3.623076 , 3.623076 ,\n",
       "       3.623076 , 3.623076 , 4.0302052, 3.623076 , 4.0302052, 4.0302052,\n",
       "       3.623076 , 4.0302052, 3.623076 , 4.0302052, 3.623076 , 4.0302052,\n",
       "       4.0302052, 4.0302052, 3.3978748, 3.623076 , 3.3978748, 4.0302052,\n",
       "       3.623076 , 4.0302052, 3.623076 , 3.828522 , 3.623076 , 3.623076 ,\n",
       "       3.623076 , 4.0302052, 4.0302052, 3.623076 , 3.623076 , 4.0302052,\n",
       "       3.623076 , 3.623076 , 4.0302052, 4.0302052, 4.0302052, 4.0302052,\n",
       "       3.623076 , 4.0302052, 4.0302052, 4.0302052, 4.0302052, 4.0302052,\n",
       "       3.623076 , 4.0302052, 4.0302052, 4.0302052, 3.623076 , 4.0302052,\n",
       "       4.0302052, 3.623076 , 4.0302052, 3.623076 , 3.623076 , 3.623076 ,\n",
       "       4.0302052, 4.0302052, 3.3978748, 4.0302052, 3.623076 , 3.623076 ,\n",
       "       4.0302052, 3.623076 , 4.0302052, 3.623076 , 3.623076 , 4.0302052,\n",
       "       3.623076 , 4.0302052, 4.0302052, 4.0302052, 4.0302052, 3.623076 ,\n",
       "       3.623076 , 3.623076 , 4.0302052, 4.0302052, 3.623076 , 4.0302052,\n",
       "       3.3486915, 3.623076 , 4.0302052, 4.0302052, 4.0302052, 3.623076 ,\n",
       "       3.623076 , 3.623076 , 4.0302052, 3.623076 , 4.0302052, 3.623076 ,\n",
       "       3.623076 , 4.0302052, 3.623076 , 4.0302052, 4.0302052, 3.623076 ,\n",
       "       4.0302052, 3.623076 , 3.623076 , 3.623076 , 3.623076 , 3.623076 ,\n",
       "       3.623076 , 3.623076 , 4.0302052, 4.0302052, 3.623076 , 4.0302052,\n",
       "       4.0302052, 3.623076 , 4.0302052, 4.0302052, 4.0302052],\n",
       "      dtype=float32)"
      ]
     },
     "execution_count": 39,
     "metadata": {},
     "output_type": "execute_result"
    }
   ],
   "source": [
    "preds"
   ]
  },
  {
   "cell_type": "code",
   "execution_count": 40,
   "id": "ed498408-cb8d-470b-b1a6-62ee41751c49",
   "metadata": {},
   "outputs": [
    {
     "name": "stdout",
     "output_type": "stream",
     "text": [
      "RMSE: 2.934748\n"
     ]
    }
   ],
   "source": [
    "rmse = np.sqrt(mean_squared_error(y_test, preds))\n",
    "print(\"RMSE: %f\" % (rmse))"
   ]
  },
  {
   "cell_type": "code",
   "execution_count": null,
   "id": "75b81129-b911-4961-8f72-8846dfec3f37",
   "metadata": {},
   "outputs": [],
   "source": []
  }
 ],
 "metadata": {
  "kernelspec": {
   "display_name": "Python 3 (ipykernel)",
   "language": "python",
   "name": "python3"
  },
  "language_info": {
   "codemirror_mode": {
    "name": "ipython",
    "version": 3
   },
   "file_extension": ".py",
   "mimetype": "text/x-python",
   "name": "python",
   "nbconvert_exporter": "python",
   "pygments_lexer": "ipython3",
   "version": "3.8.13"
  }
 },
 "nbformat": 4,
 "nbformat_minor": 5
}
