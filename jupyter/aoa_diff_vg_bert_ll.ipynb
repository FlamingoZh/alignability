{
 "cells": [
  {
   "cell_type": "code",
   "execution_count": 1,
   "id": "25598d9d-f351-4fe5-ab1d-d4f7cf3d3f05",
   "metadata": {},
   "outputs": [],
   "source": [
    "import csv\n",
    "import sys\n",
    "import os\n",
    "import pickle\n",
    "import random\n",
    "import numpy as np\n",
    "import time\n",
    "import operator\n",
    "import seaborn as sns\n",
    "import pandas as pd\n",
    "\n",
    "import matplotlib\n",
    "import matplotlib.pyplot as plt\n",
    "\n",
    "from collections import Counter\n",
    "\n",
    "import statsmodels.stats.api as sms\n",
    "\n",
    "import scipy.stats\n",
    "from scipy.stats import entropy\n",
    "from scipy.stats import spearmanr\n",
    "from scipy.stats import zscore\n",
    "from sklearn.linear_model import LinearRegression\n",
    "from sklearn.metrics.pairwise import cosine_similarity"
   ]
  },
  {
   "cell_type": "code",
   "execution_count": 2,
   "id": "6123483e-8392-4a5b-b553-ccf50beffe9b",
   "metadata": {},
   "outputs": [],
   "source": [
    "np.set_printoptions(precision=2)"
   ]
  },
  {
   "cell_type": "code",
   "execution_count": 3,
   "id": "09d974c6-251f-481d-9ad3-6d282bde798f",
   "metadata": {},
   "outputs": [],
   "source": [
    "sys.path.append('../python')\n",
    "from permutation import permutation, compute_alignment_strength\n",
    "from utils.utils_funcs import get_variance, get_distinctness_from_nearest_5\n",
    "from utils.utils_funcs import load_data_to_dict"
   ]
  },
  {
   "cell_type": "code",
   "execution_count": 4,
   "id": "996b95dc-0dea-4949-b00e-87cef21cfb2f",
   "metadata": {},
   "outputs": [],
   "source": [
    "# aggregate both visual embeddings and language embeddings\n",
    "def aggregate_embeddings_visual_and_language(input_struct,n_sample_per_visual,n_sample_per_language):\n",
    "\twords=input_struct['words']\n",
    "\tembed_dict=dict()\n",
    "\tfor word in words:\n",
    "\t\tn_sample_v = min(len(input_struct['embeds'][word]['visual']), n_sample_per_visual)\n",
    "\t\tvisual_temp=np.mean(np.array(random.sample(input_struct['embeds'][word]['visual'],n_sample_v)),axis=0)\n",
    "\t\tn_sample_l = min(len(input_struct['embeds'][word]['language']), n_sample_per_language)\n",
    "\t\tlanguage_temp=np.mean(np.array(random.sample(input_struct['embeds'][word]['language'],n_sample_l)),axis=0)\n",
    "\t\t#embed_dict[word]=dict(visual=np.expand_dims(visual_temp,axis=0),language=language_temp)\n",
    "\t\tembed_dict[word]=dict(visual=visual_temp,language=np.squeeze(language_temp))\n",
    "\treturn dict(embeds=embed_dict,words=words)"
   ]
  },
  {
   "cell_type": "code",
   "execution_count": 5,
   "id": "af91fd7e-bacd-4d39-b39b-861b2fabeb59",
   "metadata": {},
   "outputs": [],
   "source": [
    "def get_alignment_strength(struct,concepts,relative):\n",
    "    visual_embeddings_list=list()\n",
    "    langauge_embeddings_list=list()\n",
    "    for concept in concepts:\n",
    "        embeddings=struct[\"embeds\"][concept]\n",
    "        visual_embeddings_list.append(embeddings[\"visual\"])\n",
    "        langauge_embeddings_list.append(embeddings[\"language\"])\n",
    "    z_0=np.array(visual_embeddings_list)\n",
    "    z_1=np.array(langauge_embeddings_list)\n",
    "    if relative:\n",
    "        return permutation(z_0,z_1,n_sim=100)[0]\n",
    "    else:\n",
    "        return compute_alignment_strength(z_0,z_1)"
   ]
  },
  {
   "cell_type": "code",
   "execution_count": 6,
   "id": "c423e832-4c8b-4b47-a375-abc3bd07ec4e",
   "metadata": {},
   "outputs": [],
   "source": [
    "vg_noun_data=pickle.load(open(\"../data/dumped_embeddings/vg_noun_ll_swav_bert_20.pkl\",\"rb\"))\n",
    "vg_verb_data=pickle.load(open(\"../data/dumped_embeddings/vg_verb_ll_swav_bert_20.pkl\",\"rb\"))\n",
    "\n",
    "aggregated_vg_noun_data=aggregate_embeddings_visual_and_language(vg_noun_data,20,20)\n",
    "aggregated_vg_verb_data=aggregate_embeddings_visual_and_language(vg_verb_data,20,20)"
   ]
  },
  {
   "cell_type": "code",
   "execution_count": 34,
   "id": "2e1495c1-b579-4886-849d-3ceada85e7c2",
   "metadata": {},
   "outputs": [],
   "source": [
    "noun_aoa_dict=load_data_to_dict(\"../data/processed/aoa/kuperman_noun_aoa.txt\",concepts=vg_noun_data[\"words\"])\n",
    "verb_aoa_dict=load_data_to_dict(\"../data/processed/aoa/kuperman_verb_aoa.txt\",concepts=vg_verb_data[\"words\"])\n",
    "\n",
    "noun_aoa_sorted = sorted(noun_aoa_dict.items(), key=operator.itemgetter(1))\n",
    "verb_aoa_sorted = sorted(verb_aoa_dict.items(), key=operator.itemgetter(1))"
   ]
  },
  {
   "cell_type": "code",
   "execution_count": 8,
   "id": "64997a16-2e89-4c66-9c7c-ad7e4207cebb",
   "metadata": {},
   "outputs": [],
   "source": [
    "# noun_aoa_dict=load_data_to_dict(\"../data/processed/aoa/wordbank_noun_aoa.txt\",concepts=vg_noun_data[\"words\"])\n",
    "# verb_aoa_dict=load_data_to_dict(\"../data/processed/aoa/wordbank_verb_aoa.txt\",concepts=vg_verb_data[\"words\"])\n",
    "\n",
    "# noun_aoa_sorted = sorted(noun_aoa_dict.items(), key=operator.itemgetter(1))\n",
    "# verb_aoa_sorted = sorted(verb_aoa_dict.items(), key=operator.itemgetter(1))"
   ]
  },
  {
   "cell_type": "code",
   "execution_count": 9,
   "id": "0fa1008e-27f0-45b9-918f-225d1569c696",
   "metadata": {},
   "outputs": [],
   "source": [
    "# noun_aoa_dict=load_data_to_dict(\"../data/processed/aoa/glasgow_noun_aoa.txt\",concepts=vg_noun_data[\"words\"])\n",
    "# verb_aoa_dict=load_data_to_dict(\"../data/processed/aoa/glasgow_verb_aoa.txt\",concepts=vg_verb_data[\"words\"])\n",
    "\n",
    "# noun_aoa_sorted = sorted(noun_aoa_dict.items(), key=operator.itemgetter(1))\n",
    "# verb_aoa_sorted = sorted(verb_aoa_dict.items(), key=operator.itemgetter(1))"
   ]
  },
  {
   "cell_type": "code",
   "execution_count": 10,
   "id": "a2264698-3f17-4541-92bb-249df9cd99ff",
   "metadata": {},
   "outputs": [],
   "source": [
    "def mean_confidence_interval(data, confidence=0.95):\n",
    "    a = 1.0 * np.array(data)\n",
    "    n = len(a)\n",
    "    m, se = np.mean(a), scipy.stats.sem(a)\n",
    "    h = se * scipy.stats.t.ppf((1 + confidence) / 2., n-1)\n",
    "    return m, h"
   ]
  },
  {
   "cell_type": "code",
   "execution_count": 11,
   "id": "59eb7d95-e4eb-4481-8ffa-c67634ed1f5a",
   "metadata": {
    "tags": []
   },
   "outputs": [],
   "source": [
    "def compute_alignment(concepts,shuffled_concepts,struct,relative):\n",
    "    num_list=list()\n",
    "    for sh_concepts in shuffled_concepts:\n",
    "        num_list.append(get_alignment_strength(struct,sh_concepts,relative))\n",
    "    temp=mean_confidence_interval(num_list)\n",
    "    return get_alignment_strength(struct,concepts,relative),temp[0],temp[1]"
   ]
  },
  {
   "cell_type": "code",
   "execution_count": 12,
   "id": "d55954c8-4345-4f8b-9bc5-aa0cdfa2be2d",
   "metadata": {
    "jupyter": {
     "source_hidden": true
    },
    "tags": []
   },
   "outputs": [],
   "source": [
    "def compute_alignment_sns(concepts,shuffled_concepts,struct,relative):\n",
    "    num_list=list()\n",
    "    for sh_concepts in shuffled_concepts:\n",
    "        num_list.append(get_alignment_strength(struct,sh_concepts,relative))\n",
    "    return get_alignment_strength(struct,concepts,relative),num_list"
   ]
  },
  {
   "cell_type": "code",
   "execution_count": 13,
   "id": "d4c9834e-8e82-4f0d-b01f-47ac9e666c52",
   "metadata": {
    "tags": []
   },
   "outputs": [],
   "source": [
    "def sim_in_order(struct,concepts,step=20,num_simulation=1000,concept_accum=True,relative=False):\n",
    "    \n",
    "    xs=list()\n",
    "    ag_true=list()\n",
    "    ag_sh=list()\n",
    "    ag_sh_err=list()\n",
    "\n",
    "    for idx in range(0,len(concepts),step):\n",
    "        if concept_accum:\n",
    "            concept_group=concepts[:idx+step]\n",
    "        else:\n",
    "            concept_group=concepts[idx:idx+step]\n",
    "        \n",
    "        shuffled_list=list()\n",
    "        temp=concepts.copy()\n",
    "        for i in range(num_simulation):\n",
    "            random.shuffle(temp)\n",
    "            temp2=temp[:len(concept_group)]\n",
    "            shuffled_list.append(temp2)\n",
    "            # print(sorted(temp2))\n",
    "            # for j in temp2:\n",
    "            #     if j not in concept_group:\n",
    "            #         print(j)\n",
    "        \n",
    "        xs.append(min(idx+step,len(concepts)))\n",
    "        ag_rts=compute_alignment(concept_group,shuffled_list,struct,relative)\n",
    "        ag_true.append(ag_rts[0])\n",
    "        ag_sh.append(ag_rts[1])\n",
    "        ag_sh_err.append(ag_rts[2])\n",
    "    \n",
    "    return ag_true,ag_sh,ag_sh_err,xs"
   ]
  },
  {
   "cell_type": "code",
   "execution_count": 14,
   "id": "ebfb7110-7226-4ab8-b8cf-1fda19df974c",
   "metadata": {
    "jupyter": {
     "source_hidden": true
    },
    "tags": []
   },
   "outputs": [],
   "source": [
    "def sim_in_order_sns(struct,concepts,step=20,num_simulation=1000,concept_accum=True,relative=False):\n",
    "    \n",
    "    ag_true=list()\n",
    "    ag_sh=list()\n",
    "\n",
    "    for idx in range(0,len(concepts),step):\n",
    "        if concept_accum:\n",
    "            concept_group=concepts[:idx+step]\n",
    "        else:\n",
    "            concept_group=concepts[idx:idx+step]\n",
    "        \n",
    "        shuffled_list=list()\n",
    "        temp=concepts.copy()\n",
    "        for i in range(num_simulation):\n",
    "            random.shuffle(temp)\n",
    "            temp2=temp[:len(concept_group)]\n",
    "            shuffled_list.append(temp2)\n",
    "        \n",
    "        x=min(idx+step,len(concepts))\n",
    "        ag_rt=compute_alignment_sns(concept_group,shuffled_list,struct,relative)\n",
    "        ag_true.append((x,ag_rt[0]))\n",
    "        for item in ag_rt[1]:\n",
    "            ag_sh.append((x,item))\n",
    "    \n",
    "    return ag_true,ag_sh"
   ]
  },
  {
   "cell_type": "code",
   "execution_count": 28,
   "id": "ab076d05-e2bd-47ce-bb9d-d9cc1190124b",
   "metadata": {
    "tags": []
   },
   "outputs": [],
   "source": [
    "def plot_percentage_in_order(title,struct,concepts,step=20,num_simulation=1000,concept_accum=True,relative=False):\n",
    "    t1=time.time()\n",
    "    ag_true,ag_sh,ag_sh_err,xs=sim_in_order(struct,concepts,step,num_simulation,concept_accum,relative)\n",
    "    t2=time.time()\n",
    "    print(t2-t1)\n",
    "    \n",
    "    plt.plot(xs,ag_true,color=\"green\",label=\"Alignment Strength in AoA Order\")\n",
    "    #plt.plot(xs,ag_sh,color=\"red\",label=\"Alignment Strength of Random Concepts\")\n",
    "    plt.errorbar(xs,ag_sh,yerr =ag_sh_err,color=\"red\",label=\"Alignment Strength of Random Concepts\")\n",
    "    plt.title(title)\n",
    "    plt.xlabel(\"Number of Concepts in the System\")\n",
    "    plt.ylabel(\"Alignment Strength\")\n",
    "    plt.legend()\n",
    "    \n",
    "    plt.savefig(\"../figs/temp.png\")\n",
    "    \n",
    "    print(xs)\n",
    "    print(\"alignment true:\",ag_true)\n",
    "    print(\"alignment shuffled:\",ag_sh)"
   ]
  },
  {
   "cell_type": "code",
   "execution_count": 29,
   "id": "1f5c04b4-b73f-4ae8-bb1f-a4e729993754",
   "metadata": {
    "jupyter": {
     "source_hidden": true
    },
    "tags": []
   },
   "outputs": [],
   "source": [
    "def plot_percentage_in_order_sns(title,struct,concepts,step=20,num_simulation=1000,concept_accum=True,relative=False):\n",
    "    t1=time.time()\n",
    "    ag_true,ag_sh=sim_in_order_sns(struct,concepts,step,num_simulation,concept_accum,relative)\n",
    "    t2=time.time()\n",
    "    print(t2-t1)\n",
    "    \n",
    "    df1 = pd.DataFrame(np.array(ag_true), columns = ['x', 'y'])\n",
    "    df1['type']=\"true order\"\n",
    "    # df1['z']=1\n",
    "    # df1['z'][0]=2\n",
    "    df2 = pd.DataFrame(np.array(ag_sh), columns = ['x', 'y'])\n",
    "    df2['type']=\"shuffled\"\n",
    "    \n",
    "    df=pd.concat([df1,df2])\n",
    "    \n",
    "    print(df.index.duplicated())\n",
    "    \n",
    "    # sns.set_style('darkgrid')  # darkgrid, white grid, dark, white and ticks\n",
    "    plt.rc('axes', titlesize=18)  # fontsize of the axes title\n",
    "    plt.rc('axes', labelsize=14)  # fontsize of the x and y labels\n",
    "    plt.rc('xtick', labelsize=13)  # fontsize of the tick labels\n",
    "    plt.rc('ytick', labelsize=13)  # fontsize of the tick labels\n",
    "    plt.rc('legend', fontsize=13)  # legend fontsize\n",
    "    plt.rc('font', size=13)  # controls default text sizes\n",
    "    plt.figure(figsize=(10, 6), tight_layout=True)\n",
    "    \n",
    "    fig, ax = plt.subplots()\n",
    "    # sns.lineplot(x=\"z\",y=\"y\",data=df1.iloc[:3])\n",
    "    sns.lineplot(x=\"x\",y=\"y\",data=df,hue=\"type\")\n",
    "    #sns.lineplot(x=\"x\",y=\"y\",data=df1,hue=\"type\",palette=[sns.color_palette(\"Paired\")[7],sns.color_palette(\"Paired\")[3]])\n",
    "    # sns.pointplot(x=\"z\",y=\"y\",data=df1.iloc[:3])\n",
    "    #sns.pointplot(x=\"x\",y=\"y\",data=df,hue=\"type\",palette=[sns.color_palette(\"Paired\")[7],sns.color_palette(\"Paired\")[3]])\n",
    "    sns.despine()\n",
    "    \n",
    "    # ax.legend(loc=4)\n",
    "    # ax.set_xlim(0,10)\n",
    "    # ax.set_xticks(range(0,len(concepts),step))\n",
    "    # ax.set_xticklabels(range(0,len(concepts),step))\n",
    "    # ax.set_ylim(0, 1)\n",
    "    # ax.set_yticks([0.2,0.4,0.6])\n",
    "\n",
    "    ax.set(xlabel='Number of Exemplars Aggregated', ylabel='Relative Alignment Strength')\n",
    "    plt.tight_layout()\n",
    "    plt.savefig(\"../figs/mit_visual_agg.png\")\n",
    "    plt.show()"
   ]
  },
  {
   "cell_type": "code",
   "execution_count": 32,
   "id": "3aced944-7d56-4d96-91be-8c22012388ad",
   "metadata": {
    "collapsed": true,
    "jupyter": {
     "outputs_hidden": true
    },
    "tags": []
   },
   "outputs": [
    {
     "data": {
      "text/plain": [
       "['water',\n",
       " 'bed',\n",
       " 'apple',\n",
       " 'sky',\n",
       " 'finger',\n",
       " 'head',\n",
       " 'cup',\n",
       " 'man',\n",
       " 'toilet',\n",
       " 'chair',\n",
       " 'door',\n",
       " 'hand',\n",
       " 'cow',\n",
       " 'dog',\n",
       " 'cat',\n",
       " 'ear',\n",
       " 'food',\n",
       " 'foot',\n",
       " 'window',\n",
       " 'flower',\n",
       " 'leg',\n",
       " 'eye',\n",
       " 'shoe',\n",
       " 'baby',\n",
       " 'word',\n",
       " 'wheel',\n",
       " 'animal',\n",
       " 'box',\n",
       " 'arm',\n",
       " 'tree',\n",
       " 'face',\n",
       " 'nose',\n",
       " 'bus',\n",
       " 'girl',\n",
       " 'banana',\n",
       " 'sheep',\n",
       " 'hat',\n",
       " 'sock',\n",
       " 'pillow',\n",
       " 'car',\n",
       " 'ball',\n",
       " 'lady',\n",
       " 'mouth',\n",
       " 'snow',\n",
       " 'woman',\n",
       " 'book',\n",
       " 'hair',\n",
       " 'grass',\n",
       " 'house',\n",
       " 'fork',\n",
       " 'bathroom',\n",
       " 'bowl',\n",
       " 'cloud',\n",
       " 'bird',\n",
       " 'leaf',\n",
       " 'bottle',\n",
       " 'bread',\n",
       " 'tail',\n",
       " 'cheese',\n",
       " 'line',\n",
       " 'airplane',\n",
       " 'boat',\n",
       " 'picture',\n",
       " 'horse',\n",
       " 'elephant',\n",
       " 'rock',\n",
       " 'basket',\n",
       " 'people',\n",
       " 'seat',\n",
       " 'bear',\n",
       " 'park',\n",
       " 'button',\n",
       " 'towel',\n",
       " 'television',\n",
       " 'paper',\n",
       " 'sandwich',\n",
       " 'truck',\n",
       " 'street',\n",
       " 'bag',\n",
       " 'mirror',\n",
       " 'road',\n",
       " 'sink',\n",
       " 'person',\n",
       " 'bicycle',\n",
       " 'wall',\n",
       " 'carrot',\n",
       " 'jacket',\n",
       " 'wrist',\n",
       " 'giraffe',\n",
       " 'clock',\n",
       " 'coat',\n",
       " 'umbrella',\n",
       " 'hill',\n",
       " 'child',\n",
       " 'lamp',\n",
       " 'air',\n",
       " 'neck',\n",
       " 'beach',\n",
       " 'shirt',\n",
       " 'boot',\n",
       " 'dress',\n",
       " 'wave',\n",
       " 'glass',\n",
       " 'oven',\n",
       " 'train',\n",
       " 'knife',\n",
       " 'river',\n",
       " 'cap',\n",
       " 'desk',\n",
       " 'shadow',\n",
       " 'building',\n",
       " 'trunk',\n",
       " 'roof',\n",
       " 'pot',\n",
       " 'tower',\n",
       " 'field',\n",
       " 'light',\n",
       " 'telephone',\n",
       " 'sofa',\n",
       " 'zebra',\n",
       " 'camera',\n",
       " 'horn',\n",
       " 'pizza',\n",
       " 'bench',\n",
       " 'ceiling',\n",
       " 'fence',\n",
       " 'wood',\n",
       " 'dish',\n",
       " 'broccoli',\n",
       " 'ocean',\n",
       " 'handle',\n",
       " 'watch',\n",
       " 'tray',\n",
       " 'shelf',\n",
       " 'mountain',\n",
       " 'curtain',\n",
       " 'letter',\n",
       " 'wing',\n",
       " 'pole',\n",
       " 'jet',\n",
       " 'bridge',\n",
       " 'vase',\n",
       " 'engine',\n",
       " 'collar',\n",
       " 'player',\n",
       " 'frame',\n",
       " 'computer',\n",
       " 'wire',\n",
       " 'ski',\n",
       " 'counter',\n",
       " 'keyboard',\n",
       " 'stove',\n",
       " 'suit',\n",
       " 'vehicle',\n",
       " 'cabinet',\n",
       " 'tire',\n",
       " 'design',\n",
       " 'container',\n",
       " 'surfer',\n",
       " 'court',\n",
       " 'plant',\n",
       " 'post']"
      ]
     },
     "execution_count": 32,
     "metadata": {},
     "output_type": "execute_result"
    }
   ],
   "source": [
    "list(list(zip(*noun_aoa_sorted))[0])"
   ]
  },
  {
   "cell_type": "code",
   "execution_count": 35,
   "id": "d697acdd-de30-42e3-8b19-d66bcb8ffc5a",
   "metadata": {},
   "outputs": [
    {
     "name": "stdout",
     "output_type": "stream",
     "text": [
      "88.88778710365295\n",
      "[5, 10, 15, 20, 25, 30, 35, 40, 45, 50, 55, 60, 65, 70, 75, 80, 85, 90, 95, 100, 105, 110, 115, 120, 125, 130, 135, 140, 145, 150, 155, 160, 165, 170, 175, 180, 185, 190, 195, 200, 205, 207]\n",
      "alignment true: [-0.07878787878787878, 0.09591567852437417, 0.14964752228903172, 0.1304229159285649, 0.2096454405048945, 0.29092088632046387, 0.32696868863469736, 0.274868124878069, 0.2620991565261481, 0.213674406489634, 0.2534110941902355, 0.2758714728705036, 0.26493786002858594, 0.2491066711787752, 0.2670746506206825, 0.26667583561771024, 0.25837759155364015, 0.26916609107969497, 0.2630025972077996, 0.2581982472056939, 0.24907886170883778, 0.24608046423574206, 0.2578843942199301, 0.278972098312932, 0.2732407129046878, 0.28606231369079177, 0.2844515325482144, 0.2944980195145891, 0.2621121592621184, 0.25632585430904475, 0.24561955792686282, 0.24122929203400348, 0.21876635586361093, 0.21533340560394737, 0.20689240961462138, 0.2017817140644275, 0.20622194862251872, 0.19657558421179977, 0.19659370959824252, 0.19019893942402996, 0.18793174843668523, 0.19175870844889736]\n",
      "alignment shuffled: [0.19073939393939393, 0.18260803689064556, 0.1922354032759693, 0.1934382960576985, 0.19271443323708895, 0.19341241312724633, 0.19756881435183543, 0.19253313839980796, 0.19341459910291947, 0.1917776884985561, 0.19299173431318667, 0.19212714799896388, 0.19212297324254615, 0.19340038432132955, 0.19311284330632297, 0.19216702832387852, 0.19114460805451547, 0.19128897765050856, 0.19321252448331852, 0.19044997802139088, 0.19143991373642985, 0.19285942881564366, 0.19174865588811435, 0.19188990488954746, 0.19249384594945818, 0.19262980412246491, 0.19267315542257854, 0.1920952141480225, 0.1931950576727196, 0.19331091182465476, 0.19177921435004033, 0.19199662406523663, 0.1905775373281667, 0.19135287135844228, 0.19233430373396515, 0.19178586046186616, 0.19209627879769087, 0.19149192345760732, 0.19168222348768268, 0.19175087984182299, 0.19177230258639838, 0.19175870844889742]\n"
     ]
    },
    {
     "data": {
      "image/png": "[encoded data removed]",
      "text/plain": [
       "<Figure size 432x288 with 1 Axes>"
      ]
     },
     "metadata": {
      "needs_background": "light"
     },
     "output_type": "display_data"
    }
   ],
   "source": [
    "# bert language embeddings last layer\n",
    "plot_percentage_in_order(\"VG Nouns\",aggregated_vg_noun_data,list(list(zip(*noun_aoa_sorted))[0]),\n",
    "                         step=5,num_simulation=1000,concept_accum=True,relative=False)"
   ]
  },
  {
   "cell_type": "code",
   "execution_count": 31,
   "id": "80197fbb-bebb-4997-bfdc-10221b9e515f",
   "metadata": {},
   "outputs": [
    {
     "name": "stdout",
     "output_type": "stream",
     "text": [
      "24.554658889770508\n",
      "[5, 10, 15, 20, 25, 30, 35, 40, 45, 50, 55, 60, 65, 70, 75, 80, 85, 90, 95, 100, 105, 110, 115, 120, 125, 128]\n",
      "alignment true: [0.5636363636363636, 0.22160737812911724, 0.09770889487870618, 0.21030149544891902, 0.207143634929277, 0.22143039375336218, 0.2529804844451509, 0.2964743911099839, 0.25876962274713927, 0.26192263528576193, 0.2450901252038914, 0.26298099132648795, 0.2363291108485726, 0.2189194779796477, 0.21424776190829437, 0.1841059120807063, 0.19736754342961402, 0.19316508736413934, 0.19874857711085714, 0.19684661105027593, 0.2054695092026423, 0.22618948149281304, 0.21330782629207282, 0.20545807979510272, 0.19435148594079343, 0.19018558024276752]\n",
      "alignment shuffled: [0.16818181818181815, 0.19017103331048169, 0.18595284201434736, 0.18111027685397865, 0.1866480685322118, 0.19379515024305402, 0.18874448399802068, 0.18909276733169594, 0.1893329309027571, 0.1882940905471677, 0.1888739282741651, 0.18769900127061281, 0.1894128064549797, 0.18835809065994, 0.19123078713916805, 0.1916926816795205, 0.1921582775626601, 0.18770338376930862, 0.18946967606478196, 0.19073258438517232, 0.19093329182541202, 0.1908289960540115, 0.19034729689327015, 0.19048872415253199, 0.19049467930994185, 0.19018558024276758]\n"
     ]
    },
    {
     "data": {
      "image/png": "[encoded data removed]",
      "text/plain": [
       "<Figure size 432x288 with 1 Axes>"
      ]
     },
     "metadata": {
      "needs_background": "light"
     },
     "output_type": "display_data"
    }
   ],
   "source": [
    "# bert language embeddings last layer\n",
    "plot_percentage_in_order(\"VG Verbs\",aggregated_vg_verb_data,list(list(zip(*verb_aoa_sorted))[0]),\n",
    "                         step=5,num_simulation=1000,concept_accum=True,relative=False)"
   ]
  },
  {
   "cell_type": "code",
   "execution_count": 142,
   "id": "5e095db3-2f52-4aff-b24e-12eb00a31931",
   "metadata": {},
   "outputs": [
    {
     "name": "stdout",
     "output_type": "stream",
     "text": [
      "232.40431904792786\n",
      "[10, 20, 30, 40, 50, 60, 70, 80, 90, 100, 110, 120, 130, 140, 150, 160, 162]\n",
      "alignment true: [0.78, 0.86, 0.99, 1.0, 1.0, 1.0, 1.0, 1.0, 1.0, 1.0, 1.0, 1.0, 1.0, 1.0, 1.0, 1.0, 1.0]\n",
      "alignment shuffled: [0.8017, 0.9308999999999998, 0.9599000000000001, 0.9861999999999999, 0.9928, 0.9959, 0.9988999999999999, 0.9998, 0.9997, 1.0, 1.0, 1.0, 1.0, 1.0, 1.0, 1.0, 1.0]\n"
     ]
    },
    {
     "data": {
      "image/png": "[encoded data removed]",
      "text/plain": [
       "<Figure size 432x288 with 1 Axes>"
      ]
     },
     "metadata": {
      "needs_background": "light"
     },
     "output_type": "display_data"
    }
   ],
   "source": [
    "# bert language embeddings last layer\n",
    "plot_percentage_in_order(\"vg nouns: relative\",aggregated_vg_noun_data,list(list(zip(*noun_aoa_sorted))[0]),\n",
    "                         step=10,num_simulation=100,concept_accum=True,relative=True)"
   ]
  },
  {
   "cell_type": "code",
   "execution_count": 21,
   "id": "8271720c-aef1-443b-ba8d-b27456defdc2",
   "metadata": {},
   "outputs": [
    {
     "name": "stdout",
     "output_type": "stream",
     "text": [
      "489.63731813430786\n",
      "[10, 20, 30, 40, 50, 60, 70, 80, 90, 100, 110, 120, 130, 140, 150, 160, 170, 180, 190, 200, 207]\n",
      "alignment true: [0.06, 0.66, 0.95, 0.99, 1.0, 1.0, 1.0, 1.0, 1.0, 1.0, 1.0, 1.0, 1.0, 1.0, 1.0, 1.0, 1.0, 1.0, 1.0, 1.0, 1.0]\n",
      "alignment shuffled: [0.6658999999999999, 0.7281000000000002, 0.8504, 0.8619, 0.9094, 0.9242, 0.9451000000000004, 0.9558, 0.9816000000000001, 0.9857, 0.9872000000000001, 0.9904999999999999, 0.9952000000000001, 0.9958, 0.9984999999999999, 0.9986, 0.9991000000000001, 0.9998, 0.9997, 0.9998, 1.0]\n"
     ]
    },
    {
     "data": {
      "image/png": "[encoded data removed]",
      "text/plain": [
       "<Figure size 432x288 with 1 Axes>"
      ]
     },
     "metadata": {
      "needs_background": "light"
     },
     "output_type": "display_data"
    }
   ],
   "source": [
    "# bert language embeddings last layer\n",
    "plot_percentage_in_order(\"vg verbs: relative\",aggregated_vg_verb_data,list(list(zip(*verb_aoa_sorted))[0]),\n",
    "                         step=10,num_simulation=100,concept_accum=True,relative=True)"
   ]
  },
  {
   "cell_type": "code",
   "execution_count": null,
   "id": "d496c79f-f2ad-4773-be5c-b96946386d86",
   "metadata": {},
   "outputs": [],
   "source": []
  },
  {
   "cell_type": "code",
   "execution_count": 56,
   "id": "0b21484b-690c-4e2f-9670-3c4aa45e0065",
   "metadata": {},
   "outputs": [],
   "source": [
    "#Plot"
   ]
  },
  {
   "cell_type": "code",
   "execution_count": 207,
   "id": "61a11a26-75a2-4a9f-967f-179b70c50cb1",
   "metadata": {
    "collapsed": true,
    "jupyter": {
     "outputs_hidden": true
    },
    "tags": []
   },
   "outputs": [
    {
     "name": "stdout",
     "output_type": "stream",
     "text": [
      "0.3051159381866455\n",
      "[False False False False False False False False False False False False\n",
      " False False False False False  True  True  True  True  True  True  True\n",
      "  True  True  True  True  True  True  True  True  True  True False False\n",
      " False False False False False False False False False False False False\n",
      " False False False False False False False False False False False False\n",
      " False False False False False False False False False False False False\n",
      " False False False False False False False False False False False False\n",
      " False False False False False False False False False False False False\n",
      " False False False False False False False False False False False False\n",
      " False False False False False False False False False False False False\n",
      " False False False False False False False False False False False False\n",
      " False False False False False False False False False False False False\n",
      " False False False False False False False False False False False False\n",
      " False False False False False False False False False False False False\n",
      " False False False False False False False False False False False False\n",
      " False False False False False False False]\n"
     ]
    },
    {
     "ename": "ValueError",
     "evalue": "cannot reindex from a duplicate axis",
     "output_type": "error",
     "traceback": [
      "\u001b[0;31m---------------------------------------------------------------------------\u001b[0m",
      "\u001b[0;31mValueError\u001b[0m                                Traceback (most recent call last)",
      "\u001b[0;32m/var/folders/mq/9j63byws48l4bqktjyqnb5nh0000gp/T/ipykernel_13341/3022413680.py\u001b[0m in \u001b[0;36m<module>\u001b[0;34m\u001b[0m\n\u001b[1;32m      1\u001b[0m \u001b[0;31m# bert language embeddings last layer\u001b[0m\u001b[0;34m\u001b[0m\u001b[0;34m\u001b[0m\u001b[0;34m\u001b[0m\u001b[0m\n\u001b[0;32m----> 2\u001b[0;31m plot_percentage_in_order_sns(\"vg nouns: absolute\",aggregated_vg_noun_data,list(list(zip(*noun_aoa_sorted))[0]),\n\u001b[0m\u001b[1;32m      3\u001b[0m                          step=10,num_simulation=10,concept_accum=True,relative=False)\n",
      "\u001b[0;32m/var/folders/mq/9j63byws48l4bqktjyqnb5nh0000gp/T/ipykernel_13341/1900581854.py\u001b[0m in \u001b[0;36mplot_percentage_in_order_sns\u001b[0;34m(title, struct, concepts, step, num_simulation, concept_accum, relative)\u001b[0m\n\u001b[1;32m     27\u001b[0m     \u001b[0mfig\u001b[0m\u001b[0;34m,\u001b[0m \u001b[0max\u001b[0m \u001b[0;34m=\u001b[0m \u001b[0mplt\u001b[0m\u001b[0;34m.\u001b[0m\u001b[0msubplots\u001b[0m\u001b[0;34m(\u001b[0m\u001b[0;34m)\u001b[0m\u001b[0;34m\u001b[0m\u001b[0;34m\u001b[0m\u001b[0m\n\u001b[1;32m     28\u001b[0m     \u001b[0;31m# sns.lineplot(x=\"z\",y=\"y\",data=df1.iloc[:3])\u001b[0m\u001b[0;34m\u001b[0m\u001b[0;34m\u001b[0m\u001b[0;34m\u001b[0m\u001b[0m\n\u001b[0;32m---> 29\u001b[0;31m     \u001b[0msns\u001b[0m\u001b[0;34m.\u001b[0m\u001b[0mlineplot\u001b[0m\u001b[0;34m(\u001b[0m\u001b[0mx\u001b[0m\u001b[0;34m=\u001b[0m\u001b[0;34m\"x\"\u001b[0m\u001b[0;34m,\u001b[0m\u001b[0my\u001b[0m\u001b[0;34m=\u001b[0m\u001b[0;34m\"y\"\u001b[0m\u001b[0;34m,\u001b[0m\u001b[0mdata\u001b[0m\u001b[0;34m=\u001b[0m\u001b[0mdf\u001b[0m\u001b[0;34m,\u001b[0m\u001b[0mhue\u001b[0m\u001b[0;34m=\u001b[0m\u001b[0;34m\"type\"\u001b[0m\u001b[0;34m)\u001b[0m\u001b[0;34m\u001b[0m\u001b[0;34m\u001b[0m\u001b[0m\n\u001b[0m\u001b[1;32m     30\u001b[0m     \u001b[0;31m#sns.lineplot(x=\"x\",y=\"y\",data=df1,hue=\"type\",palette=[sns.color_palette(\"Paired\")[7],sns.color_palette(\"Paired\")[3]])\u001b[0m\u001b[0;34m\u001b[0m\u001b[0;34m\u001b[0m\u001b[0;34m\u001b[0m\u001b[0m\n\u001b[1;32m     31\u001b[0m     \u001b[0;31m# sns.pointplot(x=\"z\",y=\"y\",data=df1.iloc[:3])\u001b[0m\u001b[0;34m\u001b[0m\u001b[0;34m\u001b[0m\u001b[0;34m\u001b[0m\u001b[0m\n",
      "\u001b[0;32m~/miniconda3/envs/alignment/lib/python3.8/site-packages/seaborn/_decorators.py\u001b[0m in \u001b[0;36minner_f\u001b[0;34m(*args, **kwargs)\u001b[0m\n\u001b[1;32m     44\u001b[0m             )\n\u001b[1;32m     45\u001b[0m         \u001b[0mkwargs\u001b[0m\u001b[0;34m.\u001b[0m\u001b[0mupdate\u001b[0m\u001b[0;34m(\u001b[0m\u001b[0;34m{\u001b[0m\u001b[0mk\u001b[0m\u001b[0;34m:\u001b[0m \u001b[0marg\u001b[0m \u001b[0;32mfor\u001b[0m \u001b[0mk\u001b[0m\u001b[0;34m,\u001b[0m \u001b[0marg\u001b[0m \u001b[0;32min\u001b[0m \u001b[0mzip\u001b[0m\u001b[0;34m(\u001b[0m\u001b[0msig\u001b[0m\u001b[0;34m.\u001b[0m\u001b[0mparameters\u001b[0m\u001b[0;34m,\u001b[0m \u001b[0margs\u001b[0m\u001b[0;34m)\u001b[0m\u001b[0;34m}\u001b[0m\u001b[0;34m)\u001b[0m\u001b[0;34m\u001b[0m\u001b[0;34m\u001b[0m\u001b[0m\n\u001b[0;32m---> 46\u001b[0;31m         \u001b[0;32mreturn\u001b[0m \u001b[0mf\u001b[0m\u001b[0;34m(\u001b[0m\u001b[0;34m**\u001b[0m\u001b[0mkwargs\u001b[0m\u001b[0;34m)\u001b[0m\u001b[0;34m\u001b[0m\u001b[0;34m\u001b[0m\u001b[0m\n\u001b[0m\u001b[1;32m     47\u001b[0m     \u001b[0;32mreturn\u001b[0m \u001b[0minner_f\u001b[0m\u001b[0;34m\u001b[0m\u001b[0;34m\u001b[0m\u001b[0m\n\u001b[1;32m     48\u001b[0m \u001b[0;34m\u001b[0m\u001b[0m\n",
      "\u001b[0;32m~/miniconda3/envs/alignment/lib/python3.8/site-packages/seaborn/relational.py\u001b[0m in \u001b[0;36mlineplot\u001b[0;34m(x, y, hue, size, style, data, palette, hue_order, hue_norm, sizes, size_order, size_norm, dashes, markers, style_order, units, estimator, ci, n_boot, seed, sort, err_style, err_kws, legend, ax, **kwargs)\u001b[0m\n\u001b[1;32m    708\u001b[0m     \u001b[0mp\u001b[0m\u001b[0;34m.\u001b[0m\u001b[0m_attach\u001b[0m\u001b[0;34m(\u001b[0m\u001b[0max\u001b[0m\u001b[0;34m)\u001b[0m\u001b[0;34m\u001b[0m\u001b[0;34m\u001b[0m\u001b[0m\n\u001b[1;32m    709\u001b[0m \u001b[0;34m\u001b[0m\u001b[0m\n\u001b[0;32m--> 710\u001b[0;31m     \u001b[0mp\u001b[0m\u001b[0;34m.\u001b[0m\u001b[0mplot\u001b[0m\u001b[0;34m(\u001b[0m\u001b[0max\u001b[0m\u001b[0;34m,\u001b[0m \u001b[0mkwargs\u001b[0m\u001b[0;34m)\u001b[0m\u001b[0;34m\u001b[0m\u001b[0;34m\u001b[0m\u001b[0m\n\u001b[0m\u001b[1;32m    711\u001b[0m     \u001b[0;32mreturn\u001b[0m \u001b[0max\u001b[0m\u001b[0;34m\u001b[0m\u001b[0;34m\u001b[0m\u001b[0m\n\u001b[1;32m    712\u001b[0m \u001b[0;34m\u001b[0m\u001b[0m\n",
      "\u001b[0;32m~/miniconda3/envs/alignment/lib/python3.8/site-packages/seaborn/relational.py\u001b[0m in \u001b[0;36mplot\u001b[0;34m(self, ax, kws)\u001b[0m\n\u001b[1;32m    469\u001b[0m         \u001b[0;31m# Loop over the semantic subsets and add to the plot\u001b[0m\u001b[0;34m\u001b[0m\u001b[0;34m\u001b[0m\u001b[0;34m\u001b[0m\u001b[0m\n\u001b[1;32m    470\u001b[0m         \u001b[0mgrouping_vars\u001b[0m \u001b[0;34m=\u001b[0m \u001b[0;34m\"hue\"\u001b[0m\u001b[0;34m,\u001b[0m \u001b[0;34m\"size\"\u001b[0m\u001b[0;34m,\u001b[0m \u001b[0;34m\"style\"\u001b[0m\u001b[0;34m\u001b[0m\u001b[0;34m\u001b[0m\u001b[0m\n\u001b[0;32m--> 471\u001b[0;31m         \u001b[0;32mfor\u001b[0m \u001b[0msub_vars\u001b[0m\u001b[0;34m,\u001b[0m \u001b[0msub_data\u001b[0m \u001b[0;32min\u001b[0m \u001b[0mself\u001b[0m\u001b[0;34m.\u001b[0m\u001b[0miter_data\u001b[0m\u001b[0;34m(\u001b[0m\u001b[0mgrouping_vars\u001b[0m\u001b[0;34m,\u001b[0m \u001b[0mfrom_comp_data\u001b[0m\u001b[0;34m=\u001b[0m\u001b[0;32mTrue\u001b[0m\u001b[0;34m)\u001b[0m\u001b[0;34m:\u001b[0m\u001b[0;34m\u001b[0m\u001b[0;34m\u001b[0m\u001b[0m\n\u001b[0m\u001b[1;32m    472\u001b[0m \u001b[0;34m\u001b[0m\u001b[0m\n\u001b[1;32m    473\u001b[0m             \u001b[0;32mif\u001b[0m \u001b[0mself\u001b[0m\u001b[0;34m.\u001b[0m\u001b[0msort\u001b[0m\u001b[0;34m:\u001b[0m\u001b[0;34m\u001b[0m\u001b[0;34m\u001b[0m\u001b[0m\n",
      "\u001b[0;32m~/miniconda3/envs/alignment/lib/python3.8/site-packages/seaborn/_core.py\u001b[0m in \u001b[0;36miter_data\u001b[0;34m(self, grouping_vars, reverse, from_comp_data)\u001b[0m\n\u001b[1;32m    981\u001b[0m \u001b[0;34m\u001b[0m\u001b[0m\n\u001b[1;32m    982\u001b[0m         \u001b[0;32mif\u001b[0m \u001b[0mfrom_comp_data\u001b[0m\u001b[0;34m:\u001b[0m\u001b[0;34m\u001b[0m\u001b[0;34m\u001b[0m\u001b[0m\n\u001b[0;32m--> 983\u001b[0;31m             \u001b[0mdata\u001b[0m \u001b[0;34m=\u001b[0m \u001b[0mself\u001b[0m\u001b[0;34m.\u001b[0m\u001b[0mcomp_data\u001b[0m\u001b[0;34m\u001b[0m\u001b[0;34m\u001b[0m\u001b[0m\n\u001b[0m\u001b[1;32m    984\u001b[0m         \u001b[0;32melse\u001b[0m\u001b[0;34m:\u001b[0m\u001b[0;34m\u001b[0m\u001b[0;34m\u001b[0m\u001b[0m\n\u001b[1;32m    985\u001b[0m             \u001b[0mdata\u001b[0m \u001b[0;34m=\u001b[0m \u001b[0mself\u001b[0m\u001b[0;34m.\u001b[0m\u001b[0mplot_data\u001b[0m\u001b[0;34m\u001b[0m\u001b[0;34m\u001b[0m\u001b[0m\n",
      "\u001b[0;32m~/miniconda3/envs/alignment/lib/python3.8/site-packages/seaborn/_core.py\u001b[0m in \u001b[0;36mcomp_data\u001b[0;34m(self)\u001b[0m\n\u001b[1;32m   1055\u001b[0m                     \u001b[0morig\u001b[0m \u001b[0;34m=\u001b[0m \u001b[0mself\u001b[0m\u001b[0;34m.\u001b[0m\u001b[0mplot_data\u001b[0m\u001b[0;34m[\u001b[0m\u001b[0mvar\u001b[0m\u001b[0;34m]\u001b[0m\u001b[0;34m.\u001b[0m\u001b[0mdropna\u001b[0m\u001b[0;34m(\u001b[0m\u001b[0;34m)\u001b[0m\u001b[0;34m\u001b[0m\u001b[0;34m\u001b[0m\u001b[0m\n\u001b[1;32m   1056\u001b[0m                 \u001b[0mcomp_col\u001b[0m \u001b[0;34m=\u001b[0m \u001b[0mpd\u001b[0m\u001b[0;34m.\u001b[0m\u001b[0mSeries\u001b[0m\u001b[0;34m(\u001b[0m\u001b[0mindex\u001b[0m\u001b[0;34m=\u001b[0m\u001b[0morig\u001b[0m\u001b[0;34m.\u001b[0m\u001b[0mindex\u001b[0m\u001b[0;34m,\u001b[0m \u001b[0mdtype\u001b[0m\u001b[0;34m=\u001b[0m\u001b[0mfloat\u001b[0m\u001b[0;34m,\u001b[0m \u001b[0mname\u001b[0m\u001b[0;34m=\u001b[0m\u001b[0mvar\u001b[0m\u001b[0;34m)\u001b[0m\u001b[0;34m\u001b[0m\u001b[0;34m\u001b[0m\u001b[0m\n\u001b[0;32m-> 1057\u001b[0;31m                 \u001b[0mcomp_col\u001b[0m\u001b[0;34m.\u001b[0m\u001b[0mloc\u001b[0m\u001b[0;34m[\u001b[0m\u001b[0morig\u001b[0m\u001b[0;34m.\u001b[0m\u001b[0mindex\u001b[0m\u001b[0;34m]\u001b[0m \u001b[0;34m=\u001b[0m \u001b[0mpd\u001b[0m\u001b[0;34m.\u001b[0m\u001b[0mto_numeric\u001b[0m\u001b[0;34m(\u001b[0m\u001b[0maxis\u001b[0m\u001b[0;34m.\u001b[0m\u001b[0mconvert_units\u001b[0m\u001b[0;34m(\u001b[0m\u001b[0morig\u001b[0m\u001b[0;34m)\u001b[0m\u001b[0;34m)\u001b[0m\u001b[0;34m\u001b[0m\u001b[0;34m\u001b[0m\u001b[0m\n\u001b[0m\u001b[1;32m   1058\u001b[0m \u001b[0;34m\u001b[0m\u001b[0m\n\u001b[1;32m   1059\u001b[0m                 \u001b[0;32mif\u001b[0m \u001b[0maxis\u001b[0m\u001b[0;34m.\u001b[0m\u001b[0mget_scale\u001b[0m\u001b[0;34m(\u001b[0m\u001b[0;34m)\u001b[0m \u001b[0;34m==\u001b[0m \u001b[0;34m\"log\"\u001b[0m\u001b[0;34m:\u001b[0m\u001b[0;34m\u001b[0m\u001b[0;34m\u001b[0m\u001b[0m\n",
      "\u001b[0;32m~/miniconda3/envs/alignment/lib/python3.8/site-packages/pandas/core/indexing.py\u001b[0m in \u001b[0;36m__setitem__\u001b[0;34m(self, key, value)\u001b[0m\n\u001b[1;32m    721\u001b[0m \u001b[0;34m\u001b[0m\u001b[0m\n\u001b[1;32m    722\u001b[0m         \u001b[0miloc\u001b[0m \u001b[0;34m=\u001b[0m \u001b[0mself\u001b[0m \u001b[0;32mif\u001b[0m \u001b[0mself\u001b[0m\u001b[0;34m.\u001b[0m\u001b[0mname\u001b[0m \u001b[0;34m==\u001b[0m \u001b[0;34m\"iloc\"\u001b[0m \u001b[0;32melse\u001b[0m \u001b[0mself\u001b[0m\u001b[0;34m.\u001b[0m\u001b[0mobj\u001b[0m\u001b[0;34m.\u001b[0m\u001b[0miloc\u001b[0m\u001b[0;34m\u001b[0m\u001b[0;34m\u001b[0m\u001b[0m\n\u001b[0;32m--> 723\u001b[0;31m         \u001b[0miloc\u001b[0m\u001b[0;34m.\u001b[0m\u001b[0m_setitem_with_indexer\u001b[0m\u001b[0;34m(\u001b[0m\u001b[0mindexer\u001b[0m\u001b[0;34m,\u001b[0m \u001b[0mvalue\u001b[0m\u001b[0;34m,\u001b[0m \u001b[0mself\u001b[0m\u001b[0;34m.\u001b[0m\u001b[0mname\u001b[0m\u001b[0;34m)\u001b[0m\u001b[0;34m\u001b[0m\u001b[0;34m\u001b[0m\u001b[0m\n\u001b[0m\u001b[1;32m    724\u001b[0m \u001b[0;34m\u001b[0m\u001b[0m\n\u001b[1;32m    725\u001b[0m     \u001b[0;32mdef\u001b[0m \u001b[0m_validate_key\u001b[0m\u001b[0;34m(\u001b[0m\u001b[0mself\u001b[0m\u001b[0;34m,\u001b[0m \u001b[0mkey\u001b[0m\u001b[0;34m,\u001b[0m \u001b[0maxis\u001b[0m\u001b[0;34m:\u001b[0m \u001b[0mint\u001b[0m\u001b[0;34m)\u001b[0m\u001b[0;34m:\u001b[0m\u001b[0;34m\u001b[0m\u001b[0;34m\u001b[0m\u001b[0m\n",
      "\u001b[0;32m~/miniconda3/envs/alignment/lib/python3.8/site-packages/pandas/core/indexing.py\u001b[0m in \u001b[0;36m_setitem_with_indexer\u001b[0;34m(self, indexer, value, name)\u001b[0m\n\u001b[1;32m   1730\u001b[0m             \u001b[0mself\u001b[0m\u001b[0;34m.\u001b[0m\u001b[0m_setitem_with_indexer_split_path\u001b[0m\u001b[0;34m(\u001b[0m\u001b[0mindexer\u001b[0m\u001b[0;34m,\u001b[0m \u001b[0mvalue\u001b[0m\u001b[0;34m,\u001b[0m \u001b[0mname\u001b[0m\u001b[0;34m)\u001b[0m\u001b[0;34m\u001b[0m\u001b[0;34m\u001b[0m\u001b[0m\n\u001b[1;32m   1731\u001b[0m         \u001b[0;32melse\u001b[0m\u001b[0;34m:\u001b[0m\u001b[0;34m\u001b[0m\u001b[0;34m\u001b[0m\u001b[0m\n\u001b[0;32m-> 1732\u001b[0;31m             \u001b[0mself\u001b[0m\u001b[0;34m.\u001b[0m\u001b[0m_setitem_single_block\u001b[0m\u001b[0;34m(\u001b[0m\u001b[0mindexer\u001b[0m\u001b[0;34m,\u001b[0m \u001b[0mvalue\u001b[0m\u001b[0;34m,\u001b[0m \u001b[0mname\u001b[0m\u001b[0;34m)\u001b[0m\u001b[0;34m\u001b[0m\u001b[0;34m\u001b[0m\u001b[0m\n\u001b[0m\u001b[1;32m   1733\u001b[0m \u001b[0;34m\u001b[0m\u001b[0m\n\u001b[1;32m   1734\u001b[0m     \u001b[0;32mdef\u001b[0m \u001b[0m_setitem_with_indexer_split_path\u001b[0m\u001b[0;34m(\u001b[0m\u001b[0mself\u001b[0m\u001b[0;34m,\u001b[0m \u001b[0mindexer\u001b[0m\u001b[0;34m,\u001b[0m \u001b[0mvalue\u001b[0m\u001b[0;34m,\u001b[0m \u001b[0mname\u001b[0m\u001b[0;34m:\u001b[0m \u001b[0mstr\u001b[0m\u001b[0;34m)\u001b[0m\u001b[0;34m:\u001b[0m\u001b[0;34m\u001b[0m\u001b[0;34m\u001b[0m\u001b[0m\n",
      "\u001b[0;32m~/miniconda3/envs/alignment/lib/python3.8/site-packages/pandas/core/indexing.py\u001b[0m in \u001b[0;36m_setitem_single_block\u001b[0;34m(self, indexer, value, name)\u001b[0m\n\u001b[1;32m   1957\u001b[0m             \u001b[0;31m# setting for extensionarrays that store dicts. Need to decide\u001b[0m\u001b[0;34m\u001b[0m\u001b[0;34m\u001b[0m\u001b[0;34m\u001b[0m\u001b[0m\n\u001b[1;32m   1958\u001b[0m             \u001b[0;31m# if it's worth supporting that.\u001b[0m\u001b[0;34m\u001b[0m\u001b[0;34m\u001b[0m\u001b[0;34m\u001b[0m\u001b[0m\n\u001b[0;32m-> 1959\u001b[0;31m             \u001b[0mvalue\u001b[0m \u001b[0;34m=\u001b[0m \u001b[0mself\u001b[0m\u001b[0;34m.\u001b[0m\u001b[0m_align_series\u001b[0m\u001b[0;34m(\u001b[0m\u001b[0mindexer\u001b[0m\u001b[0;34m,\u001b[0m \u001b[0mSeries\u001b[0m\u001b[0;34m(\u001b[0m\u001b[0mvalue\u001b[0m\u001b[0;34m)\u001b[0m\u001b[0;34m)\u001b[0m\u001b[0;34m\u001b[0m\u001b[0;34m\u001b[0m\u001b[0m\n\u001b[0m\u001b[1;32m   1960\u001b[0m \u001b[0;34m\u001b[0m\u001b[0m\n\u001b[1;32m   1961\u001b[0m         \u001b[0;32melif\u001b[0m \u001b[0misinstance\u001b[0m\u001b[0;34m(\u001b[0m\u001b[0mvalue\u001b[0m\u001b[0;34m,\u001b[0m \u001b[0mABCDataFrame\u001b[0m\u001b[0;34m)\u001b[0m \u001b[0;32mand\u001b[0m \u001b[0mname\u001b[0m \u001b[0;34m!=\u001b[0m \u001b[0;34m\"iloc\"\u001b[0m\u001b[0;34m:\u001b[0m\u001b[0;34m\u001b[0m\u001b[0;34m\u001b[0m\u001b[0m\n",
      "\u001b[0;32m~/miniconda3/envs/alignment/lib/python3.8/site-packages/pandas/core/indexing.py\u001b[0m in \u001b[0;36m_align_series\u001b[0;34m(self, indexer, ser, multiindex_indexer)\u001b[0m\n\u001b[1;32m   2094\u001b[0m             \u001b[0;31m# series, so need to broadcast (see GH5206)\u001b[0m\u001b[0;34m\u001b[0m\u001b[0;34m\u001b[0m\u001b[0;34m\u001b[0m\u001b[0m\n\u001b[1;32m   2095\u001b[0m             \u001b[0;32mif\u001b[0m \u001b[0msum_aligners\u001b[0m \u001b[0;34m==\u001b[0m \u001b[0mself\u001b[0m\u001b[0;34m.\u001b[0m\u001b[0mndim\u001b[0m \u001b[0;32mand\u001b[0m \u001b[0mall\u001b[0m\u001b[0;34m(\u001b[0m\u001b[0mis_sequence\u001b[0m\u001b[0;34m(\u001b[0m\u001b[0m_\u001b[0m\u001b[0;34m)\u001b[0m \u001b[0;32mfor\u001b[0m \u001b[0m_\u001b[0m \u001b[0;32min\u001b[0m \u001b[0mindexer\u001b[0m\u001b[0;34m)\u001b[0m\u001b[0;34m:\u001b[0m\u001b[0;34m\u001b[0m\u001b[0;34m\u001b[0m\u001b[0m\n\u001b[0;32m-> 2096\u001b[0;31m                 \u001b[0mser\u001b[0m \u001b[0;34m=\u001b[0m \u001b[0mser\u001b[0m\u001b[0;34m.\u001b[0m\u001b[0mreindex\u001b[0m\u001b[0;34m(\u001b[0m\u001b[0mobj\u001b[0m\u001b[0;34m.\u001b[0m\u001b[0maxes\u001b[0m\u001b[0;34m[\u001b[0m\u001b[0;36m0\u001b[0m\u001b[0;34m]\u001b[0m\u001b[0;34m[\u001b[0m\u001b[0mindexer\u001b[0m\u001b[0;34m[\u001b[0m\u001b[0;36m0\u001b[0m\u001b[0;34m]\u001b[0m\u001b[0;34m]\u001b[0m\u001b[0;34m,\u001b[0m \u001b[0mcopy\u001b[0m\u001b[0;34m=\u001b[0m\u001b[0;32mTrue\u001b[0m\u001b[0;34m)\u001b[0m\u001b[0;34m.\u001b[0m\u001b[0m_values\u001b[0m\u001b[0;34m\u001b[0m\u001b[0;34m\u001b[0m\u001b[0m\n\u001b[0m\u001b[1;32m   2097\u001b[0m \u001b[0;34m\u001b[0m\u001b[0m\n\u001b[1;32m   2098\u001b[0m                 \u001b[0;31m# single indexer\u001b[0m\u001b[0;34m\u001b[0m\u001b[0;34m\u001b[0m\u001b[0;34m\u001b[0m\u001b[0m\n",
      "\u001b[0;32m~/miniconda3/envs/alignment/lib/python3.8/site-packages/pandas/core/series.py\u001b[0m in \u001b[0;36mreindex\u001b[0;34m(self, index, **kwargs)\u001b[0m\n\u001b[1;32m   4578\u001b[0m     )\n\u001b[1;32m   4579\u001b[0m     \u001b[0;32mdef\u001b[0m \u001b[0mreindex\u001b[0m\u001b[0;34m(\u001b[0m\u001b[0mself\u001b[0m\u001b[0;34m,\u001b[0m \u001b[0mindex\u001b[0m\u001b[0;34m=\u001b[0m\u001b[0;32mNone\u001b[0m\u001b[0;34m,\u001b[0m \u001b[0;34m**\u001b[0m\u001b[0mkwargs\u001b[0m\u001b[0;34m)\u001b[0m\u001b[0;34m:\u001b[0m\u001b[0;34m\u001b[0m\u001b[0;34m\u001b[0m\u001b[0m\n\u001b[0;32m-> 4580\u001b[0;31m         \u001b[0;32mreturn\u001b[0m \u001b[0msuper\u001b[0m\u001b[0;34m(\u001b[0m\u001b[0;34m)\u001b[0m\u001b[0;34m.\u001b[0m\u001b[0mreindex\u001b[0m\u001b[0;34m(\u001b[0m\u001b[0mindex\u001b[0m\u001b[0;34m=\u001b[0m\u001b[0mindex\u001b[0m\u001b[0;34m,\u001b[0m \u001b[0;34m**\u001b[0m\u001b[0mkwargs\u001b[0m\u001b[0;34m)\u001b[0m\u001b[0;34m\u001b[0m\u001b[0;34m\u001b[0m\u001b[0m\n\u001b[0m\u001b[1;32m   4581\u001b[0m \u001b[0;34m\u001b[0m\u001b[0m\n\u001b[1;32m   4582\u001b[0m     \u001b[0;34m@\u001b[0m\u001b[0mdeprecate_nonkeyword_arguments\u001b[0m\u001b[0;34m(\u001b[0m\u001b[0mversion\u001b[0m\u001b[0;34m=\u001b[0m\u001b[0;32mNone\u001b[0m\u001b[0;34m,\u001b[0m \u001b[0mallowed_args\u001b[0m\u001b[0;34m=\u001b[0m\u001b[0;34m[\u001b[0m\u001b[0;34m\"self\"\u001b[0m\u001b[0;34m,\u001b[0m \u001b[0;34m\"labels\"\u001b[0m\u001b[0;34m]\u001b[0m\u001b[0;34m)\u001b[0m\u001b[0;34m\u001b[0m\u001b[0;34m\u001b[0m\u001b[0m\n",
      "\u001b[0;32m~/miniconda3/envs/alignment/lib/python3.8/site-packages/pandas/core/generic.py\u001b[0m in \u001b[0;36mreindex\u001b[0;34m(self, *args, **kwargs)\u001b[0m\n\u001b[1;32m   4816\u001b[0m \u001b[0;34m\u001b[0m\u001b[0m\n\u001b[1;32m   4817\u001b[0m         \u001b[0;31m# perform the reindex on the axes\u001b[0m\u001b[0;34m\u001b[0m\u001b[0;34m\u001b[0m\u001b[0;34m\u001b[0m\u001b[0m\n\u001b[0;32m-> 4818\u001b[0;31m         return self._reindex_axes(\n\u001b[0m\u001b[1;32m   4819\u001b[0m             \u001b[0maxes\u001b[0m\u001b[0;34m,\u001b[0m \u001b[0mlevel\u001b[0m\u001b[0;34m,\u001b[0m \u001b[0mlimit\u001b[0m\u001b[0;34m,\u001b[0m \u001b[0mtolerance\u001b[0m\u001b[0;34m,\u001b[0m \u001b[0mmethod\u001b[0m\u001b[0;34m,\u001b[0m \u001b[0mfill_value\u001b[0m\u001b[0;34m,\u001b[0m \u001b[0mcopy\u001b[0m\u001b[0;34m\u001b[0m\u001b[0;34m\u001b[0m\u001b[0m\n\u001b[1;32m   4820\u001b[0m         ).__finalize__(self, method=\"reindex\")\n",
      "\u001b[0;32m~/miniconda3/envs/alignment/lib/python3.8/site-packages/pandas/core/generic.py\u001b[0m in \u001b[0;36m_reindex_axes\u001b[0;34m(self, axes, level, limit, tolerance, method, fill_value, copy)\u001b[0m\n\u001b[1;32m   4837\u001b[0m \u001b[0;34m\u001b[0m\u001b[0m\n\u001b[1;32m   4838\u001b[0m             \u001b[0maxis\u001b[0m \u001b[0;34m=\u001b[0m \u001b[0mself\u001b[0m\u001b[0;34m.\u001b[0m\u001b[0m_get_axis_number\u001b[0m\u001b[0;34m(\u001b[0m\u001b[0ma\u001b[0m\u001b[0;34m)\u001b[0m\u001b[0;34m\u001b[0m\u001b[0;34m\u001b[0m\u001b[0m\n\u001b[0;32m-> 4839\u001b[0;31m             obj = obj._reindex_with_indexers(\n\u001b[0m\u001b[1;32m   4840\u001b[0m                 \u001b[0;34m{\u001b[0m\u001b[0maxis\u001b[0m\u001b[0;34m:\u001b[0m \u001b[0;34m[\u001b[0m\u001b[0mnew_index\u001b[0m\u001b[0;34m,\u001b[0m \u001b[0mindexer\u001b[0m\u001b[0;34m]\u001b[0m\u001b[0;34m}\u001b[0m\u001b[0;34m,\u001b[0m\u001b[0;34m\u001b[0m\u001b[0;34m\u001b[0m\u001b[0m\n\u001b[1;32m   4841\u001b[0m                 \u001b[0mfill_value\u001b[0m\u001b[0;34m=\u001b[0m\u001b[0mfill_value\u001b[0m\u001b[0;34m,\u001b[0m\u001b[0;34m\u001b[0m\u001b[0;34m\u001b[0m\u001b[0m\n",
      "\u001b[0;32m~/miniconda3/envs/alignment/lib/python3.8/site-packages/pandas/core/generic.py\u001b[0m in \u001b[0;36m_reindex_with_indexers\u001b[0;34m(self, reindexers, fill_value, copy, allow_dups)\u001b[0m\n\u001b[1;32m   4881\u001b[0m \u001b[0;34m\u001b[0m\u001b[0m\n\u001b[1;32m   4882\u001b[0m             \u001b[0;31m# TODO: speed up on homogeneous DataFrame objects\u001b[0m\u001b[0;34m\u001b[0m\u001b[0;34m\u001b[0m\u001b[0;34m\u001b[0m\u001b[0m\n\u001b[0;32m-> 4883\u001b[0;31m             new_data = new_data.reindex_indexer(\n\u001b[0m\u001b[1;32m   4884\u001b[0m                 \u001b[0mindex\u001b[0m\u001b[0;34m,\u001b[0m\u001b[0;34m\u001b[0m\u001b[0;34m\u001b[0m\u001b[0m\n\u001b[1;32m   4885\u001b[0m                 \u001b[0mindexer\u001b[0m\u001b[0;34m,\u001b[0m\u001b[0;34m\u001b[0m\u001b[0;34m\u001b[0m\u001b[0m\n",
      "\u001b[0;32m~/miniconda3/envs/alignment/lib/python3.8/site-packages/pandas/core/internals/managers.py\u001b[0m in \u001b[0;36mreindex_indexer\u001b[0;34m(self, new_axis, indexer, axis, fill_value, allow_dups, copy, consolidate, only_slice)\u001b[0m\n\u001b[1;32m    668\u001b[0m         \u001b[0;31m# some axes don't allow reindexing with dups\u001b[0m\u001b[0;34m\u001b[0m\u001b[0;34m\u001b[0m\u001b[0;34m\u001b[0m\u001b[0m\n\u001b[1;32m    669\u001b[0m         \u001b[0;32mif\u001b[0m \u001b[0;32mnot\u001b[0m \u001b[0mallow_dups\u001b[0m\u001b[0;34m:\u001b[0m\u001b[0;34m\u001b[0m\u001b[0;34m\u001b[0m\u001b[0m\n\u001b[0;32m--> 670\u001b[0;31m             \u001b[0mself\u001b[0m\u001b[0;34m.\u001b[0m\u001b[0maxes\u001b[0m\u001b[0;34m[\u001b[0m\u001b[0maxis\u001b[0m\u001b[0;34m]\u001b[0m\u001b[0;34m.\u001b[0m\u001b[0m_validate_can_reindex\u001b[0m\u001b[0;34m(\u001b[0m\u001b[0mindexer\u001b[0m\u001b[0;34m)\u001b[0m\u001b[0;34m\u001b[0m\u001b[0;34m\u001b[0m\u001b[0m\n\u001b[0m\u001b[1;32m    671\u001b[0m \u001b[0;34m\u001b[0m\u001b[0m\n\u001b[1;32m    672\u001b[0m         \u001b[0;32mif\u001b[0m \u001b[0maxis\u001b[0m \u001b[0;34m>=\u001b[0m \u001b[0mself\u001b[0m\u001b[0;34m.\u001b[0m\u001b[0mndim\u001b[0m\u001b[0;34m:\u001b[0m\u001b[0;34m\u001b[0m\u001b[0;34m\u001b[0m\u001b[0m\n",
      "\u001b[0;32m~/miniconda3/envs/alignment/lib/python3.8/site-packages/pandas/core/indexes/base.py\u001b[0m in \u001b[0;36m_validate_can_reindex\u001b[0;34m(self, indexer)\u001b[0m\n\u001b[1;32m   3783\u001b[0m         \u001b[0;31m# trying to reindex on an axis with duplicates\u001b[0m\u001b[0;34m\u001b[0m\u001b[0;34m\u001b[0m\u001b[0;34m\u001b[0m\u001b[0m\n\u001b[1;32m   3784\u001b[0m         \u001b[0;32mif\u001b[0m \u001b[0;32mnot\u001b[0m \u001b[0mself\u001b[0m\u001b[0;34m.\u001b[0m\u001b[0m_index_as_unique\u001b[0m \u001b[0;32mand\u001b[0m \u001b[0mlen\u001b[0m\u001b[0;34m(\u001b[0m\u001b[0mindexer\u001b[0m\u001b[0;34m)\u001b[0m\u001b[0;34m:\u001b[0m\u001b[0;34m\u001b[0m\u001b[0;34m\u001b[0m\u001b[0m\n\u001b[0;32m-> 3785\u001b[0;31m             \u001b[0;32mraise\u001b[0m \u001b[0mValueError\u001b[0m\u001b[0;34m(\u001b[0m\u001b[0;34m\"cannot reindex from a duplicate axis\"\u001b[0m\u001b[0;34m)\u001b[0m\u001b[0;34m\u001b[0m\u001b[0;34m\u001b[0m\u001b[0m\n\u001b[0m\u001b[1;32m   3786\u001b[0m \u001b[0;34m\u001b[0m\u001b[0m\n\u001b[1;32m   3787\u001b[0m     def reindex(\n",
      "\u001b[0;31mValueError\u001b[0m: cannot reindex from a duplicate axis"
     ]
    },
    {
     "data": {
      "text/plain": [
       "<Figure size 720x432 with 0 Axes>"
      ]
     },
     "metadata": {},
     "output_type": "display_data"
    },
    {
     "data": {
      "image/png": "[encoded data removed]",
      "text/plain": [
       "<Figure size 432x288 with 1 Axes>"
      ]
     },
     "metadata": {
      "needs_background": "light"
     },
     "output_type": "display_data"
    }
   ],
   "source": [
    "# bert language embeddings last layer\n",
    "plot_percentage_in_order_sns(\"vg nouns: absolute\",aggregated_vg_noun_data,list(list(zip(*noun_aoa_sorted))[0]),\n",
    "                         step=10,num_simulation=10,concept_accum=True,relative=False)"
   ]
  },
  {
   "cell_type": "code",
   "execution_count": null,
   "id": "eccf6483-1af3-4724-986f-d87f52ee6c7f",
   "metadata": {},
   "outputs": [],
   "source": [
    "ag_true,ag_sh,ag_sh_err,xs=sim_in_order(aggregated_vg_noun_data,list(list(zip(*noun_aoa_sorted))[0]),\n",
    "                         step=5,num_simulation=1000,concept_accum=True,relative=False)"
   ]
  }
 ],
 "metadata": {
  "kernelspec": {
   "display_name": "Python 3 (ipykernel)",
   "language": "python",
   "name": "python3"
  },
  "language_info": {
   "codemirror_mode": {
    "name": "ipython",
    "version": 3
   },
   "file_extension": ".py",
   "mimetype": "text/x-python",
   "name": "python",
   "nbconvert_exporter": "python",
   "pygments_lexer": "ipython3",
   "version": "3.8.12"
  }
 },
 "nbformat": 4,
 "nbformat_minor": 5
}
