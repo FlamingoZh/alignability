{
 "cells": [
  {
   "cell_type": "code",
   "execution_count": 52,
   "id": "ad73e247-ca03-4505-a003-003d36d09442",
   "metadata": {},
   "outputs": [],
   "source": [
    "import csv\n",
    "import sys\n",
    "import os\n",
    "import pickle\n",
    "import random\n",
    "import numpy as np\n",
    "import time\n",
    "import operator\n",
    "import seaborn as sns\n",
    "import pandas as pd\n",
    "\n",
    "import matplotlib\n",
    "import matplotlib.pyplot as plt\n",
    "\n",
    "from collections import Counter\n",
    "\n",
    "from math import sqrt\n",
    "import statsmodels.stats.api as sms\n",
    "\n",
    "import scipy.stats\n",
    "from scipy.stats import entropy\n",
    "from scipy.stats import spearmanr\n",
    "from scipy.stats import zscore\n",
    "from sklearn.linear_model import LinearRegression\n",
    "from sklearn.metrics.pairwise import cosine_similarity"
   ]
  },
  {
   "cell_type": "code",
   "execution_count": 53,
   "id": "792ad9a2-553d-43ec-8eb0-d64d91986afb",
   "metadata": {},
   "outputs": [],
   "source": [
    "np.set_printoptions(precision=2)"
   ]
  },
  {
   "cell_type": "code",
   "execution_count": 54,
   "id": "0e548961-4300-4b1e-8841-95b96117f14a",
   "metadata": {},
   "outputs": [],
   "source": [
    "sys.path.append('../python')\n",
    "from permutation import permutation, compute_alignment_strength\n",
    "from utils.utils_funcs import get_variance, get_distinctness, get_distinctness_from_nearest_5, aggregate_embeddings_visual_and_language\n",
    "from utils.utils_funcs import load_data_to_dict"
   ]
  },
  {
   "cell_type": "code",
   "execution_count": 55,
   "id": "b29cc379-23c5-4a13-b382-b83aad4e50d3",
   "metadata": {},
   "outputs": [],
   "source": [
    "def get_alignment_strength(struct,concepts,relative):\n",
    "    visual_embeddings_list=list()\n",
    "    langauge_embeddings_list=list()\n",
    "    for concept in concepts:\n",
    "        embeddings=struct[\"embeds\"][concept]\n",
    "        visual_embeddings_list.append(embeddings[\"visual\"])\n",
    "        langauge_embeddings_list.append(embeddings[\"language\"])\n",
    "    z_0=np.array(visual_embeddings_list)\n",
    "    z_1=np.array(langauge_embeddings_list)\n",
    "    if relative:\n",
    "        return permutation(z_0,z_1,n_sim=100)[0]\n",
    "    else:\n",
    "        return compute_alignment_strength(z_0,z_1)"
   ]
  },
  {
   "cell_type": "code",
   "execution_count": 56,
   "id": "8b0fd3b0-ce6b-44f1-9125-8beca0e2794e",
   "metadata": {},
   "outputs": [],
   "source": [
    "def print_statistics(value_dict,name):\n",
    "    print(\"mean \"+name+\": \",np.mean(list(value_dict.values())),\"95% confidence:\",sms.DescrStatsW(list(value_dict.values())).tconfint_mean())"
   ]
  },
  {
   "cell_type": "markdown",
   "id": "fa513f82-af46-4e7d-9611-66e73bb7bfb2",
   "metadata": {},
   "source": [
    "----"
   ]
  },
  {
   "cell_type": "code",
   "execution_count": 57,
   "id": "7089e9b6-825b-4481-9ada-48dcd069098e",
   "metadata": {
    "tags": []
   },
   "outputs": [],
   "source": [
    "# vg_noun_data=pickle.load(open(\"../data/dumped_embeddings/vg_noun_ll_swav_bert_20.pkl\",\"rb\"))\n",
    "# vg_verb_data=pickle.load(open(\"../data/dumped_embeddings/vg_verb_ll_swav_bert_20.pkl\",\"rb\"))\n",
    "\n",
    "# aggregated_vg_noun_data=aggregate_embeddings_visual_and_language(vg_noun_data,20,20)\n",
    "# aggregated_vg_verb_data=aggregate_embeddings_visual_and_language(vg_verb_data,20,20)"
   ]
  },
  {
   "cell_type": "code",
   "execution_count": 58,
   "id": "7fd8fcaa-91de-4135-8551-62d54c93768e",
   "metadata": {},
   "outputs": [],
   "source": [
    "# vg_noun_data=pickle.load(open(\"../data/dumped_embeddings/vg_noun_concept_least20_swav_bert_20.pkl\",\"rb\"))\n",
    "# vg_verb_data=pickle.load(open(\"../data/dumped_embeddings/vg_verb_concept_least20_swav_bert_20.pkl\",\"rb\"))\n",
    "\n",
    "# aggregated_vg_noun_data=aggregate_embeddings_visual_and_language(vg_noun_data,20,20)\n",
    "# aggregated_vg_verb_data=aggregate_embeddings_visual_and_language(vg_verb_data,20,20)"
   ]
  },
  {
   "cell_type": "code",
   "execution_count": 59,
   "id": "8e099782-e3b7-4e9f-bce1-5cb44b5a9f3b",
   "metadata": {},
   "outputs": [],
   "source": [
    "# vg_noun_data=pickle.load(open(\"../data/dumped_embeddings/vg_noun_concept_least20_swav_glove_20.pkl\",\"rb\"))\n",
    "# vg_verb_data=pickle.load(open(\"../data/dumped_embeddings/vg_verb_concept_least20_swav_glove_20.pkl\",\"rb\"))\n",
    "\n",
    "# aggregated_vg_noun_data=aggregate_embeddings_visual_and_language(vg_noun_data,20,20)\n",
    "# aggregated_vg_verb_data=aggregate_embeddings_visual_and_language(vg_verb_data,20,20)"
   ]
  },
  {
   "cell_type": "code",
   "execution_count": 60,
   "id": "b419b8a2-91ad-4310-af87-f2f987fee6f2",
   "metadata": {},
   "outputs": [],
   "source": [
    "# vg_noun_data=pickle.load(open(\"../data/dumped_embeddings/vg_noun_swav_bert_window5_20.pkl\",\"rb\"))\n",
    "# vg_verb_data=pickle.load(open(\"../data/dumped_embeddings/vg_verb_swav_bert_window5_20.pkl\",\"rb\"))\n",
    "\n",
    "# aggregated_vg_noun_data=aggregate_embeddings_visual_and_language(vg_noun_data,20,20)\n",
    "# aggregated_vg_verb_data=aggregate_embeddings_visual_and_language(vg_verb_data,20,20)"
   ]
  },
  {
   "cell_type": "code",
   "execution_count": 61,
   "id": "b2f46f26-2628-4da1-a340-d4958f7b84ec",
   "metadata": {},
   "outputs": [],
   "source": [
    "vg_noun_data=pickle.load(open(\"../data/dumped_embeddings_replication/vg_noun_least20_ll_swav_bert_20.pkl\",\"rb\"))\n",
    "vg_verb_data=pickle.load(open(\"../data/dumped_embeddings_replication/vg_verb_least20_ll_swav_bert_20.pkl\",\"rb\"))\n",
    "\n",
    "aggregated_vg_noun_data=aggregate_embeddings_visual_and_language(vg_noun_data,20,20)\n",
    "aggregated_vg_verb_data=aggregate_embeddings_visual_and_language(vg_verb_data,20,20)"
   ]
  },
  {
   "cell_type": "code",
   "execution_count": 62,
   "id": "a6a9e91f-c4c5-4945-b747-390078e4f531",
   "metadata": {},
   "outputs": [],
   "source": [
    "noun_visual_variance,noun_language_variance=get_variance(vg_noun_data)\n",
    "verb_visual_variance,verb_language_variance=get_variance(vg_verb_data)"
   ]
  },
  {
   "cell_type": "code",
   "execution_count": 63,
   "id": "a493570a-b67e-43a4-8168-c3c99f5be87d",
   "metadata": {},
   "outputs": [],
   "source": [
    "# noun_visual_distinctness,noun_language_distinctness=get_distinctness_from_nearest_5(vg_noun_data)\n",
    "# verb_visual_distinctness,verb_language_distinctness=get_distinctness_from_nearest_5(vg_verb_data)"
   ]
  },
  {
   "cell_type": "code",
   "execution_count": 64,
   "id": "108c6ea0-0666-49ad-9371-51ff2c294f3e",
   "metadata": {},
   "outputs": [],
   "source": [
    "noun_visual_distinctness,noun_language_distinctness=get_distinctness(vg_noun_data)\n",
    "verb_visual_distinctness,verb_language_distinctness=get_distinctness(vg_verb_data)"
   ]
  },
  {
   "cell_type": "markdown",
   "id": "0b8fea55-aaa6-47f5-85ee-722b89798f83",
   "metadata": {},
   "source": [
    "----"
   ]
  },
  {
   "cell_type": "code",
   "execution_count": 65,
   "id": "eb060cbf-8d63-4f7d-850b-b1017f77f92b",
   "metadata": {},
   "outputs": [],
   "source": [
    "# noun_aoa_dict=load_data_to_dict(\"../data/processed/aoa/kuperman_noun_aoa.txt\",concepts=vg_noun_data[\"words\"])\n",
    "# verb_aoa_dict=load_data_to_dict(\"../data/processed/aoa/kuperman_verb_aoa.txt\",concepts=vg_verb_data[\"words\"])\n",
    "\n",
    "# noun_aoa_sorted = sorted(noun_aoa_dict.items(), key=operator.itemgetter(1))\n",
    "# verb_aoa_sorted = sorted(verb_aoa_dict.items(), key=operator.itemgetter(1))"
   ]
  },
  {
   "cell_type": "code",
   "execution_count": 66,
   "id": "7f096160-1865-4311-8f76-1745c7082e6f",
   "metadata": {},
   "outputs": [],
   "source": [
    "noun_aoa_dict=load_data_to_dict(\"../data/processed/aoa/wordbank_noun_aoa.txt\",concepts=vg_noun_data[\"words\"])\n",
    "verb_aoa_dict=load_data_to_dict(\"../data/processed/aoa/wordbank_verb_aoa.txt\",concepts=vg_verb_data[\"words\"])\n",
    "\n",
    "noun_aoa_sorted = sorted(noun_aoa_dict.items(), key=operator.itemgetter(1))\n",
    "verb_aoa_sorted = sorted(verb_aoa_dict.items(), key=operator.itemgetter(1))"
   ]
  },
  {
   "cell_type": "code",
   "execution_count": 67,
   "id": "9b86fd7f-3464-426e-9d4d-088a5ace1469",
   "metadata": {},
   "outputs": [],
   "source": [
    "# noun_aoa_dict=load_data_to_dict(\"../data/processed/aoa/glasgow_noun_aoa.txt\",concepts=vg_noun_data[\"words\"])\n",
    "# verb_aoa_dict=load_data_to_dict(\"../data/processed/aoa/glasgow_verb_aoa.txt\",concepts=vg_verb_data[\"words\"])\n",
    "\n",
    "# noun_aoa_sorted = sorted(noun_aoa_dict.items(), key=operator.itemgetter(1))\n",
    "# verb_aoa_sorted = sorted(verb_aoa_dict.items(), key=operator.itemgetter(1))"
   ]
  },
  {
   "cell_type": "markdown",
   "id": "dd56cb5b-778e-40a4-a5dc-7c3fa7433d54",
   "metadata": {},
   "source": [
    "----"
   ]
  },
  {
   "cell_type": "code",
   "execution_count": 68,
   "id": "6dce410b-9ce1-4159-b68e-2c667db55ed7",
   "metadata": {},
   "outputs": [
    {
     "name": "stdout",
     "output_type": "stream",
     "text": [
      "vg noun visual:\n",
      "mean variance:  0.74624723 95% confidence: (0.7315858518875439, 0.7609086846939498)\n",
      "vg verb visual:\n",
      "mean variance:  0.85693115 95% confidence: (0.845432021881649, 0.8684302246771308)\n",
      "vg noun language:\n",
      "mean variance:  9.230545 95% confidence: (9.075986224720697, 9.385104399044067)\n",
      "vg verb language:\n",
      "mean variance:  9.099842 95% confidence: (8.937698007086327, 9.26198719410444)\n"
     ]
    }
   ],
   "source": [
    "print(\"vg noun visual:\")\n",
    "print_statistics(noun_visual_variance,\"variance\")\n",
    "\n",
    "print(\"vg verb visual:\")\n",
    "print_statistics(verb_visual_variance,\"variance\")\n",
    "\n",
    "print(\"vg noun language:\")\n",
    "print_statistics(noun_language_variance,\"variance\")\n",
    "\n",
    "print(\"vg verb language:\")\n",
    "print_statistics(verb_language_variance,\"variance\")"
   ]
  },
  {
   "cell_type": "code",
   "execution_count": 69,
   "id": "1c0bf551-13ae-4697-85e9-1d8ffa10197b",
   "metadata": {},
   "outputs": [
    {
     "name": "stdout",
     "output_type": "stream",
     "text": [
      "vg noun visual:\n",
      "mean distinctness:  1.0762373666914682 95% confidence: (1.0690750794474924, 1.083399653935444)\n",
      "vg verb visual:\n",
      "mean distinctness:  1.0365499585902072 95% confidence: (1.0330640314538138, 1.0400358857266006)\n",
      "vg noun language:\n",
      "mean distinctness:  14.069331854095804 95% confidence: (13.967759012842953, 14.170904695348659)\n",
      "vg verb language:\n",
      "mean distinctness:  13.483786927791948 95% confidence: (13.371705713065829, 13.595868142518068)\n"
     ]
    }
   ],
   "source": [
    "print(\"vg noun visual:\")\n",
    "print_statistics(noun_visual_distinctness,\"distinctness\")\n",
    "\n",
    "print(\"vg verb visual:\")\n",
    "print_statistics(verb_visual_distinctness,\"distinctness\")\n",
    "\n",
    "print(\"vg noun language:\")\n",
    "print_statistics(noun_language_distinctness,\"distinctness\")\n",
    "\n",
    "print(\"vg verb language:\")\n",
    "print_statistics(verb_language_distinctness,\"distinctness\")"
   ]
  },
  {
   "cell_type": "code",
   "execution_count": 70,
   "id": "4b303de7-497e-4764-87e2-23b80cd2d64b",
   "metadata": {},
   "outputs": [],
   "source": [
    "def t_test(variance1,variance2):\n",
    "    print(scipy.stats.ttest_ind(list(variance1.values()),list(variance2.values())))"
   ]
  },
  {
   "cell_type": "code",
   "execution_count": 71,
   "id": "2370efed-33de-4cc5-8892-87bd0ed92759",
   "metadata": {},
   "outputs": [
    {
     "name": "stdout",
     "output_type": "stream",
     "text": [
      "Ttest_indResult(statistic=-11.71044417545351, pvalue=1.3747882912082277e-27)\n"
     ]
    }
   ],
   "source": [
    "t_test(noun_visual_variance,verb_visual_variance)"
   ]
  },
  {
   "cell_type": "code",
   "execution_count": 72,
   "id": "ac6add4e-1c77-4314-bff0-39436ea1436e",
   "metadata": {},
   "outputs": [
    {
     "name": "stdout",
     "output_type": "stream",
     "text": [
      "Ttest_indResult(statistic=1.1502521224988027, pvalue=0.2506976709751245)\n"
     ]
    }
   ],
   "source": [
    "t_test(noun_language_variance,verb_language_variance)"
   ]
  },
  {
   "cell_type": "code",
   "execution_count": 73,
   "id": "46ad6548-f6bd-4d18-b58f-de0783e1c2ee",
   "metadata": {},
   "outputs": [
    {
     "name": "stdout",
     "output_type": "stream",
     "text": [
      "Ttest_indResult(statistic=9.822159721119402, pvalue=1.2616452320935945e-20)\n"
     ]
    }
   ],
   "source": [
    "t_test(noun_visual_distinctness,verb_visual_distinctness)"
   ]
  },
  {
   "cell_type": "code",
   "execution_count": 74,
   "id": "815b82a8-414c-4324-b675-4643675a4f64",
   "metadata": {},
   "outputs": [
    {
     "name": "stdout",
     "output_type": "stream",
     "text": [
      "Ttest_indResult(statistic=7.631495376974633, pvalue=1.5869189289369576e-13)\n"
     ]
    }
   ],
   "source": [
    "t_test(noun_language_distinctness,verb_language_distinctness)"
   ]
  },
  {
   "cell_type": "code",
   "execution_count": 75,
   "id": "ce1d32a9-d2b0-4c93-bca3-2cbfe90b534e",
   "metadata": {},
   "outputs": [],
   "source": [
    "temp1=list(noun_visual_variance.values())+list(noun_visual_distinctness.values())+ \\\n",
    "    list(noun_language_variance.values())+list(noun_language_distinctness.values())\n",
    "temp2=[\"visual_var\"]*len(noun_visual_variance)+[\"visual_dist\"]*len(noun_visual_distinctness)+ \\\n",
    "    [\"lang_var\"]*len(noun_language_variance)+[\"lang_dist\"]*len(noun_language_distinctness)\n",
    "\n",
    "df1=pd.DataFrame(dict(\n",
    "    value=temp1,\n",
    "    measure=temp2\n",
    "))\n",
    "df1[\"type\"]=\"VG Nouns\""
   ]
  },
  {
   "cell_type": "code",
   "execution_count": 76,
   "id": "71e52ba4-655f-4e5c-80c3-99dfc1d7f1b6",
   "metadata": {},
   "outputs": [],
   "source": [
    "temp1=list(verb_visual_variance.values())+list(verb_visual_distinctness.values())+ \\\n",
    "    list(verb_language_variance.values())+list(verb_language_distinctness.values())\n",
    "temp2=[\"visual_var\"]*len(verb_visual_variance)+[\"visual_dist\"]*len(verb_visual_distinctness)+ \\\n",
    "    [\"lang_var\"]*len(verb_language_variance)+[\"lang_dist\"]*len(verb_language_distinctness)\n",
    "df2=pd.DataFrame(dict(\n",
    "    value=temp1,\n",
    "    measure=temp2\n",
    "))\n",
    "df2[\"type\"]=\"VG Verbs\""
   ]
  },
  {
   "cell_type": "code",
   "execution_count": 77,
   "id": "d84a71da-a34e-4642-be4b-d423ef702aa9",
   "metadata": {},
   "outputs": [],
   "source": [
    "df=pd.concat([df1,df2])"
   ]
  },
  {
   "cell_type": "code",
   "execution_count": 78,
   "id": "f10196f0-4ff8-4799-83e4-3c387666bd21",
   "metadata": {},
   "outputs": [
    {
     "data": {
      "text/html": [
       "<div>\n",
       "<style scoped>\n",
       "    .dataframe tbody tr th:only-of-type {\n",
       "        vertical-align: middle;\n",
       "    }\n",
       "\n",
       "    .dataframe tbody tr th {\n",
       "        vertical-align: top;\n",
       "    }\n",
       "\n",
       "    .dataframe thead th {\n",
       "        text-align: right;\n",
       "    }\n",
       "</style>\n",
       "<table border=\"1\" class=\"dataframe\">\n",
       "  <thead>\n",
       "    <tr style=\"text-align: right;\">\n",
       "      <th></th>\n",
       "      <th>value</th>\n",
       "      <th>measure</th>\n",
       "      <th>type</th>\n",
       "    </tr>\n",
       "  </thead>\n",
       "  <tbody>\n",
       "    <tr>\n",
       "      <th>0</th>\n",
       "      <td>0.875024</td>\n",
       "      <td>visual_var</td>\n",
       "      <td>VG Nouns</td>\n",
       "    </tr>\n",
       "    <tr>\n",
       "      <th>1</th>\n",
       "      <td>0.720059</td>\n",
       "      <td>visual_var</td>\n",
       "      <td>VG Nouns</td>\n",
       "    </tr>\n",
       "    <tr>\n",
       "      <th>2</th>\n",
       "      <td>0.835704</td>\n",
       "      <td>visual_var</td>\n",
       "      <td>VG Nouns</td>\n",
       "    </tr>\n",
       "    <tr>\n",
       "      <th>3</th>\n",
       "      <td>0.824568</td>\n",
       "      <td>visual_var</td>\n",
       "      <td>VG Nouns</td>\n",
       "    </tr>\n",
       "    <tr>\n",
       "      <th>4</th>\n",
       "      <td>0.866458</td>\n",
       "      <td>visual_var</td>\n",
       "      <td>VG Nouns</td>\n",
       "    </tr>\n",
       "    <tr>\n",
       "      <th>...</th>\n",
       "      <td>...</td>\n",
       "      <td>...</td>\n",
       "      <td>...</td>\n",
       "    </tr>\n",
       "    <tr>\n",
       "      <th>835</th>\n",
       "      <td>15.579554</td>\n",
       "      <td>lang_dist</td>\n",
       "      <td>VG Verbs</td>\n",
       "    </tr>\n",
       "    <tr>\n",
       "      <th>836</th>\n",
       "      <td>12.870713</td>\n",
       "      <td>lang_dist</td>\n",
       "      <td>VG Verbs</td>\n",
       "    </tr>\n",
       "    <tr>\n",
       "      <th>837</th>\n",
       "      <td>14.695096</td>\n",
       "      <td>lang_dist</td>\n",
       "      <td>VG Verbs</td>\n",
       "    </tr>\n",
       "    <tr>\n",
       "      <th>838</th>\n",
       "      <td>13.103101</td>\n",
       "      <td>lang_dist</td>\n",
       "      <td>VG Verbs</td>\n",
       "    </tr>\n",
       "    <tr>\n",
       "      <th>839</th>\n",
       "      <td>12.590519</td>\n",
       "      <td>lang_dist</td>\n",
       "      <td>VG Verbs</td>\n",
       "    </tr>\n",
       "  </tbody>\n",
       "</table>\n",
       "<p>1680 rows × 3 columns</p>\n",
       "</div>"
      ],
      "text/plain": [
       "         value     measure      type\n",
       "0     0.875024  visual_var  VG Nouns\n",
       "1     0.720059  visual_var  VG Nouns\n",
       "2     0.835704  visual_var  VG Nouns\n",
       "3     0.824568  visual_var  VG Nouns\n",
       "4     0.866458  visual_var  VG Nouns\n",
       "..         ...         ...       ...\n",
       "835  15.579554   lang_dist  VG Verbs\n",
       "836  12.870713   lang_dist  VG Verbs\n",
       "837  14.695096   lang_dist  VG Verbs\n",
       "838  13.103101   lang_dist  VG Verbs\n",
       "839  12.590519   lang_dist  VG Verbs\n",
       "\n",
       "[1680 rows x 3 columns]"
      ]
     },
     "execution_count": 78,
     "metadata": {},
     "output_type": "execute_result"
    }
   ],
   "source": [
    "df"
   ]
  },
  {
   "cell_type": "code",
   "execution_count": 79,
   "id": "e20ebb33-b8f6-4e55-90e9-c05adb0fd69f",
   "metadata": {},
   "outputs": [
    {
     "data": {
      "image/png": "[encoded data removed]",
      "text/plain": [
       "<Figure size 432x288 with 1 Axes>"
      ]
     },
     "metadata": {
      "needs_background": "light"
     },
     "output_type": "display_data"
    }
   ],
   "source": [
    "fig, ax =plt.subplots()\n",
    "ax = sns.violinplot(x=\"measure\", y=\"value\", hue=\"type\",\n",
    "                    data=df[(df.measure==\"visual_var\") | (df.measure==\"visual_dist\")],split=True,palette=\"Set2\",inner=None)"
   ]
  },
  {
   "cell_type": "code",
   "execution_count": 36,
   "id": "10a7deb8-7240-4c46-8b89-5beea8477b0a",
   "metadata": {},
   "outputs": [
    {
     "data": {
      "image/png": "[encoded data removed]",
      "text/plain": [
       "<Figure size 432x288 with 1 Axes>"
      ]
     },
     "metadata": {
      "needs_background": "light"
     },
     "output_type": "display_data"
    }
   ],
   "source": [
    "fig, ax =plt.subplots()\n",
    "ax = sns.violinplot(x=\"measure\", y=\"value\", hue=\"type\",\n",
    "                    data=df[(df.measure==\"l_var\") | (df.measure==\"l_dist\")],split=True,palette=\"Set2\",inner=None)"
   ]
  },
  {
   "cell_type": "code",
   "execution_count": 37,
   "id": "bc8361d8-9bd6-426f-a6b5-47cdbba96fe1",
   "metadata": {},
   "outputs": [],
   "source": [
    "temp1=list()\n",
    "noun_visual_dprime=list()\n",
    "noun_language_dprime=list()\n",
    "\n",
    "for i,j in zip(list(noun_visual_variance.values()),list(noun_visual_distinctness.values())):\n",
    "    noun_visual_dprime.append(i/j)\n",
    "    temp1.append(i/j)\n",
    "for i,j in zip(list(noun_language_variance.values()),list(noun_language_distinctness.values())):\n",
    "    noun_language_dprime.append(i/j)\n",
    "    temp1.append(i/j)\n",
    "    \n",
    "temp2=[\"visual\"]*len(noun_visual_variance)+[\"language\"]*len(noun_language_variance)\n",
    "\n",
    "df1=pd.DataFrame(dict(\n",
    "    value=temp1,\n",
    "    modality=temp2\n",
    "))\n",
    "df1[\"type\"]=\"noun\""
   ]
  },
  {
   "cell_type": "code",
   "execution_count": 38,
   "id": "fcac02ef-d803-428c-bdf5-88b1da316eb6",
   "metadata": {},
   "outputs": [],
   "source": [
    "temp1=list()\n",
    "verb_visual_dprime=list()\n",
    "verb_language_dprime=list()\n",
    "\n",
    "for i,j in zip(list(verb_visual_variance.values()),list(verb_visual_distinctness.values())):\n",
    "    verb_visual_dprime.append(i/j)\n",
    "    temp1.append(i/j)\n",
    "for i,j in zip(list(verb_language_variance.values()),list(verb_language_distinctness.values())):\n",
    "    verb_language_dprime.append(i/j)\n",
    "    temp1.append(i/j)\n",
    "    \n",
    "temp2=[\"visual\"]*len(verb_visual_variance)+[\"language\"]*len(verb_language_variance)\n",
    "\n",
    "df2=pd.DataFrame(dict(\n",
    "    value=temp1,\n",
    "    modality=temp2\n",
    "))\n",
    "df2[\"type\"]=\"verb\""
   ]
  },
  {
   "cell_type": "code",
   "execution_count": 39,
   "id": "5a80c24b-c2bc-485e-8924-b9d7d3693306",
   "metadata": {},
   "outputs": [],
   "source": [
    "df=pd.concat([df1,df2])"
   ]
  },
  {
   "cell_type": "code",
   "execution_count": 40,
   "id": "e88fadbc-7bdc-4dd6-b47e-20cd74debefa",
   "metadata": {},
   "outputs": [
    {
     "data": {
      "image/png": "[encoded data removed]",
      "text/plain": [
       "<Figure size 432x288 with 1 Axes>"
      ]
     },
     "metadata": {
      "needs_background": "light"
     },
     "output_type": "display_data"
    }
   ],
   "source": [
    "fig, ax =plt.subplots()\n",
    "ax = sns.violinplot(x=\"modality\", y=\"value\", hue=\"type\",\n",
    "                    data=df,split=True,palette=\"Set2\",inner=None)"
   ]
  },
  {
   "cell_type": "code",
   "execution_count": 41,
   "id": "108c4164-1286-4f04-ac42-b8aec9a1d146",
   "metadata": {},
   "outputs": [
    {
     "data": {
      "text/plain": [
       "Ttest_indResult(statistic=-15.323168365937187, pvalue=2.2293342680977152e-42)"
      ]
     },
     "execution_count": 41,
     "metadata": {},
     "output_type": "execute_result"
    }
   ],
   "source": [
    "scipy.stats.ttest_ind(noun_visual_dprime,verb_visual_dprime)"
   ]
  },
  {
   "cell_type": "code",
   "execution_count": 42,
   "id": "84f5fd74-8c1d-4f17-a29c-3324ace63f8c",
   "metadata": {},
   "outputs": [
    {
     "data": {
      "text/plain": [
       "Ttest_indResult(statistic=-2.9987212604025597, pvalue=0.002873101327649401)"
      ]
     },
     "execution_count": 42,
     "metadata": {},
     "output_type": "execute_result"
    }
   ],
   "source": [
    "scipy.stats.ttest_ind(noun_language_dprime,verb_language_dprime)"
   ]
  },
  {
   "cell_type": "code",
   "execution_count": 43,
   "id": "e7f40d5c-5773-4c58-a804-92f013bde0d8",
   "metadata": {},
   "outputs": [],
   "source": [
    "# function to calculate Cohen's d for independent samples\n",
    "def cohend(d1, d2):\n",
    "    # calculate the size of samples\n",
    "    n1, n2 = len(d1), len(d2)\n",
    "    # calculate the variance of the samples\n",
    "    s1, s2 = np.var(d1, ddof=1), np.var(d2, ddof=1)\n",
    "    # calculate the pooled standard deviation\n",
    "    s = sqrt(((n1 - 1) * s1 + (n2 - 1) * s2) / (n1 + n2 - 2))\n",
    "    # calculate the means of the samples\n",
    "    u1, u2 = np.mean(d1), np.mean(d2)\n",
    "    # calculate the effect size\n",
    "    return (u1 - u2) / s"
   ]
  },
  {
   "cell_type": "code",
   "execution_count": 44,
   "id": "52d2bb54-fdc9-400c-8b05-431e82189113",
   "metadata": {},
   "outputs": [
    {
     "data": {
      "text/plain": [
       "-1.1428223325084805"
      ]
     },
     "execution_count": 44,
     "metadata": {},
     "output_type": "execute_result"
    }
   ],
   "source": [
    "cohend(list(noun_visual_variance.values()),list(verb_visual_variance.values()))"
   ]
  },
  {
   "cell_type": "code",
   "execution_count": 45,
   "id": "1e20b575-891b-47f7-94cd-df085f687cf1",
   "metadata": {},
   "outputs": [
    {
     "data": {
      "text/plain": [
       "0.11225311302557868"
      ]
     },
     "execution_count": 45,
     "metadata": {},
     "output_type": "execute_result"
    }
   ],
   "source": [
    "cohend(list(noun_language_variance.values()),list(verb_language_variance.values()))"
   ]
  },
  {
   "cell_type": "code",
   "execution_count": 46,
   "id": "8f17ed2c-8220-4733-97a2-f1f9469a3611",
   "metadata": {},
   "outputs": [
    {
     "data": {
      "text/plain": [
       "0.9585446388352569"
      ]
     },
     "execution_count": 46,
     "metadata": {},
     "output_type": "execute_result"
    }
   ],
   "source": [
    "cohend(list(noun_visual_distinctness.values()),list(verb_visual_distinctness.values()))"
   ]
  },
  {
   "cell_type": "code",
   "execution_count": 47,
   "id": "e79d7efe-fc92-44e8-97b7-f398ad2c989b",
   "metadata": {},
   "outputs": [
    {
     "data": {
      "text/plain": [
       "0.7447576895095938"
      ]
     },
     "execution_count": 47,
     "metadata": {},
     "output_type": "execute_result"
    }
   ],
   "source": [
    "cohend(list(noun_language_distinctness.values()),list(verb_language_distinctness.values()))"
   ]
  },
  {
   "cell_type": "code",
   "execution_count": 48,
   "id": "aac1bf50-ee52-40b1-8f57-c63d748b630d",
   "metadata": {},
   "outputs": [
    {
     "data": {
      "text/plain": [
       "-1.4953881126120758"
      ]
     },
     "execution_count": 48,
     "metadata": {},
     "output_type": "execute_result"
    }
   ],
   "source": [
    "cohend(noun_visual_dprime,verb_visual_dprime)"
   ]
  },
  {
   "cell_type": "code",
   "execution_count": 49,
   "id": "ebb332e4-cf57-4c70-b3ef-846cadbf6f67",
   "metadata": {},
   "outputs": [
    {
     "data": {
      "text/plain": [
       "-0.29264522967791756"
      ]
     },
     "execution_count": 49,
     "metadata": {},
     "output_type": "execute_result"
    }
   ],
   "source": [
    "cohend(noun_language_dprime,verb_language_dprime)"
   ]
  },
  {
   "cell_type": "code",
   "execution_count": null,
   "id": "50011bac-cc30-47cb-add6-1e9fe6fd5585",
   "metadata": {},
   "outputs": [],
   "source": []
  }
 ],
 "metadata": {
  "kernelspec": {
   "display_name": "Python 3 (ipykernel)",
   "language": "python",
   "name": "python3"
  },
  "language_info": {
   "codemirror_mode": {
    "name": "ipython",
    "version": 3
   },
   "file_extension": ".py",
   "mimetype": "text/x-python",
   "name": "python",
   "nbconvert_exporter": "python",
   "pygments_lexer": "ipython3",
   "version": "3.8.13"
  }
 },
 "nbformat": 4,
 "nbformat_minor": 5
}
