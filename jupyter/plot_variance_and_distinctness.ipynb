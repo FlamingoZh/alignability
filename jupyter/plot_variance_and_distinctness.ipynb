{
 "cells": [
  {
   "cell_type": "code",
   "execution_count": 313,
   "id": "ad73e247-ca03-4505-a003-003d36d09442",
   "metadata": {},
   "outputs": [],
   "source": [
    "import csv\n",
    "import sys\n",
    "import os\n",
    "import pickle\n",
    "import random\n",
    "import numpy as np\n",
    "import time\n",
    "import operator\n",
    "import seaborn as sns\n",
    "import pandas as pd\n",
    "\n",
    "import matplotlib\n",
    "import matplotlib.pyplot as plt\n",
    "\n",
    "from collections import Counter\n",
    "\n",
    "from math import sqrt\n",
    "import statsmodels.stats.api as sms\n",
    "\n",
    "import scipy.stats\n",
    "from scipy.stats import entropy\n",
    "from scipy.stats import spearmanr\n",
    "from scipy.stats import zscore\n",
    "from sklearn.linear_model import LinearRegression\n",
    "from sklearn.metrics.pairwise import cosine_similarity"
   ]
  },
  {
   "cell_type": "code",
   "execution_count": 129,
   "id": "792ad9a2-553d-43ec-8eb0-d64d91986afb",
   "metadata": {},
   "outputs": [],
   "source": [
    "np.set_printoptions(precision=2)"
   ]
  },
  {
   "cell_type": "code",
   "execution_count": 130,
   "id": "0e548961-4300-4b1e-8841-95b96117f14a",
   "metadata": {},
   "outputs": [],
   "source": [
    "sys.path.append('../python')\n",
    "from permutation import permutation, compute_alignment_strength\n",
    "from utils.utils_funcs import get_variance, get_distinctness_from_nearest_5\n",
    "from utils.utils_funcs import load_data_to_dict"
   ]
  },
  {
   "cell_type": "code",
   "execution_count": 131,
   "id": "be03befc-60c1-4886-8ab7-358e8a28882f",
   "metadata": {},
   "outputs": [],
   "source": [
    "# aggregate both visual embeddings and language embeddings\n",
    "def aggregate_embeddings_visual_and_language(input_struct,n_sample_per_visual,n_sample_per_language):\n",
    "\twords=input_struct['words']\n",
    "\tembed_dict=dict()\n",
    "\tfor word in words:\n",
    "\t\tn_sample_v = min(len(input_struct['embeds'][word]['visual']), n_sample_per_visual)\n",
    "\t\tvisual_temp=np.mean(np.array(random.sample(input_struct['embeds'][word]['visual'],n_sample_v)),axis=0)\n",
    "\t\tn_sample_l = min(len(input_struct['embeds'][word]['language']), n_sample_per_language)\n",
    "\t\tlanguage_temp=np.mean(np.array(random.sample(input_struct['embeds'][word]['language'],n_sample_l)),axis=0)\n",
    "\t\t#embed_dict[word]=dict(visual=np.expand_dims(visual_temp,axis=0),language=language_temp)\n",
    "\t\tembed_dict[word]=dict(visual=visual_temp,language=np.squeeze(language_temp))\n",
    "\treturn dict(embeds=embed_dict,words=words)"
   ]
  },
  {
   "cell_type": "code",
   "execution_count": 132,
   "id": "b29cc379-23c5-4a13-b382-b83aad4e50d3",
   "metadata": {},
   "outputs": [],
   "source": [
    "def get_alignment_strength(struct,concepts,relative):\n",
    "    visual_embeddings_list=list()\n",
    "    langauge_embeddings_list=list()\n",
    "    for concept in concepts:\n",
    "        embeddings=struct[\"embeds\"][concept]\n",
    "        visual_embeddings_list.append(embeddings[\"visual\"])\n",
    "        langauge_embeddings_list.append(embeddings[\"language\"])\n",
    "    z_0=np.array(visual_embeddings_list)\n",
    "    z_1=np.array(langauge_embeddings_list)\n",
    "    if relative:\n",
    "        return permutation(z_0,z_1,n_sim=100)[0]\n",
    "    else:\n",
    "        return compute_alignment_strength(z_0,z_1)"
   ]
  },
  {
   "cell_type": "code",
   "execution_count": 133,
   "id": "1f685164-0c56-427e-b826-52814b14d6f7",
   "metadata": {},
   "outputs": [],
   "source": [
    "def get_variance(struct):\n",
    "    words=struct[\"words\"]\n",
    "    visual_variance=dict()\n",
    "    language_variance=dict()\n",
    "    for word in words:\n",
    "        visual_embeddings=struct[\"embeds\"][word][\"visual\"]\n",
    "        visual_variance[word]=np.mean(np.linalg.norm(visual_embeddings-np.mean(visual_embeddings,axis=0),axis=1))\n",
    "        language_embeddings=struct[\"embeds\"][word][\"language\"]\n",
    "        language_variance[word]=np.mean(np.linalg.norm(language_embeddings-np.mean(language_embeddings,axis=0),axis=1))\n",
    "    return visual_variance,language_variance"
   ]
  },
  {
   "cell_type": "code",
   "execution_count": 134,
   "id": "a058eb21-76e1-4d42-af28-d48e2808f0f6",
   "metadata": {},
   "outputs": [],
   "source": [
    "def get_distinctness(struct):\n",
    "    words=struct[\"words\"]\n",
    "    visual_centers=dict()\n",
    "    language_centers=dict()\n",
    "    for word in words:\n",
    "        visual_embeddings=np.array(struct[\"embeds\"][word][\"visual\"])\n",
    "        visual_centers[word]=np.mean(visual_embeddings,axis=0)\n",
    "        language_embeddings=np.array(struct[\"embeds\"][word][\"language\"])\n",
    "        language_centers[word]=np.mean(language_embeddings,axis=0)\n",
    "    visual_distinctness=dict()\n",
    "    language_distinctness=dict()\n",
    "    for word in words:\n",
    "        visual_distances=[np.linalg.norm(visual_centers[word]-visual_centers[temp]) for temp in words]\n",
    "        visual_distinctness[word]=np.sum(visual_distances)/(len(visual_distances)-1)\n",
    "        language_distances=[np.linalg.norm(language_centers[word]-language_centers[temp]) for temp in words]\n",
    "        language_distinctness[word]=np.sum(language_distances)/(len(visual_distances)-1)\n",
    "    return visual_distinctness,language_distinctness"
   ]
  },
  {
   "cell_type": "code",
   "execution_count": 135,
   "id": "2f74bad8-4a26-4b9e-b480-908a8b74201f",
   "metadata": {},
   "outputs": [],
   "source": [
    "def get_distinctness_from_nearest_5(struct):\n",
    "    words=struct[\"words\"]\n",
    "    visual_centers=dict()\n",
    "    language_centers=dict()\n",
    "    for word in words:\n",
    "        visual_embeddings=np.array(struct[\"embeds\"][word][\"visual\"])\n",
    "        visual_centers[word]=np.mean(visual_embeddings,axis=0)\n",
    "        language_embeddings=np.array(struct[\"embeds\"][word][\"language\"])\n",
    "        language_centers[word]=np.mean(language_embeddings,axis=0)\n",
    "    visual_distinctness=dict()\n",
    "    language_distinctness=dict()\n",
    "    for word in words:\n",
    "        visual_distances=[np.linalg.norm(visual_centers[word]-visual_centers[temp]) for temp in words]\n",
    "        visual_distinctness[word]=np.sum(sorted(visual_distances)[:6])/5\n",
    "        language_distances=[np.linalg.norm(language_centers[word]-language_centers[temp]) for temp in words]\n",
    "        language_distinctness[word]=np.sum(sorted(language_distances)[:6])/5\n",
    "    return visual_distinctness,language_distinctness"
   ]
  },
  {
   "cell_type": "code",
   "execution_count": 136,
   "id": "8b0fd3b0-ce6b-44f1-9125-8beca0e2794e",
   "metadata": {},
   "outputs": [],
   "source": [
    "def print_statistics(value_dict,name):\n",
    "    print(\"mean \"+name+\": \",np.mean(list(value_dict.values())),\"95% confidence:\",sms.DescrStatsW(list(value_dict.values())).tconfint_mean())"
   ]
  },
  {
   "cell_type": "markdown",
   "id": "b57ef0b8-81b1-411c-9d9e-a7e057e840aa",
   "metadata": {},
   "source": [
    "----"
   ]
  },
  {
   "cell_type": "code",
   "execution_count": 137,
   "id": "eb060cbf-8d63-4f7d-850b-b1017f77f92b",
   "metadata": {},
   "outputs": [],
   "source": [
    "noun_aoa_dict=load_data_to_dict(\"../data/processed/aoa/kuperman_noun_aoa.txt\",concepts=vg_noun_data[\"words\"])\n",
    "verb_aoa_dict=load_data_to_dict(\"../data/processed/aoa/kuperman_verb_aoa.txt\",concepts=vg_verb_data[\"words\"])\n",
    "\n",
    "noun_aoa_sorted = sorted(noun_aoa_dict.items(), key=operator.itemgetter(1))\n",
    "verb_aoa_sorted = sorted(verb_aoa_dict.items(), key=operator.itemgetter(1))"
   ]
  },
  {
   "cell_type": "code",
   "execution_count": 138,
   "id": "7f096160-1865-4311-8f76-1745c7082e6f",
   "metadata": {},
   "outputs": [],
   "source": [
    "# noun_aoa_dict=load_data_to_dict(\"../data/processed/aoa/wordbank_noun_aoa.txt\",concepts=vg_noun_data[\"words\"])\n",
    "# verb_aoa_dict=load_data_to_dict(\"../data/processed/aoa/wordbank_verb_aoa.txt\",concepts=vg_verb_data[\"words\"])\n",
    "\n",
    "# noun_aoa_sorted = sorted(noun_aoa_dict.items(), key=operator.itemgetter(1))\n",
    "# verb_aoa_sorted = sorted(verb_aoa_dict.items(), key=operator.itemgetter(1))"
   ]
  },
  {
   "cell_type": "code",
   "execution_count": 139,
   "id": "9b86fd7f-3464-426e-9d4d-088a5ace1469",
   "metadata": {},
   "outputs": [],
   "source": [
    "# noun_aoa_dict=load_data_to_dict(\"../data/processed/aoa/glasgow_noun_aoa.txt\",concepts=vg_noun_data[\"words\"])\n",
    "# verb_aoa_dict=load_data_to_dict(\"../data/processed/aoa/glasgow_verb_aoa.txt\",concepts=vg_verb_data[\"words\"])\n",
    "\n",
    "# noun_aoa_sorted = sorted(noun_aoa_dict.items(), key=operator.itemgetter(1))\n",
    "# verb_aoa_sorted = sorted(verb_aoa_dict.items(), key=operator.itemgetter(1))"
   ]
  },
  {
   "cell_type": "markdown",
   "id": "fa513f82-af46-4e7d-9611-66e73bb7bfb2",
   "metadata": {},
   "source": [
    "----"
   ]
  },
  {
   "cell_type": "code",
   "execution_count": 375,
   "id": "b419b8a2-91ad-4310-af87-f2f987fee6f2",
   "metadata": {},
   "outputs": [],
   "source": [
    "vg_noun_data=pickle.load(open(\"../data/dumped_embeddings/vg_noun_swav_bert_window5_20.pkl\",\"rb\"))\n",
    "vg_verb_data=pickle.load(open(\"../data/dumped_embeddings/vg_verb_swav_bert_window5_20.pkl\",\"rb\"))\n",
    "\n",
    "aggregated_vg_noun_data=aggregate_embeddings_visual_and_language(vg_noun_data,20,20)\n",
    "aggregated_vg_verb_data=aggregate_embeddings_visual_and_language(vg_verb_data,20,20)"
   ]
  },
  {
   "cell_type": "code",
   "execution_count": 302,
   "id": "7089e9b6-825b-4481-9ada-48dcd069098e",
   "metadata": {
    "tags": []
   },
   "outputs": [],
   "source": [
    "# vg_noun_data=pickle.load(open(\"../data/dumped_embeddings/vg_noun_ll_swav_bert_20.pkl\",\"rb\"))\n",
    "# vg_verb_data=pickle.load(open(\"../data/dumped_embeddings/vg_verb_ll_swav_bert_20.pkl\",\"rb\"))\n",
    "\n",
    "# aggregated_vg_noun_data=aggregate_embeddings_visual_and_language(vg_noun_data,20,20)\n",
    "# aggregated_vg_verb_data=aggregate_embeddings_visual_and_language(vg_verb_data,20,20)"
   ]
  },
  {
   "cell_type": "code",
   "execution_count": 376,
   "id": "7fd8fcaa-91de-4135-8551-62d54c93768e",
   "metadata": {},
   "outputs": [],
   "source": [
    "# vg_noun_data=pickle.load(open(\"../data/dumped_embeddings/vg_noun_concept_least20_swav_bert_20.pkl\",\"rb\"))\n",
    "# vg_verb_data=pickle.load(open(\"../data/dumped_embeddings/vg_verb_concept_least20_swav_bert_20.pkl\",\"rb\"))\n",
    "\n",
    "# aggregated_vg_noun_data=aggregate_embeddings_visual_and_language(vg_noun_data,20,20)\n",
    "# aggregated_vg_verb_data=aggregate_embeddings_visual_and_language(vg_verb_data,20,20)"
   ]
  },
  {
   "cell_type": "code",
   "execution_count": 345,
   "id": "8e099782-e3b7-4e9f-bce1-5cb44b5a9f3b",
   "metadata": {},
   "outputs": [],
   "source": [
    "# vg_noun_data=pickle.load(open(\"../data/dumped_embeddings/vg_noun_concept_least20_swav_glove_20.pkl\",\"rb\"))\n",
    "# vg_verb_data=pickle.load(open(\"../data/dumped_embeddings/vg_verb_concept_least20_swav_glove_20.pkl\",\"rb\"))\n",
    "\n",
    "# aggregated_vg_noun_data=aggregate_embeddings_visual_and_language(vg_noun_data,20,20)\n",
    "# aggregated_vg_verb_data=aggregate_embeddings_visual_and_language(vg_verb_data,20,20)"
   ]
  },
  {
   "cell_type": "code",
   "execution_count": 377,
   "id": "a6a9e91f-c4c5-4945-b747-390078e4f531",
   "metadata": {},
   "outputs": [],
   "source": [
    "noun_visual_variance,noun_language_variance=get_variance(vg_noun_data)\n",
    "verb_visual_variance,verb_language_variance=get_variance(vg_verb_data)"
   ]
  },
  {
   "cell_type": "code",
   "execution_count": 378,
   "id": "a493570a-b67e-43a4-8168-c3c99f5be87d",
   "metadata": {},
   "outputs": [],
   "source": [
    "noun_visual_distinctness,noun_language_distinctness=get_distinctness_from_nearest_5(vg_noun_data)\n",
    "verb_visual_distinctness,verb_language_distinctness=get_distinctness_from_nearest_5(vg_verb_data)"
   ]
  },
  {
   "cell_type": "code",
   "execution_count": 379,
   "id": "108c6ea0-0666-49ad-9371-51ff2c294f3e",
   "metadata": {},
   "outputs": [],
   "source": [
    "noun_visual_distinctness,noun_language_distinctness=get_distinctness(vg_noun_data)\n",
    "verb_visual_distinctness,verb_language_distinctness=get_distinctness(vg_verb_data)"
   ]
  },
  {
   "cell_type": "markdown",
   "id": "dd56cb5b-778e-40a4-a5dc-7c3fa7433d54",
   "metadata": {},
   "source": [
    "----"
   ]
  },
  {
   "cell_type": "code",
   "execution_count": 380,
   "id": "6dce410b-9ce1-4159-b68e-2c667db55ed7",
   "metadata": {},
   "outputs": [
    {
     "name": "stdout",
     "output_type": "stream",
     "text": [
      "vg noun visual:\n",
      "mean variance:  0.7456255 95% confidence: (0.7313347863563777, 0.7599162971425317)\n",
      "vg verb visual:\n",
      "mean variance:  0.8547193 95% confidence: (0.843691742700127, 0.865746833600812)\n",
      "vg noun language:\n",
      "mean variance:  0.23496059 95% confidence: (0.23058949309298424, 0.23933167757879667)\n",
      "vg verb language:\n",
      "mean variance:  0.23424268 95% confidence: (0.22957035044252097, 0.23891500805682434)\n"
     ]
    }
   ],
   "source": [
    "print(\"vg noun visual:\")\n",
    "print_statistics(noun_visual_variance,\"variance\")\n",
    "\n",
    "print(\"vg verb visual:\")\n",
    "print_statistics(verb_visual_variance,\"variance\")\n",
    "\n",
    "print(\"vg noun language:\")\n",
    "print_statistics(noun_language_variance,\"variance\")\n",
    "\n",
    "print(\"vg verb language:\")\n",
    "print_statistics(verb_language_variance,\"variance\")"
   ]
  },
  {
   "cell_type": "code",
   "execution_count": 381,
   "id": "1c0bf551-13ae-4697-85e9-1d8ffa10197b",
   "metadata": {},
   "outputs": [
    {
     "name": "stdout",
     "output_type": "stream",
     "text": [
      "vg noun visual:\n",
      "mean distinctness:  0.7549399509112694 95% confidence: (0.7404506536838903, 0.7694292481386477)\n",
      "vg verb visual:\n",
      "mean distinctness:  0.5596341619624123 95% confidence: (0.5482436054669052, 0.5710247184579195)\n",
      "vg noun language:\n",
      "mean distinctness:  10.746912572290988 95% confidence: (10.64458169860023, 10.849243445981756)\n",
      "vg verb language:\n",
      "mean distinctness:  10.193343922216762 95% confidence: (10.097293624633718, 10.289394219799807)\n"
     ]
    }
   ],
   "source": [
    "print(\"vg noun visual:\")\n",
    "print_statistics(noun_visual_distinctness,\"distinctness\")\n",
    "\n",
    "print(\"vg verb visual:\")\n",
    "print_statistics(verb_visual_distinctness,\"distinctness\")\n",
    "\n",
    "print(\"vg noun language:\")\n",
    "print_statistics(noun_language_distinctness,\"distinctness\")\n",
    "\n",
    "print(\"vg verb language:\")\n",
    "print_statistics(verb_language_distinctness,\"distinctness\")"
   ]
  },
  {
   "cell_type": "code",
   "execution_count": 384,
   "id": "4b303de7-497e-4764-87e2-23b80cd2d64b",
   "metadata": {},
   "outputs": [],
   "source": [
    "def t_test(variance1,variance2):\n",
    "    print(scipy.stats.ttest_ind(list(variance1.values()),list(variance2.values())))"
   ]
  },
  {
   "cell_type": "code",
   "execution_count": 385,
   "id": "2370efed-33de-4cc5-8892-87bd0ed92759",
   "metadata": {},
   "outputs": [
    {
     "name": "stdout",
     "output_type": "stream",
     "text": [
      "Ttest_indResult(statistic=-11.914424595091827, pvalue=2.2293687450184854e-28)\n"
     ]
    }
   ],
   "source": [
    "t_test(noun_visual_variance,verb_visual_variance)"
   ]
  },
  {
   "cell_type": "code",
   "execution_count": 386,
   "id": "ac6add4e-1c77-4314-bff0-39436ea1436e",
   "metadata": {},
   "outputs": [
    {
     "name": "stdout",
     "output_type": "stream",
     "text": [
      "Ttest_indResult(statistic=0.2211976608034415, pvalue=0.8250465421894277)\n"
     ]
    }
   ],
   "source": [
    "t_test(noun_language_variance,verb_language_variance)"
   ]
  },
  {
   "cell_type": "code",
   "execution_count": 387,
   "id": "46ad6548-f6bd-4d18-b58f-de0783e1c2ee",
   "metadata": {},
   "outputs": [
    {
     "name": "stdout",
     "output_type": "stream",
     "text": [
      "Ttest_indResult(statistic=20.890434423595835, pvalue=6.975059489908717e-67)\n"
     ]
    }
   ],
   "source": [
    "t_test(noun_visual_distinctness,verb_visual_distinctness)"
   ]
  },
  {
   "cell_type": "code",
   "execution_count": 388,
   "id": "815b82a8-414c-4324-b675-4643675a4f64",
   "metadata": {},
   "outputs": [
    {
     "name": "stdout",
     "output_type": "stream",
     "text": [
      "Ttest_indResult(statistic=7.77568618028595, pvalue=5.905526651433397e-14)\n"
     ]
    }
   ],
   "source": [
    "t_test(noun_language_distinctness,verb_language_distinctness)"
   ]
  },
  {
   "cell_type": "code",
   "execution_count": 389,
   "id": "ce1d32a9-d2b0-4c93-bca3-2cbfe90b534e",
   "metadata": {},
   "outputs": [],
   "source": [
    "temp1=list(noun_visual_variance.values())+list(noun_visual_distinctness.values())+ \\\n",
    "    list(noun_language_variance.values())+list(noun_language_distinctness.values())\n",
    "temp2=[\"v_var\"]*len(noun_visual_variance)+[\"v_dist\"]*len(noun_visual_distinctness)+ \\\n",
    "    [\"l_var\"]*len(noun_language_variance)+[\"l_dist\"]*len(noun_language_distinctness)\n",
    "\n",
    "df1=pd.DataFrame(dict(\n",
    "    value=temp1,\n",
    "    measure=temp2\n",
    "))\n",
    "df1[\"type\"]=\"noun\""
   ]
  },
  {
   "cell_type": "code",
   "execution_count": 390,
   "id": "71e52ba4-655f-4e5c-80c3-99dfc1d7f1b6",
   "metadata": {},
   "outputs": [],
   "source": [
    "temp1=list(verb_visual_variance.values())+list(verb_visual_distinctness.values())+ \\\n",
    "    list(verb_language_variance.values())+list(verb_language_distinctness.values())\n",
    "temp2=[\"v_var\"]*len(verb_visual_variance)+[\"v_dist\"]*len(verb_visual_distinctness)+ \\\n",
    "    [\"l_var\"]*len(verb_language_variance)+[\"l_dist\"]*len(verb_language_distinctness)\n",
    "df2=pd.DataFrame(dict(\n",
    "    value=temp1,\n",
    "    measure=temp2\n",
    "))\n",
    "df2[\"type\"]=\"verb\""
   ]
  },
  {
   "cell_type": "code",
   "execution_count": 391,
   "id": "d84a71da-a34e-4642-be4b-d423ef702aa9",
   "metadata": {},
   "outputs": [],
   "source": [
    "df=pd.concat([df1,df2])"
   ]
  },
  {
   "cell_type": "code",
   "execution_count": 392,
   "id": "f10196f0-4ff8-4799-83e4-3c387666bd21",
   "metadata": {},
   "outputs": [
    {
     "data": {
      "text/html": [
       "<div>\n",
       "<style scoped>\n",
       "    .dataframe tbody tr th:only-of-type {\n",
       "        vertical-align: middle;\n",
       "    }\n",
       "\n",
       "    .dataframe tbody tr th {\n",
       "        vertical-align: top;\n",
       "    }\n",
       "\n",
       "    .dataframe thead th {\n",
       "        text-align: right;\n",
       "    }\n",
       "</style>\n",
       "<table border=\"1\" class=\"dataframe\">\n",
       "  <thead>\n",
       "    <tr style=\"text-align: right;\">\n",
       "      <th></th>\n",
       "      <th>value</th>\n",
       "      <th>measure</th>\n",
       "      <th>type</th>\n",
       "    </tr>\n",
       "  </thead>\n",
       "  <tbody>\n",
       "    <tr>\n",
       "      <th>0</th>\n",
       "      <td>0.887156</td>\n",
       "      <td>v_var</td>\n",
       "      <td>noun</td>\n",
       "    </tr>\n",
       "    <tr>\n",
       "      <th>1</th>\n",
       "      <td>0.764683</td>\n",
       "      <td>v_var</td>\n",
       "      <td>noun</td>\n",
       "    </tr>\n",
       "    <tr>\n",
       "      <th>2</th>\n",
       "      <td>0.863362</td>\n",
       "      <td>v_var</td>\n",
       "      <td>noun</td>\n",
       "    </tr>\n",
       "    <tr>\n",
       "      <th>3</th>\n",
       "      <td>0.767272</td>\n",
       "      <td>v_var</td>\n",
       "      <td>noun</td>\n",
       "    </tr>\n",
       "    <tr>\n",
       "      <th>4</th>\n",
       "      <td>0.885647</td>\n",
       "      <td>v_var</td>\n",
       "      <td>noun</td>\n",
       "    </tr>\n",
       "    <tr>\n",
       "      <th>...</th>\n",
       "      <td>...</td>\n",
       "      <td>...</td>\n",
       "      <td>...</td>\n",
       "    </tr>\n",
       "    <tr>\n",
       "      <th>835</th>\n",
       "      <td>10.466222</td>\n",
       "      <td>l_dist</td>\n",
       "      <td>verb</td>\n",
       "    </tr>\n",
       "    <tr>\n",
       "      <th>836</th>\n",
       "      <td>10.041847</td>\n",
       "      <td>l_dist</td>\n",
       "      <td>verb</td>\n",
       "    </tr>\n",
       "    <tr>\n",
       "      <th>837</th>\n",
       "      <td>11.113531</td>\n",
       "      <td>l_dist</td>\n",
       "      <td>verb</td>\n",
       "    </tr>\n",
       "    <tr>\n",
       "      <th>838</th>\n",
       "      <td>10.076156</td>\n",
       "      <td>l_dist</td>\n",
       "      <td>verb</td>\n",
       "    </tr>\n",
       "    <tr>\n",
       "      <th>839</th>\n",
       "      <td>10.266408</td>\n",
       "      <td>l_dist</td>\n",
       "      <td>verb</td>\n",
       "    </tr>\n",
       "  </tbody>\n",
       "</table>\n",
       "<p>1680 rows × 3 columns</p>\n",
       "</div>"
      ],
      "text/plain": [
       "         value measure  type\n",
       "0     0.887156   v_var  noun\n",
       "1     0.764683   v_var  noun\n",
       "2     0.863362   v_var  noun\n",
       "3     0.767272   v_var  noun\n",
       "4     0.885647   v_var  noun\n",
       "..         ...     ...   ...\n",
       "835  10.466222  l_dist  verb\n",
       "836  10.041847  l_dist  verb\n",
       "837  11.113531  l_dist  verb\n",
       "838  10.076156  l_dist  verb\n",
       "839  10.266408  l_dist  verb\n",
       "\n",
       "[1680 rows x 3 columns]"
      ]
     },
     "execution_count": 392,
     "metadata": {},
     "output_type": "execute_result"
    }
   ],
   "source": [
    "df"
   ]
  },
  {
   "cell_type": "code",
   "execution_count": 398,
   "id": "e20ebb33-b8f6-4e55-90e9-c05adb0fd69f",
   "metadata": {},
   "outputs": [
    {
     "data": {
      "image/png": "[encoded data removed]",
      "text/plain": [
       "<Figure size 432x288 with 1 Axes>"
      ]
     },
     "metadata": {
      "needs_background": "light"
     },
     "output_type": "display_data"
    }
   ],
   "source": [
    "fig, ax =plt.subplots()\n",
    "ax = sns.violinplot(x=\"measure\", y=\"value\", hue=\"type\",\n",
    "                    data=df[(df.measure==\"v_var\") | (df.measure==\"v_dist\")],split=True,palette=\"Set2\",inner=None)\n",
    "plt.savefig(\"aa.png\")"
   ]
  },
  {
   "cell_type": "code",
   "execution_count": 394,
   "id": "10a7deb8-7240-4c46-8b89-5beea8477b0a",
   "metadata": {},
   "outputs": [
    {
     "data": {
      "image/png": "[encoded data removed]",
      "text/plain": [
       "<Figure size 432x288 with 1 Axes>"
      ]
     },
     "metadata": {
      "needs_background": "light"
     },
     "output_type": "display_data"
    }
   ],
   "source": [
    "fig, ax =plt.subplots()\n",
    "ax = sns.violinplot(x=\"measure\", y=\"value\", hue=\"type\",\n",
    "                    data=df[(df.measure==\"l_var\") | (df.measure==\"l_dist\")],split=True,palette=\"Set2\",inner=None)"
   ]
  },
  {
   "cell_type": "code",
   "execution_count": 362,
   "id": "bc8361d8-9bd6-426f-a6b5-47cdbba96fe1",
   "metadata": {},
   "outputs": [],
   "source": [
    "temp1=list()\n",
    "noun_visual_dprime=list()\n",
    "noun_language_dprime=list()\n",
    "\n",
    "for i,j in zip(list(noun_visual_variance.values()),list(noun_visual_distinctness.values())):\n",
    "    noun_visual_dprime.append(i/j)\n",
    "    temp1.append(i/j)\n",
    "for i,j in zip(list(noun_language_variance.values()),list(noun_language_distinctness.values())):\n",
    "    noun_language_dprime.append(i/j)\n",
    "    temp1.append(i/j)\n",
    "    \n",
    "temp2=[\"visual\"]*len(noun_visual_variance)+[\"language\"]*len(noun_language_variance)\n",
    "\n",
    "df1=pd.DataFrame(dict(\n",
    "    value=temp1,\n",
    "    modality=temp2\n",
    "))\n",
    "df1[\"type\"]=\"noun\""
   ]
  },
  {
   "cell_type": "code",
   "execution_count": 363,
   "id": "fcac02ef-d803-428c-bdf5-88b1da316eb6",
   "metadata": {},
   "outputs": [],
   "source": [
    "temp1=list()\n",
    "verb_visual_dprime=list()\n",
    "verb_language_dprime=list()\n",
    "\n",
    "for i,j in zip(list(verb_visual_variance.values()),list(verb_visual_distinctness.values())):\n",
    "    verb_visual_dprime.append(i/j)\n",
    "    temp1.append(i/j)\n",
    "for i,j in zip(list(verb_language_variance.values()),list(verb_language_distinctness.values())):\n",
    "    verb_language_dprime.append(i/j)\n",
    "    temp1.append(i/j)\n",
    "    \n",
    "temp2=[\"visual\"]*len(verb_visual_variance)+[\"language\"]*len(verb_language_variance)\n",
    "\n",
    "df2=pd.DataFrame(dict(\n",
    "    value=temp1,\n",
    "    modality=temp2\n",
    "))\n",
    "df2[\"type\"]=\"verb\""
   ]
  },
  {
   "cell_type": "code",
   "execution_count": 364,
   "id": "5a80c24b-c2bc-485e-8924-b9d7d3693306",
   "metadata": {},
   "outputs": [],
   "source": [
    "df=pd.concat([df1,df2])"
   ]
  },
  {
   "cell_type": "code",
   "execution_count": 365,
   "id": "e88fadbc-7bdc-4dd6-b47e-20cd74debefa",
   "metadata": {},
   "outputs": [
    {
     "data": {
      "image/png": "[encoded data removed]",
      "text/plain": [
       "<Figure size 432x288 with 1 Axes>"
      ]
     },
     "metadata": {
      "needs_background": "light"
     },
     "output_type": "display_data"
    }
   ],
   "source": [
    "fig, ax =plt.subplots()\n",
    "ax = sns.violinplot(x=\"modality\", y=\"value\", hue=\"type\",\n",
    "                    data=df,split=True,palette=\"Set2\",inner=None)"
   ]
  },
  {
   "cell_type": "code",
   "execution_count": 366,
   "id": "108c4164-1286-4f04-ac42-b8aec9a1d146",
   "metadata": {},
   "outputs": [
    {
     "data": {
      "text/plain": [
       "Ttest_indResult(statistic=-19.25636097125407, pvalue=1.2964328003711668e-59)"
      ]
     },
     "execution_count": 366,
     "metadata": {},
     "output_type": "execute_result"
    }
   ],
   "source": [
    "scipy.stats.ttest_ind(noun_visual_dprime,verb_visual_dprime)"
   ]
  },
  {
   "cell_type": "code",
   "execution_count": 367,
   "id": "84f5fd74-8c1d-4f17-a29c-3324ace63f8c",
   "metadata": {},
   "outputs": [
    {
     "data": {
      "text/plain": [
       "Ttest_indResult(statistic=-3.690995120532551, pvalue=0.00025294743993376254)"
      ]
     },
     "execution_count": 367,
     "metadata": {},
     "output_type": "execute_result"
    }
   ],
   "source": [
    "scipy.stats.ttest_ind(noun_language_dprime,verb_language_dprime)"
   ]
  },
  {
   "cell_type": "code",
   "execution_count": 368,
   "id": "e7f40d5c-5773-4c58-a804-92f013bde0d8",
   "metadata": {},
   "outputs": [],
   "source": [
    "# function to calculate Cohen's d for independent samples\n",
    "def cohend(d1, d2):\n",
    "    # calculate the size of samples\n",
    "    n1, n2 = len(d1), len(d2)\n",
    "    # calculate the variance of the samples\n",
    "    s1, s2 = np.var(d1, ddof=1), np.var(d2, ddof=1)\n",
    "    # calculate the pooled standard deviation\n",
    "    s = sqrt(((n1 - 1) * s1 + (n2 - 1) * s2) / (n1 + n2 - 2))\n",
    "    # calculate the means of the samples\n",
    "    u1, u2 = np.mean(d1), np.mean(d2)\n",
    "    # calculate the effect size\n",
    "    return (u1 - u2) / s"
   ]
  },
  {
   "cell_type": "code",
   "execution_count": 369,
   "id": "52d2bb54-fdc9-400c-8b05-431e82189113",
   "metadata": {},
   "outputs": [
    {
     "data": {
      "text/plain": [
       "-1.191449385839542"
      ]
     },
     "execution_count": 369,
     "metadata": {},
     "output_type": "execute_result"
    }
   ],
   "source": [
    "cohend(list(noun_visual_variance.values()),list(verb_visual_variance.values()))"
   ]
  },
  {
   "cell_type": "code",
   "execution_count": 370,
   "id": "1e20b575-891b-47f7-94cd-df085f687cf1",
   "metadata": {},
   "outputs": [
    {
     "data": {
      "text/plain": [
       "-0.12680306919833279"
      ]
     },
     "execution_count": 370,
     "metadata": {},
     "output_type": "execute_result"
    }
   ],
   "source": [
    "cohend(list(noun_language_variance.values()),list(verb_language_variance.values()))"
   ]
  },
  {
   "cell_type": "code",
   "execution_count": 371,
   "id": "8f17ed2c-8220-4733-97a2-f1f9469a3611",
   "metadata": {},
   "outputs": [
    {
     "data": {
      "text/plain": [
       "1.9132512110642272"
      ]
     },
     "execution_count": 371,
     "metadata": {},
     "output_type": "execute_result"
    }
   ],
   "source": [
    "cohend(list(noun_visual_distinctness.values()),list(verb_visual_distinctness.values()))"
   ]
  },
  {
   "cell_type": "code",
   "execution_count": 372,
   "id": "e79d7efe-fc92-44e8-97b7-f398ad2c989b",
   "metadata": {},
   "outputs": [
    {
     "data": {
      "text/plain": [
       "0.7315074047229115"
      ]
     },
     "execution_count": 372,
     "metadata": {},
     "output_type": "execute_result"
    }
   ],
   "source": [
    "cohend(list(noun_language_distinctness.values()),list(verb_language_distinctness.values()))"
   ]
  },
  {
   "cell_type": "code",
   "execution_count": 373,
   "id": "aac1bf50-ee52-40b1-8f57-c63d748b630d",
   "metadata": {},
   "outputs": [
    {
     "data": {
      "text/plain": [
       "-1.8792284076570134"
      ]
     },
     "execution_count": 373,
     "metadata": {},
     "output_type": "execute_result"
    }
   ],
   "source": [
    "cohend(noun_visual_dprime,verb_visual_dprime)"
   ]
  },
  {
   "cell_type": "code",
   "execution_count": 374,
   "id": "ebb332e4-cf57-4c70-b3ef-846cadbf6f67",
   "metadata": {},
   "outputs": [
    {
     "data": {
      "text/plain": [
       "-0.3602042407380397"
      ]
     },
     "execution_count": 374,
     "metadata": {},
     "output_type": "execute_result"
    }
   ],
   "source": [
    "cohend(noun_language_dprime,verb_language_dprime)"
   ]
  },
  {
   "cell_type": "code",
   "execution_count": null,
   "id": "50011bac-cc30-47cb-add6-1e9fe6fd5585",
   "metadata": {},
   "outputs": [],
   "source": []
  }
 ],
 "metadata": {
  "kernelspec": {
   "display_name": "Python 3 (ipykernel)",
   "language": "python",
   "name": "python3"
  },
  "language_info": {
   "codemirror_mode": {
    "name": "ipython",
    "version": 3
   },
   "file_extension": ".py",
   "mimetype": "text/x-python",
   "name": "python",
   "nbconvert_exporter": "python",
   "pygments_lexer": "ipython3",
   "version": "3.8.12"
  }
 },
 "nbformat": 4,
 "nbformat_minor": 5
}
