{
 "cells": [
  {
   "cell_type": "code",
   "execution_count": 50,
   "id": "15206d01-1ee8-4531-b1f6-51d2bdaf1002",
   "metadata": {},
   "outputs": [],
   "source": [
    "import csv\n",
    "import sys\n",
    "import os\n",
    "import pickle\n",
    "import random\n",
    "import numpy as np\n",
    "import time\n",
    "import operator\n",
    "import seaborn as sns\n",
    "import pandas as pd\n",
    "\n",
    "import matplotlib\n",
    "import matplotlib.pyplot as plt\n",
    "\n",
    "from collections import Counter\n",
    "\n",
    "import statsmodels.stats.api as sms\n",
    "import statsmodels.formula.api as smf\n",
    "import statsmodels.api as sm\n",
    "\n",
    "import scipy.stats\n",
    "from scipy.stats import entropy\n",
    "from scipy.stats import spearmanr, pearsonr\n",
    "from scipy.stats import zscore\n",
    "\n",
    "# import sklearn\n",
    "from sklearn.decomposition import PCA\n",
    "from sklearn.manifold import TSNE\n",
    "# from sklearn.linear_model import LinearRegression\n",
    "# from sklearn.metrics.pairwise import cosine_similarity\n",
    "# from sklearn.metrics import mean_squared_error\n",
    "# from sklearn.model_selection import train_test_split\n",
    "# from sklearn.utils import shuffle\n",
    "# from sklearn.model_selection import cross_val_score, KFold\n",
    "\n",
    "# import xgboost as xgb\n",
    "# import shap"
   ]
  },
  {
   "cell_type": "code",
   "execution_count": 51,
   "id": "cd4773e1-9250-4d55-92f3-2bfe7c02437c",
   "metadata": {},
   "outputs": [],
   "source": [
    "import warnings\n",
    "warnings.filterwarnings('once')"
   ]
  },
  {
   "cell_type": "code",
   "execution_count": 52,
   "id": "de4b3cb5-4466-4f9f-8931-f493b78526d2",
   "metadata": {},
   "outputs": [],
   "source": [
    "sys.path.append('../python')\n",
    "from permutation import permutation, compute_alignment_strength\n",
    "from utils.utils_funcs import get_variance, get_distinctness, get_distinctness_from_nearest_5, aggregate_embeddings_visual_and_language\n",
    "from utils.utils_funcs import load_data_to_dict"
   ]
  },
  {
   "cell_type": "code",
   "execution_count": 53,
   "id": "673425b0-e720-40c2-ad8c-a0ebfa13126e",
   "metadata": {
    "jupyter": {
     "source_hidden": true
    },
    "tags": []
   },
   "outputs": [],
   "source": [
    "# def combine_nouns_and_verbs(struct1,struct2):\n",
    "#     words_full=list()\n",
    "#     embeds_full=dict()\n",
    "#     for w in struct1[\"embeds\"]:\n",
    "#         ww=w+\"_n\"\n",
    "#         temp=dict()\n",
    "#         temp[\"visual\"]=struct1[\"embeds\"][w][\"visual\"]\n",
    "#         temp[\"language\"]=struct1[\"embeds\"][w][\"language\"]\n",
    "#         embeds_full[ww]=temp\n",
    "#         words_full.append(ww)\n",
    "#     for w in struct2[\"embeds\"]:\n",
    "#         ww=w+\"_v\"\n",
    "#         temp=dict()\n",
    "#         temp[\"visual\"]=struct2[\"embeds\"][w][\"visual\"]\n",
    "#         temp[\"language\"]=struct2[\"embeds\"][w][\"language\"]\n",
    "#         embeds_full[ww]=temp\n",
    "#         words_full.append(ww)\n",
    "#     data_full=dict(\n",
    "#         embeds=embeds_full,\n",
    "#         words=words_full\n",
    "#     )\n",
    "#     return data_full"
   ]
  },
  {
   "cell_type": "code",
   "execution_count": 54,
   "id": "64e256d6-d88d-4084-a816-92e59cd30b0a",
   "metadata": {},
   "outputs": [],
   "source": [
    "def get_concept_level_alignment_strength(struct,concepts,targets):\n",
    "    visual_embeddings_list=list()\n",
    "    langauge_embeddings_list=list()\n",
    "    for concept in concepts:\n",
    "        embeddings=struct[\"embeds\"][concept]\n",
    "        visual_embeddings_list.append(embeddings[\"visual\"])\n",
    "        langauge_embeddings_list.append(embeddings[\"language\"])\n",
    "    z_0=np.array(visual_embeddings_list)\n",
    "    z_1=np.array(langauge_embeddings_list)\n",
    "    sim_z_0=cosine_similarity(z_0)\n",
    "    sim_z_1=cosine_similarity(z_1)\n",
    "    rt=list()\n",
    "    for target in targets:\n",
    "        idx=concepts.index(target)\n",
    "        aln=spearmanr(sim_z_0[idx],sim_z_1[idx])[0]\n",
    "        if aln>0:\n",
    "            rt.append(aln)\n",
    "        else:\n",
    "            rt.append(0)\n",
    "    return rt"
   ]
  },
  {
   "cell_type": "code",
   "execution_count": 55,
   "id": "cd2d1a11-49c0-4f7b-b8f9-cbda7e1516e0",
   "metadata": {
    "jupyter": {
     "source_hidden": true
    },
    "tags": []
   },
   "outputs": [],
   "source": [
    "# def combine_all_data(data,aoa_dict,v_var_dict,l_var_dict,v_dist_dict,l_dist_dict,freq_dict):\n",
    "#     aoas=list()\n",
    "#     v_vars=list()\n",
    "#     l_vars=list()\n",
    "#     v_dists=list()\n",
    "#     l_dists=list()\n",
    "#     freqs=list()\n",
    "    \n",
    "#     intersect_concepts=list()\n",
    "#     for concept in aoa_dict:\n",
    "#         if concept not in freq_dict:\n",
    "#             print(concept)\n",
    "#         elif concept in data['words']:\n",
    "#             aoas.append(aoa_dict[concept])\n",
    "#             v_vars.append(v_var_dict[concept])\n",
    "#             l_vars.append(l_var_dict[concept])\n",
    "#             v_dists.append(v_dist_dict[concept])\n",
    "#             l_dists.append(l_dist_dict[concept])\n",
    "#             freqs.append(freq_dict[concept])\n",
    "#             intersect_concepts.append(concept)\n",
    "#     alignments=get_concept_level_alignment_strength(data,data['words'],intersect_concepts)\n",
    "#     return aoas,alignments,v_vars,l_vars,v_dists,l_dists,freqs"
   ]
  },
  {
   "cell_type": "markdown",
   "id": "169ab280-9b8e-4650-970e-a3fe09dd8714",
   "metadata": {},
   "source": [
    "-----"
   ]
  },
  {
   "cell_type": "code",
   "execution_count": 56,
   "id": "c3f176aa-426a-44ae-aa02-099b295f4a52",
   "metadata": {},
   "outputs": [
    {
     "name": "stderr",
     "output_type": "stream",
     "text": [
      "/var/folders/mq/9j63byws48l4bqktjyqnb5nh0000gp/T/ipykernel_40620/763373227.py:1: ResourceWarning: unclosed file <_io.BufferedReader name='../data/dumped_embeddings_replication/vg_noun_least20_ll_swav_bert_20.pkl'>\n",
      "  vg_noun_data=pickle.load(open(\"../data/dumped_embeddings_replication/vg_noun_least20_ll_swav_bert_20.pkl\",\"rb\"))\n",
      "ResourceWarning: Enable tracemalloc to get the object allocation traceback\n",
      "/var/folders/mq/9j63byws48l4bqktjyqnb5nh0000gp/T/ipykernel_40620/763373227.py:2: ResourceWarning: unclosed file <_io.BufferedReader name='../data/dumped_embeddings_replication/vg_verb_least20_ll_swav_bert_20.pkl'>\n",
      "  vg_verb_data=pickle.load(open(\"../data/dumped_embeddings_replication/vg_verb_least20_ll_swav_bert_20.pkl\",\"rb\"))\n",
      "ResourceWarning: Enable tracemalloc to get the object allocation traceback\n"
     ]
    }
   ],
   "source": [
    "vg_noun_data=pickle.load(open(\"../data/dumped_embeddings_replication/vg_noun_least20_ll_swav_bert_20.pkl\",\"rb\"))\n",
    "vg_verb_data=pickle.load(open(\"../data/dumped_embeddings_replication/vg_verb_least20_ll_swav_bert_20.pkl\",\"rb\"))\n",
    "\n",
    "aggregated_vg_noun_data=aggregate_embeddings_visual_and_language(vg_noun_data,20,20)\n",
    "aggregated_vg_verb_data=aggregate_embeddings_visual_and_language(vg_verb_data,20,20)"
   ]
  },
  {
   "cell_type": "code",
   "execution_count": 57,
   "id": "70425f71-bed6-4e30-afbb-4641e924e1f3",
   "metadata": {},
   "outputs": [],
   "source": [
    "# vg_noun_data=pickle.load(open(\"../data/dumped_embeddings/vg_noun_swav_bert_window5_20.pkl\",\"rb\"))\n",
    "# vg_verb_data=pickle.load(open(\"../data/dumped_embeddings/vg_verb_swav_bert_window5_20.pkl\",\"rb\"))\n",
    "\n",
    "# aggregated_vg_noun_data=aggregate_embeddings_visual_and_language(vg_noun_data,20,20)\n",
    "# aggregated_vg_verb_data=aggregate_embeddings_visual_and_language(vg_verb_data,20,20)"
   ]
  },
  {
   "cell_type": "code",
   "execution_count": 58,
   "id": "cf060d63-40d5-491f-b5bc-d6c2282adb82",
   "metadata": {
    "tags": []
   },
   "outputs": [],
   "source": [
    "# vg_noun_data=pickle.load(open(\"../data/dumped_embeddings/vg_noun_ll_swav_bert_20.pkl\",\"rb\"))\n",
    "# vg_verb_data=pickle.load(open(\"../data/dumped_embeddings/vg_verb_ll_swav_bert_20.pkl\",\"rb\"))\n",
    "\n",
    "# aggregated_vg_noun_data=aggregate_embeddings_visual_and_language(vg_noun_data,20,20)\n",
    "# aggregated_vg_verb_data=aggregate_embeddings_visual_and_language(vg_verb_data,20,20)"
   ]
  },
  {
   "cell_type": "code",
   "execution_count": 59,
   "id": "70878a8a-0741-4db2-87af-2b6798fec38d",
   "metadata": {},
   "outputs": [],
   "source": [
    "# vg_noun_data=pickle.load(open(\"../data/dumped_embeddings/vg_noun_concept_least20_swav_bert_20.pkl\",\"rb\"))\n",
    "# vg_verb_data=pickle.load(open(\"../data/dumped_embeddings/vg_verb_concept_least20_swav_bert_20.pkl\",\"rb\"))\n",
    "\n",
    "# aggregated_vg_noun_data=aggregate_embeddings_visual_and_language(vg_noun_data,20,20)\n",
    "# aggregated_vg_verb_data=aggregate_embeddings_visual_and_language(vg_verb_data,20,20)"
   ]
  },
  {
   "cell_type": "code",
   "execution_count": 60,
   "id": "11c3b79b-03ec-45e4-a055-0aa1b82b74e3",
   "metadata": {},
   "outputs": [],
   "source": [
    "# vg_noun_data=pickle.load(open(\"../data/dumped_embeddings/vg_noun_concept_least20_swav_glove_20.pkl\",\"rb\"))\n",
    "# vg_verb_data=pickle.load(open(\"../data/dumped_embeddings/vg_verb_concept_least20_swav_glove_20.pkl\",\"rb\"))\n",
    "\n",
    "# aggregated_vg_noun_data=aggregate_embeddings_visual_and_language(vg_noun_data,20,1)\n",
    "# aggregated_vg_verb_data=aggregate_embeddings_visual_and_language(vg_verb_data,20,1)"
   ]
  },
  {
   "cell_type": "code",
   "execution_count": 61,
   "id": "f93cb3ab-1f6c-4169-a7a4-06fe2701092e",
   "metadata": {},
   "outputs": [],
   "source": [
    "# vg_all_data=combine_nouns_and_verbs(vg_noun_data,vg_verb_data)\n",
    "# aggregated_vg_all_data=aggregate_embeddings_visual_and_language(vg_all_data,20,20)"
   ]
  },
  {
   "cell_type": "markdown",
   "id": "3268b049-097c-4a15-8eef-7666c9df7f1d",
   "metadata": {},
   "source": [
    "----"
   ]
  },
  {
   "cell_type": "code",
   "execution_count": 62,
   "id": "dfc99497-95be-4d88-8bd7-8d4133f66021",
   "metadata": {},
   "outputs": [],
   "source": [
    "def construct_frame_of_embeddings(data):\n",
    "    aggregated_data=aggregate_embeddings_visual_and_language(data,20,20)\n",
    "    \n",
    "    v_embed_list=list()\n",
    "    v_labels=list()\n",
    "    feat_dim=len(data[\"embeds\"][data[\"words\"][0]][\"visual\"][0])\n",
    "    feat_cols = ['dim'+str(i) for i in range(feat_dim)]\n",
    "    for word in data[\"words\"]:\n",
    "        for embed in data[\"embeds\"][word][\"visual\"]:\n",
    "            v_labels.append(word)\n",
    "            v_embed_list.append(np.squeeze(embed))\n",
    "    for word in aggregated_data[\"words\"]:\n",
    "        v_labels.append(word+\"_proto\")\n",
    "        v_embed_list.append(np.squeeze(aggregated_data[\"embeds\"][word][\"visual\"]))\n",
    "    v_frame=pd.DataFrame(v_embed_list,columns=feat_cols)\n",
    "    v_frame[\"label\"]=v_labels\n",
    "    \n",
    "    l_embed_list=list()\n",
    "    l_labels=list()\n",
    "    feat_dim=len(data[\"embeds\"][data[\"words\"][0]][\"language\"][0])\n",
    "    feat_cols = ['dim'+str(i) for i in range(feat_dim)]\n",
    "    for word in data[\"words\"]:\n",
    "        for embed in data[\"embeds\"][word][\"language\"]:\n",
    "            l_labels.append(word)\n",
    "            l_embed_list.append(np.squeeze(embed))\n",
    "    for word in aggregated_data[\"words\"]:\n",
    "        l_labels.append(word+\"_proto\")\n",
    "        l_embed_list.append(np.squeeze(aggregated_data[\"embeds\"][word][\"language\"]))\n",
    "    l_frame=pd.DataFrame(l_embed_list,columns=feat_cols)\n",
    "    l_frame[\"label\"]=l_labels\n",
    "    return v_frame,l_frame"
   ]
  },
  {
   "cell_type": "code",
   "execution_count": 63,
   "id": "a91da46e-72dc-4280-9c7a-4b9b2b7f594d",
   "metadata": {},
   "outputs": [],
   "source": [
    "def tsne_reduction(df):\n",
    "    time_start = time.time()\n",
    "    tsne = TSNE(n_components=2, verbose=0, perplexity=40, n_iter=300)\n",
    "    tsne_results = tsne.fit_transform(df.iloc[:,:-1])\n",
    "    print('t-SNE done! Time elapsed: {} seconds'.format(time.time()-time_start))\n",
    "    return tsne_results"
   ]
  },
  {
   "cell_type": "code",
   "execution_count": 64,
   "id": "5d652109-fb38-4fdc-a57f-1e4d426c0a44",
   "metadata": {},
   "outputs": [],
   "source": [
    "def tsne_pca_reduction(df):\n",
    "    pca_50 = PCA(n_components=50)\n",
    "    pca_result_50 = pca_50.fit_transform(df.iloc[:,:-1])\n",
    "    \n",
    "    time_start = time.time()\n",
    "    tsne = TSNE(n_components=2, verbose=0, perplexity=40, n_iter=300)\n",
    "    tsne_pca_results = tsne.fit_transform(pca_result_50)\n",
    "    print('t-SNE done! Time elapsed: {} seconds'.format(time.time()-time_start))\n",
    "    return tsne_pca_results"
   ]
  },
  {
   "cell_type": "code",
   "execution_count": 65,
   "id": "eea202c8-f4ea-47e2-bdc1-88b2dba9881b",
   "metadata": {},
   "outputs": [],
   "source": [
    "def plot_embed(df,concept_list,tsne_pca=True):\n",
    "    concept_list_proto=[i+\"_proto\" for i in concept_list]\n",
    "\n",
    "    df_result=pd.DataFrame()\n",
    "    df_result['label']=df['label']\n",
    "    \n",
    "    if tsne_pca:\n",
    "        tsne_results=tsne_pca_reduction(df.iloc[:,:-1])\n",
    "    else:\n",
    "        tsne_results=tsne_reduction(df.iloc[:,:-1])\n",
    "    \n",
    "    df_result['dim1'] = tsne_results[:,0]\n",
    "    df_result['dim2'] = tsne_results[:,1]\n",
    "    \n",
    "    plt.figure(figsize=(8,6))\n",
    "    sns.scatterplot(\n",
    "        x=\"dim1\", y=\"dim2\",\n",
    "        hue=\"label\",\n",
    "        palette=sns.color_palette(\"hls\", len(concept_list)),\n",
    "        data=df_result[df_result.label.isin(concept_list)],\n",
    "        legend=\"full\",\n",
    "        alpha=1\n",
    "    )\n",
    "    sns.scatterplot(\n",
    "        x=\"dim1\", y=\"dim2\",\n",
    "        hue=\"label\",\n",
    "        palette=sns.color_palette(\"hls\", len(concept_list)),\n",
    "        data=df_result[df_result.label.isin(concept_list_proto)],\n",
    "        legend=\"full\",\n",
    "        alpha=0.5,\n",
    "        s=200\n",
    "    )\n",
    "    "
   ]
  },
  {
   "cell_type": "markdown",
   "id": "30bf88da-826f-4309-a34e-c3f0ce3a7579",
   "metadata": {},
   "source": [
    "## Nouns"
   ]
  },
  {
   "cell_type": "code",
   "execution_count": 66,
   "id": "d4ea3b89-c005-464f-871b-85c2aca91ca1",
   "metadata": {},
   "outputs": [],
   "source": [
    "v_frame,l_frame=construct_frame_of_embeddings(vg_noun_data)"
   ]
  },
  {
   "cell_type": "code",
   "execution_count": 67,
   "id": "2d936156-2ea3-48d7-a925-74f54cc58bea",
   "metadata": {},
   "outputs": [
    {
     "name": "stdout",
     "output_type": "stream",
     "text": [
      "['man', 'window', 'woman', 'building', 'person', 'tree', 'wall', 'shirt', 'sky', 'water', 'grass', 'train', 'airplane', 'hand', 'car', 'cloud', 'pole', 'dog', 'girl', 'bus', 'road', 'giraffe', 'snow', 'elephant', 'head', 'street', 'cat', 'people', 'field', 'horse', 'light', 'leaf', 'boat', 'leg', 'clock', 'zebra', 'fence', 'hair', 'bird', 'pizza', 'floor', 'bicycle', 'hat', 'ear', 'bench', 'door', 'line', 'sidewalk', 'bear', 'wheel', 'shadow', 'rock', 'eye', 'flower', 'child', 'bed', 'beach', 'shoe', 'cow', 'trouser', 'chair', 'jacket', 'motorcycle', 'skateboard', 'truck', 'bowl', 'surfboard', 'sheep', 'numeral', 'bag', 'tail', 'desk', 'mirror', 'food', 'shelf', 'glass', 'umbrella', 'spectacles', 'foot', 'player', 'face', 'nose', 'wave', 'letter', 'handle', 'bottle', 'counter', 'arm', 'animal', 'sand', 'lady', 'box', 'picture', 'vase', 'pillow', 'sink', 'banana', 'guy', 'house', 'book', 'shrub', 'ocean', 'toilet', 'tile', 'sofa', 'tire', 'hill', 'jean', 'mountain', 'laptop', 'logo', 'cup', 'plant', 'cap', 'paper', 'telephone', 'frisbee', 'ball', 'tower', 'post', 'wing', 'ceiling', 'button', 'ski', 'branch', 'trunk', 'roof', 'headlight', 'sunglasses', 'coat', 'sandwich', 'mouth', 'brick', 'flag', 'lamp', 'cabinet', 'necktie', 'court', 'neck', 'skier', 'fork', 'bathroom', 'railing', 'keyboard', 'writing', 'room', 'television', 'basket', 'tray', 'knife', 'seat', 'wire', 'suit', 'engine', 'towel', 'rug', 'container', 'bridge', 'baby', 'finger', 'air', 'cheese', 'pot', 'computer', 'vehicle', 'horn', 'apple', 'surfer', 'broccoli', 'stove', 'batter', 'watch', 'design', 'windshield', 'backpack', 'collar', 'fruit', 'bread', 'catcher', 'sock', 'photograph', 'teddy', 'word', 'dish', 'curtain', 'distance', 'kitchen', 'frame', 'blanket', 'napkin', 'paw', 'pavement', 'hole', 'dress', 'platform', 'ballplayer', 'wood', 'oven', 'back', 'camera', 'tag', 'boot', 'snowboard', 'park', 'river', 'carrot', 'jet', 'wrist', 'uniform', 'barroom']\n"
     ]
    }
   ],
   "source": [
    "print(vg_noun_data[\"words\"])"
   ]
  },
  {
   "cell_type": "code",
   "execution_count": 68,
   "id": "5d865b78-31e5-4f78-933d-cb537542f58e",
   "metadata": {},
   "outputs": [],
   "source": [
    "# concept_list=[\"elephant\",\"sheep\",\"cow\",\"horse\"]\n",
    "\n",
    "concept_list=[\"ocean\",\"surfer\",\"sand\"]\n",
    "\n",
    "# concept_list=[\"man\",\"woman\",\"lady\"]"
   ]
  },
  {
   "cell_type": "code",
   "execution_count": 69,
   "id": "c646e8ae-272a-4273-97a8-384de4094cb6",
   "metadata": {},
   "outputs": [
    {
     "name": "stderr",
     "output_type": "stream",
     "text": [
      "/Users/yuchen/miniconda3/envs/alignment/lib/python3.8/site-packages/sklearn/manifold/_t_sne.py:780: FutureWarning: The default initialization in TSNE will change from 'random' to 'pca' in 1.2.\n",
      "  warnings.warn(\n",
      "/Users/yuchen/miniconda3/envs/alignment/lib/python3.8/site-packages/sklearn/manifold/_t_sne.py:790: FutureWarning: The default learning rate in TSNE will change from 200.0 to 'auto' in 1.2.\n",
      "  warnings.warn(\n"
     ]
    },
    {
     "name": "stdout",
     "output_type": "stream",
     "text": [
      "t-SNE done! Time elapsed: 3.7512400150299072 seconds\n"
     ]
    },
    {
     "data": {
      "image/png": "[encoded data removed]",
      "text/plain": [
       "<Figure size 576x432 with 1 Axes>"
      ]
     },
     "metadata": {
      "needs_background": "light"
     },
     "output_type": "display_data"
    }
   ],
   "source": [
    "plot_embed(v_frame,concept_list,tsne_pca=True)"
   ]
  },
  {
   "cell_type": "code",
   "execution_count": 70,
   "id": "96f3110c-d03d-42fa-bc4b-d660d54fe295",
   "metadata": {},
   "outputs": [
    {
     "name": "stderr",
     "output_type": "stream",
     "text": [
      "/Users/yuchen/miniconda3/envs/alignment/lib/python3.8/site-packages/sklearn/manifold/_t_sne.py:780: FutureWarning: The default initialization in TSNE will change from 'random' to 'pca' in 1.2.\n",
      "  warnings.warn(\n",
      "/Users/yuchen/miniconda3/envs/alignment/lib/python3.8/site-packages/sklearn/manifold/_t_sne.py:790: FutureWarning: The default learning rate in TSNE will change from 200.0 to 'auto' in 1.2.\n",
      "  warnings.warn(\n"
     ]
    },
    {
     "name": "stdout",
     "output_type": "stream",
     "text": [
      "t-SNE done! Time elapsed: 4.465017080307007 seconds\n"
     ]
    },
    {
     "data": {
      "image/png": "[encoded data removed]",
      "text/plain": [
       "<Figure size 576x432 with 1 Axes>"
      ]
     },
     "metadata": {
      "needs_background": "light"
     },
     "output_type": "display_data"
    }
   ],
   "source": [
    "plot_embed(l_frame,concept_list,tsne_pca=True)"
   ]
  },
  {
   "cell_type": "markdown",
   "id": "39c9d299-337d-435d-82d9-15970773023c",
   "metadata": {
    "tags": []
   },
   "source": [
    "## Verbs"
   ]
  },
  {
   "cell_type": "code",
   "execution_count": 71,
   "id": "6c12930a-caec-4be0-a792-d419a50f0003",
   "metadata": {},
   "outputs": [],
   "source": [
    "v_frame,l_frame=construct_frame_of_embeddings(vg_verb_data)"
   ]
  },
  {
   "cell_type": "code",
   "execution_count": 72,
   "id": "9ae3caec-3d29-485e-8f20-08ff409fec5e",
   "metadata": {},
   "outputs": [
    {
     "name": "stdout",
     "output_type": "stream",
     "text": [
      "['have', 'be', 'wear', 'sit', 'stand', 'traverse', 'walk', 'attach', 'hang', 'put', 'play', 'eat', 'fly', 'watch', 'make', 'lie', 'use', 'tend', 'show', 'leave', 'state', 'swing', 'run', 'arrive', 'front', 'reach', 'pull', 'surround', 'fill', 'stay', 'reduce', 'park', 'associate', 'become', 'see', 'lead', 'float', 'wait', 'necessitate', 'talk', 'drink', 'drive', 'construct', 'read', 'write', 'close', 'travel', 'push', 'end', 'jump', 'tie', 'decorate', 'feed', 'climb', 'achieve', 'form', 'whiten', 'open', 'divide', 'work', 'discontinue', 'describe', 'enjoy', 'blacken', 'complain', 'serve', 'neglect', 'bend', 'glitter', 'chase', 'descend', 'pet', 'happen', 'punch', 'keep', 'match', 'light', 'board', 'protect', 'grip', 'try', 'sell', 'brown', 'hide', 'grok', 'meet', 'bite', 'solve', 'sniff', 'sleep', 'enter', 'gaze', 'approach', 'help', 'perform', 'give', 'herd', 'haul', 'smile', 'crash', 'visualize', 'load', 'wash', 'seat', 'pour', 'spray', 'beckon', 'row', 'yellow', 'gather', 'die', 'glance', 'paint', 'crouch', 'color', 'stretch', 'flog', 'slit', 'affix', 'detect', 'install', 'spread', 'man', 'train', 'rush', 'adjust', 'function', 'smell', 'water', 'clean', 'discard', 'originate', 'own', 'cause', 'chew', 'snog', 'share', 'cuddle', 'jab', 'cancel', 'steer', 'teach', 'shake', 'dock', 'overcharge', 'name', 'anchor', 'foot', 'total', 'carve', 'advertise', 'suspend', 'buy', 'distribute', 'squat', 'smoke', 'milk', 'balance', 'shoot', 'blush', 'sew', 'photograph', 'lean', 'assemble', 'seize', 'tuck', 'lock', 'abscond', 'paddle', 'add', 'deprive', 'lower', 'emerge', 'let', 'drip', 'dress', 'include', 'dangle', 'urge', 'shop', 'print', 'forget', 'power', 'rub', 'litter', 'supply', 'bloom', 'swim', 'people', 'clock', 'guard', 'inspect', 'analyze', 'juggle', 'pick', 'burn', 'store', 'clasp', 'peer', 'sport', 'postpone', 'curl', 'gesticulate', 'film', 'dirty', 'shield', 'arrange', 'rock', 'resemble', 'etch']\n"
     ]
    }
   ],
   "source": [
    "print(vg_verb_data[\"words\"])"
   ]
  },
  {
   "cell_type": "code",
   "execution_count": 73,
   "id": "7bb02eff-dc7a-493b-9c20-c5910fe59c82",
   "metadata": {},
   "outputs": [],
   "source": [
    "# concept_list=[\"elephant\",\"sheep\",\"cow\",\"horse\"]\n",
    "\n",
    "concept_list=[\"walk\",\"run\",\"jump\"]\n",
    "\n",
    "# concept_list=[\"man\",\"woman\",\"lady\"]"
   ]
  },
  {
   "cell_type": "code",
   "execution_count": 74,
   "id": "f0280417-9c0a-43fd-8d01-e158ebc6932d",
   "metadata": {},
   "outputs": [
    {
     "name": "stderr",
     "output_type": "stream",
     "text": [
      "/Users/yuchen/miniconda3/envs/alignment/lib/python3.8/site-packages/sklearn/manifold/_t_sne.py:780: FutureWarning: The default initialization in TSNE will change from 'random' to 'pca' in 1.2.\n",
      "  warnings.warn(\n",
      "/Users/yuchen/miniconda3/envs/alignment/lib/python3.8/site-packages/sklearn/manifold/_t_sne.py:790: FutureWarning: The default learning rate in TSNE will change from 200.0 to 'auto' in 1.2.\n",
      "  warnings.warn(\n"
     ]
    },
    {
     "name": "stdout",
     "output_type": "stream",
     "text": [
      "t-SNE done! Time elapsed: 3.372036933898926 seconds\n"
     ]
    },
    {
     "data": {
      "image/png": "[encoded data removed]",
      "text/plain": [
       "<Figure size 576x432 with 1 Axes>"
      ]
     },
     "metadata": {
      "needs_background": "light"
     },
     "output_type": "display_data"
    }
   ],
   "source": [
    "plot_embed(v_frame,concept_list,tsne_pca=True)"
   ]
  },
  {
   "cell_type": "code",
   "execution_count": 75,
   "id": "06742c84-f9c5-4223-a6ee-d3bc7002786d",
   "metadata": {},
   "outputs": [
    {
     "name": "stderr",
     "output_type": "stream",
     "text": [
      "/Users/yuchen/miniconda3/envs/alignment/lib/python3.8/site-packages/sklearn/manifold/_t_sne.py:780: FutureWarning: The default initialization in TSNE will change from 'random' to 'pca' in 1.2.\n",
      "  warnings.warn(\n",
      "/Users/yuchen/miniconda3/envs/alignment/lib/python3.8/site-packages/sklearn/manifold/_t_sne.py:790: FutureWarning: The default learning rate in TSNE will change from 200.0 to 'auto' in 1.2.\n",
      "  warnings.warn(\n"
     ]
    },
    {
     "name": "stdout",
     "output_type": "stream",
     "text": [
      "t-SNE done! Time elapsed: 4.712153911590576 seconds\n"
     ]
    },
    {
     "data": {
      "image/png": "[encoded data removed]",
      "text/plain": [
       "<Figure size 576x432 with 1 Axes>"
      ]
     },
     "metadata": {
      "needs_background": "light"
     },
     "output_type": "display_data"
    }
   ],
   "source": [
    "plot_embed(l_frame,concept_list,tsne_pca=True)"
   ]
  },
  {
   "cell_type": "code",
   "execution_count": null,
   "id": "c7c8057b-5369-4c67-9a0f-bb38db022d0a",
   "metadata": {},
   "outputs": [],
   "source": []
  }
 ],
 "metadata": {
  "kernelspec": {
   "display_name": "Python 3 (ipykernel)",
   "language": "python",
   "name": "python3"
  },
  "language_info": {
   "codemirror_mode": {
    "name": "ipython",
    "version": 3
   },
   "file_extension": ".py",
   "mimetype": "text/x-python",
   "name": "python",
   "nbconvert_exporter": "python",
   "pygments_lexer": "ipython3",
   "version": "3.8.13"
  },
  "toc-autonumbering": true,
  "toc-showcode": false,
  "toc-showmarkdowntxt": false
 },
 "nbformat": 4,
 "nbformat_minor": 5
}
