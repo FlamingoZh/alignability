{
 "cells": [
  {
   "cell_type": "code",
   "execution_count": 1,
   "id": "fc9a8463-f605-43e8-b8b2-f55435b85f50",
   "metadata": {},
   "outputs": [],
   "source": [
    "%load_ext autoreload\n",
    "%autoreload 2"
   ]
  },
  {
   "cell_type": "code",
   "execution_count": 2,
   "id": "1fbabd7b-b466-4db1-b608-4da65148558e",
   "metadata": {},
   "outputs": [],
   "source": [
    "import csv\n",
    "import sys\n",
    "import os\n",
    "import pickle\n",
    "import random\n",
    "import numpy as np\n",
    "import time\n",
    "import operator\n",
    "import pandas as pd\n",
    "\n",
    "import matplotlib\n",
    "import matplotlib.pyplot as plt\n",
    "\n",
    "from collections import Counter\n",
    "\n",
    "# import statsmodels.stats.api as sms\n",
    "# import statsmodels.formula.api as smf\n",
    "# import statsmodels.api as sm\n",
    "\n",
    "import scipy.stats\n",
    "from scipy.stats import entropy\n",
    "from scipy.stats import spearmanr, pearsonr\n",
    "from scipy.stats import zscore\n",
    "\n",
    "import sklearn\n",
    "from sklearn.linear_model import LinearRegression\n",
    "from sklearn.metrics.pairwise import cosine_similarity\n",
    "from sklearn.metrics import mean_squared_error\n",
    "from sklearn.model_selection import train_test_split\n",
    "from sklearn.utils import shuffle\n",
    "from sklearn.model_selection import cross_val_score, KFold\n",
    "\n",
    "import xgboost as xgb\n",
    "import shap"
   ]
  },
  {
   "cell_type": "code",
   "execution_count": 3,
   "id": "2adba4de-f7d4-42fa-85fb-3f089705b2a6",
   "metadata": {},
   "outputs": [],
   "source": [
    "SMALL_SIZE = 8\n",
    "MEDIUM_SIZE = 10\n",
    "BIGGER_SIZE = 12\n",
    "\n",
    "plt.rc('font', size=SMALL_SIZE)          # controls default text sizes\n",
    "plt.rc('axes', titlesize=SMALL_SIZE)     # fontsize of the axes title\n",
    "plt.rc('axes', labelsize=MEDIUM_SIZE)    # fontsize of the x and y labels\n",
    "plt.rc('xtick', labelsize=SMALL_SIZE)    # fontsize of the tick labels\n",
    "plt.rc('ytick', labelsize=SMALL_SIZE)    # fontsize of the tick labels\n",
    "plt.rc('legend', fontsize=SMALL_SIZE)    # legend fontsize\n",
    "plt.rc('figure', titlesize=BIGGER_SIZE)  # fontsize of the figure title"
   ]
  },
  {
   "cell_type": "code",
   "execution_count": 4,
   "id": "dced4d27-4eb8-4589-b8e3-e22129c377a1",
   "metadata": {},
   "outputs": [],
   "source": [
    "csfont = {'fontname':'Comic Sans MS'}\n",
    "hfont = {'fontname':'Helvetica'}"
   ]
  },
  {
   "cell_type": "code",
   "execution_count": 5,
   "id": "70019c50-8f55-412b-bc3f-ac10c7b94f64",
   "metadata": {},
   "outputs": [],
   "source": [
    "plt.rcParams[\"font.family\"] = \"sans-serif\""
   ]
  },
  {
   "cell_type": "code",
   "execution_count": 6,
   "id": "1c48b6e9-7f56-426e-80ab-9168b549591b",
   "metadata": {},
   "outputs": [],
   "source": [
    "sys.path.append('../python')\n",
    "from permutation import permutation, compute_alignment_strength\n",
    "from utils.utils_funcs import get_variance, get_distinctness, get_distinctness_from_nearest_5, aggregate_embeddings_visual_and_language\n",
    "from utils.utils_funcs import load_data_to_dict"
   ]
  },
  {
   "cell_type": "code",
   "execution_count": 7,
   "id": "466cec79-87f8-4dac-8b67-738be2a8d4d9",
   "metadata": {},
   "outputs": [],
   "source": [
    "def combine_nouns_and_verbs(struct1,struct2):\n",
    "    words_full=list()\n",
    "    embeds_full=dict()\n",
    "    for w in struct1[\"embeds\"]:\n",
    "        ww=w+\"_n\"\n",
    "        temp=dict()\n",
    "        temp[\"visual\"]=struct1[\"embeds\"][w][\"visual\"]\n",
    "        temp[\"language\"]=struct1[\"embeds\"][w][\"language\"]\n",
    "        embeds_full[ww]=temp\n",
    "        words_full.append(ww)\n",
    "    for w in struct2[\"embeds\"]:\n",
    "        ww=w+\"_v\"\n",
    "        temp=dict()\n",
    "        temp[\"visual\"]=struct2[\"embeds\"][w][\"visual\"]\n",
    "        temp[\"language\"]=struct2[\"embeds\"][w][\"language\"]\n",
    "        embeds_full[ww]=temp\n",
    "        words_full.append(ww)\n",
    "    data_full=dict(\n",
    "        embeds=embeds_full,\n",
    "        words=words_full\n",
    "    )\n",
    "    return data_full"
   ]
  },
  {
   "cell_type": "code",
   "execution_count": 8,
   "id": "3a9cc0ac-4b2b-4510-9942-6970123557bc",
   "metadata": {},
   "outputs": [],
   "source": [
    "def get_concept_level_alignment_strength(struct,concepts,targets):\n",
    "    visual_embeddings_list=list()\n",
    "    langauge_embeddings_list=list()\n",
    "    for concept in concepts:\n",
    "        embeddings=struct[\"embeds\"][concept]\n",
    "        visual_embeddings_list.append(embeddings[\"visual\"])\n",
    "        langauge_embeddings_list.append(embeddings[\"language\"])\n",
    "    z_0=np.array(visual_embeddings_list)\n",
    "    z_1=np.array(langauge_embeddings_list)\n",
    "    sim_z_0=cosine_similarity(z_0)\n",
    "    sim_z_1=cosine_similarity(z_1)\n",
    "    rt=list()\n",
    "    for target in targets:\n",
    "        idx=concepts.index(target)\n",
    "        aln=spearmanr(sim_z_0[idx],sim_z_1[idx])[0]\n",
    "        if aln>0:\n",
    "            rt.append(aln)\n",
    "        else:\n",
    "            rt.append(0)\n",
    "    return rt"
   ]
  },
  {
   "cell_type": "code",
   "execution_count": 9,
   "id": "07980e98-46c1-4609-8fa7-4d4b39863e57",
   "metadata": {},
   "outputs": [],
   "source": [
    "def combine_all_data(data,aoa_dict,v_var_dict,l_var_dict,v_dist_dict,l_dist_dict,freq_dict):\n",
    "    aoas=list()\n",
    "    v_vars=list()\n",
    "    l_vars=list()\n",
    "    v_dists=list()\n",
    "    l_dists=list()\n",
    "    freqs=list()\n",
    "    \n",
    "    intersect_concepts=list()\n",
    "    for concept in aoa_dict:\n",
    "        if concept not in freq_dict:\n",
    "            print(concept)\n",
    "        elif concept in data['words']:\n",
    "            aoas.append(aoa_dict[concept])\n",
    "            v_vars.append(v_var_dict[concept])\n",
    "            l_vars.append(l_var_dict[concept])\n",
    "            v_dists.append(v_dist_dict[concept])\n",
    "            l_dists.append(l_dist_dict[concept])\n",
    "            freqs.append(freq_dict[concept])\n",
    "            intersect_concepts.append(concept)\n",
    "    alignments=get_concept_level_alignment_strength(data,data['words'],intersect_concepts)\n",
    "    return aoas,alignments,v_vars,l_vars,v_dists,l_dists,freqs"
   ]
  },
  {
   "cell_type": "markdown",
   "id": "82f42609-5f66-4df6-b790-43beda5c5946",
   "metadata": {},
   "source": [
    "-----"
   ]
  },
  {
   "cell_type": "code",
   "execution_count": 10,
   "id": "226d9514-531f-4770-98eb-c19bb8d8631b",
   "metadata": {},
   "outputs": [],
   "source": [
    "# vg_noun_data=pickle.load(open(\"../data/dumped_embeddings/vg_noun_swav_bert_window5_20.pkl\",\"rb\"))\n",
    "# vg_verb_data=pickle.load(open(\"../data/dumped_embeddings/vg_verb_swav_bert_window5_20.pkl\",\"rb\"))\n",
    "\n",
    "# aggregated_vg_noun_data=aggregate_embeddings_visual_and_language(vg_noun_data,20,20)\n",
    "# aggregated_vg_verb_data=aggregate_embeddings_visual_and_language(vg_verb_data,20,20)"
   ]
  },
  {
   "cell_type": "code",
   "execution_count": 11,
   "id": "9b1fc492-779b-42c5-97f9-3d08c0baf25a",
   "metadata": {},
   "outputs": [],
   "source": [
    "# vg_noun_data=pickle.load(open(\"../data/dumped_embeddings/vg_noun_concept_least20_swav_bert_20.pkl\",\"rb\"))\n",
    "# vg_verb_data=pickle.load(open(\"../data/dumped_embeddings/vg_verb_concept_least20_swav_bert_20.pkl\",\"rb\"))\n",
    "\n",
    "# aggregated_vg_noun_data=aggregate_embeddings_visual_and_language(vg_noun_data,20,20)\n",
    "# aggregated_vg_verb_data=aggregate_embeddings_visual_and_language(vg_verb_data,20,20)"
   ]
  },
  {
   "cell_type": "code",
   "execution_count": 12,
   "id": "9c44fb52-afeb-431e-84f2-03aa2d9450b3",
   "metadata": {},
   "outputs": [],
   "source": [
    "# vg_noun_data=pickle.load(open(\"../data/dumped_embeddings/vg_noun_concept_least20_swav_glove_20.pkl\",\"rb\"))\n",
    "# vg_verb_data=pickle.load(open(\"../data/dumped_embeddings/vg_verb_concept_least20_swav_glove_20.pkl\",\"rb\"))\n",
    "\n",
    "# aggregated_vg_noun_data=aggregate_embeddings_visual_and_language(vg_noun_data,20,1)\n",
    "# aggregated_vg_verb_data=aggregate_embeddings_visual_and_language(vg_verb_data,20,1)"
   ]
  },
  {
   "cell_type": "code",
   "execution_count": 13,
   "id": "0e4413c7-53c0-4827-a59e-d7b7b58e5556",
   "metadata": {
    "tags": []
   },
   "outputs": [],
   "source": [
    "# vg_noun_data=pickle.load(open(\"../data/dumped_embeddings/vg_noun_ll_swav_bert_20.pkl\",\"rb\"))\n",
    "# vg_verb_data=pickle.load(open(\"../data/dumped_embeddings/vg_verb_ll_swav_bert_20.pkl\",\"rb\"))\n",
    "\n",
    "# aggregated_vg_noun_data=aggregate_embeddings_visual_and_language(vg_noun_data,20,20)\n",
    "# aggregated_vg_verb_data=aggregate_embeddings_visual_and_language(vg_verb_data,20,20)"
   ]
  },
  {
   "cell_type": "code",
   "execution_count": 14,
   "id": "3232f8d9-7b10-43f2-879c-b8988899c13f",
   "metadata": {},
   "outputs": [],
   "source": [
    "# vg_noun_data=pickle.load(open(\"../data/dumped_embeddings_replication/vg_noun_least20_ll_swav_bert_20.pkl\",\"rb\"))\n",
    "# vg_verb_data=pickle.load(open(\"../data/dumped_embeddings_replication/vg_verb_least20_ll_swav_bert_20.pkl\",\"rb\"))\n",
    "\n",
    "# aggregated_vg_noun_data=aggregate_embeddings_visual_and_language(vg_noun_data,20,20)\n",
    "# aggregated_vg_verb_data=aggregate_embeddings_visual_and_language(vg_verb_data,20,20)"
   ]
  },
  {
   "cell_type": "code",
   "execution_count": 15,
   "id": "d3dea7ff-d11f-4855-9ea9-37532d486cca",
   "metadata": {},
   "outputs": [],
   "source": [
    "vg_noun_data=pickle.load(open(\"../data/dumped_embeddings_replication/vg_noun_least20_ll_2nd_swav_bert_20.pkl\",\"rb\"))\n",
    "vg_verb_data=pickle.load(open(\"../data/dumped_embeddings_replication/vg_verb_least20_ll_2nd_swav_bert_20.pkl\",\"rb\"))\n",
    "\n",
    "aggregated_vg_noun_data=aggregate_embeddings_visual_and_language(vg_noun_data,20,20)\n",
    "aggregated_vg_verb_data=aggregate_embeddings_visual_and_language(vg_verb_data,20,20)"
   ]
  },
  {
   "cell_type": "code",
   "execution_count": 16,
   "id": "1a05302e-3179-472a-952d-f5eef9da0475",
   "metadata": {},
   "outputs": [],
   "source": [
    "vg_all_data=combine_nouns_and_verbs(vg_noun_data,vg_verb_data)\n",
    "aggregated_vg_all_data=aggregate_embeddings_visual_and_language(vg_all_data,20,20)"
   ]
  },
  {
   "cell_type": "markdown",
   "id": "e108c4f4-9144-4c3c-b4b6-f151b26b04b1",
   "metadata": {},
   "source": [
    "----"
   ]
  },
  {
   "cell_type": "code",
   "execution_count": 17,
   "id": "710bcc6d-80bf-4fa8-9edb-2f286464dd76",
   "metadata": {},
   "outputs": [],
   "source": [
    "# noun_aoa_dict=load_data_to_dict(\"../data/processed/aoa/kuperman_noun_aoa.txt\",concepts=vg_noun_data[\"words\"])\n",
    "# verb_aoa_dict=load_data_to_dict(\"../data/processed/aoa/kuperman_verb_aoa.txt\",concepts=vg_verb_data[\"words\"])\n",
    "\n",
    "# noun_aoa_sorted = sorted(noun_aoa_dict.items(), key=operator.itemgetter(1))\n",
    "# verb_aoa_sorted = sorted(verb_aoa_dict.items(), key=operator.itemgetter(1))"
   ]
  },
  {
   "cell_type": "code",
   "execution_count": 18,
   "id": "396d6f4b-3c9b-4ac9-88c5-fd84de011606",
   "metadata": {},
   "outputs": [],
   "source": [
    "noun_aoa_dict=load_data_to_dict(\"../data/processed/aoa/wordbank_noun_aoa.txt\",concepts=vg_noun_data[\"words\"])\n",
    "verb_aoa_dict=load_data_to_dict(\"../data/processed/aoa/wordbank_verb_aoa.txt\",concepts=vg_verb_data[\"words\"])\n",
    "\n",
    "noun_aoa_sorted = sorted(noun_aoa_dict.items(), key=operator.itemgetter(1))\n",
    "verb_aoa_sorted = sorted(verb_aoa_dict.items(), key=operator.itemgetter(1))"
   ]
  },
  {
   "cell_type": "code",
   "execution_count": 19,
   "id": "aff08c5b-c5da-4fc9-a730-b4270bdfebf6",
   "metadata": {},
   "outputs": [],
   "source": [
    "# noun_aoa_dict=load_data_to_dict(\"../data/processed/aoa/glasgow_noun_aoa.txt\",concepts=vg_noun_data[\"words\"])\n",
    "# verb_aoa_dict=load_data_to_dict(\"../data/processed/aoa/glasgow_verb_aoa.txt\",concepts=vg_verb_data[\"words\"])\n",
    "\n",
    "# noun_aoa_sorted = sorted(noun_aoa_dict.items(), key=operator.itemgetter(1))\n",
    "# verb_aoa_sorted = sorted(verb_aoa_dict.items(), key=operator.itemgetter(1))"
   ]
  },
  {
   "cell_type": "code",
   "execution_count": 20,
   "id": "331fae7a-50f1-48a0-80d7-4a225021435e",
   "metadata": {},
   "outputs": [],
   "source": [
    "all_aoa_dict=dict()\n",
    "for w in noun_aoa_dict:\n",
    "    ww=w+\"_n\"\n",
    "    all_aoa_dict[ww]=noun_aoa_dict[w]\n",
    "for w in verb_aoa_dict:\n",
    "    ww=w+\"_v\"\n",
    "    all_aoa_dict[ww]=verb_aoa_dict[w]"
   ]
  },
  {
   "cell_type": "markdown",
   "id": "075645d9-0fe7-4792-877f-51fc8b88a5d2",
   "metadata": {},
   "source": [
    "----"
   ]
  },
  {
   "cell_type": "code",
   "execution_count": 21,
   "id": "7b93e4e3-ac4b-4424-a1ed-9cc5f42a34b0",
   "metadata": {},
   "outputs": [],
   "source": [
    "noun_freq_dict=load_data_to_dict(\"../data/processed/childes_noun_freq.txt\",header=True)\n",
    "verb_freq_dict=load_data_to_dict(\"../data/processed/childes_verb_freq.txt\",header=True)"
   ]
  },
  {
   "cell_type": "code",
   "execution_count": 22,
   "id": "eeb01bd4-4a92-4b7e-9bb7-86064aabd904",
   "metadata": {},
   "outputs": [],
   "source": [
    "all_freq_dict=dict()\n",
    "for w in noun_freq_dict:\n",
    "    ww=w+\"_n\"\n",
    "    all_freq_dict[ww]=noun_freq_dict[w]\n",
    "for w in verb_freq_dict:\n",
    "    ww=w+\"_v\"\n",
    "    all_freq_dict[ww]=verb_freq_dict[w]"
   ]
  },
  {
   "cell_type": "markdown",
   "id": "98a294d2-35eb-4cf9-9c2d-7ba96fc5b8ae",
   "metadata": {},
   "source": [
    "----"
   ]
  },
  {
   "cell_type": "markdown",
   "id": "ed2d7142-906f-4231-8f2b-d09b7459bdf7",
   "metadata": {
    "jp-MarkdownHeadingCollapsed": true,
    "tags": []
   },
   "source": [
    "## nouns+verbs"
   ]
  },
  {
   "cell_type": "code",
   "execution_count": null,
   "id": "18a1768f-988b-4e65-8d93-21a1c2f67e86",
   "metadata": {},
   "outputs": [],
   "source": [
    "all_visual_variability,all_language_variability=get_variance(vg_all_data)"
   ]
  },
  {
   "cell_type": "code",
   "execution_count": null,
   "id": "b66ec48a-8f74-461a-bf21-1dc9380f8959",
   "metadata": {},
   "outputs": [],
   "source": [
    "all_visual_discriminability,all_language_discriminability=get_distinctness(vg_all_data)"
   ]
  },
  {
   "cell_type": "markdown",
   "id": "d76fa0e7-e5e4-4141-8b89-7f42349df161",
   "metadata": {},
   "source": [
    "----"
   ]
  },
  {
   "cell_type": "code",
   "execution_count": null,
   "id": "6011605f-3a1c-4e51-b323-68dd24887515",
   "metadata": {},
   "outputs": [],
   "source": [
    "aoas,alignments,v_vars,l_vars,v_dists,l_dists,freqs=combine_all_data(aggregated_vg_all_data,\n",
    "                                                                     all_aoa_dict,\n",
    "                                                                     all_visual_variability,\n",
    "                                                                     all_language_variability,\n",
    "                                                                     all_visual_discriminability,\n",
    "                                                                     all_language_discriminability,\n",
    "                                                                     all_freq_dict)"
   ]
  },
  {
   "cell_type": "code",
   "execution_count": null,
   "id": "fb822759-cb33-45e2-856c-57d4840c31d8",
   "metadata": {},
   "outputs": [],
   "source": [
    "df=pd.DataFrame(data=np.transpose(np.array([aoas,alignments,v_vars,l_vars,v_dists,l_dists,freqs])),columns=['aoa','alignment','v_variability','l_variability','v_discriminability','l_discriminability','frequency'])\n",
    "# df1['type']='noun'"
   ]
  },
  {
   "cell_type": "code",
   "execution_count": null,
   "id": "9a408284-5c62-4c8f-8602-ad886c9dfd72",
   "metadata": {
    "tags": []
   },
   "outputs": [],
   "source": [
    "# df"
   ]
  },
  {
   "cell_type": "code",
   "execution_count": null,
   "id": "b9ae89a4-6bbe-4f8b-b09b-d413eee4eca0",
   "metadata": {},
   "outputs": [],
   "source": [
    "# df['type']=df['type'].astype(\"category\")"
   ]
  },
  {
   "cell_type": "code",
   "execution_count": null,
   "id": "3555b16a-8b72-469e-8a42-1c1c7405e23d",
   "metadata": {},
   "outputs": [],
   "source": [
    "# df.dtypes"
   ]
  },
  {
   "cell_type": "markdown",
   "id": "539cfa3f-b9f7-4279-a889-49e037f6c9f6",
   "metadata": {
    "tags": []
   },
   "source": [
    "### Xgboost"
   ]
  },
  {
   "cell_type": "code",
   "execution_count": null,
   "id": "819ec155-392c-43bc-afcc-68a75ef4370b",
   "metadata": {},
   "outputs": [],
   "source": [
    "x=df.iloc[:,1:]"
   ]
  },
  {
   "cell_type": "code",
   "execution_count": null,
   "id": "d6366510-70f4-4d66-a731-aa2990d0b348",
   "metadata": {},
   "outputs": [],
   "source": [
    "y=df.iloc[:,:1]"
   ]
  },
  {
   "cell_type": "code",
   "execution_count": null,
   "id": "89f98f8d-0efe-4a95-91c3-a23f9cb22f7c",
   "metadata": {},
   "outputs": [],
   "source": [
    "# # Shuffling the data\n",
    "# X_shuffle, y_shuffle = shuffle(x, y)"
   ]
  },
  {
   "cell_type": "code",
   "execution_count": null,
   "id": "9f20e6c4-1c60-4fc6-a789-18dce4f2a368",
   "metadata": {
    "tags": []
   },
   "outputs": [],
   "source": [
    "# xgb_rg = xgb.XGBRegressor(max_depth=3, n_estimators=100,\n",
    "#                             objective ='reg:linear', booster='gbtree',\n",
    "#                             n_jobs=2)\n",
    "\n",
    "# # Cross-validation with 10 folds\n",
    "# mse = cross_val_score(xgb_rg, X_shuffle, y_shuffle,\n",
    "#                          scoring='neg_mean_squared_error',\n",
    "#                          cv=10, n_jobs=-1)\n",
    "\n",
    "# print(\"MSE Values: \", -1 * np.round(mse, 2))\n",
    "# print(\"Average MSE: \", -1 * np.mean(mse))"
   ]
  },
  {
   "cell_type": "code",
   "execution_count": null,
   "id": "16da8f86-0855-4a04-81ba-c25126775066",
   "metadata": {},
   "outputs": [],
   "source": [
    "test_size=0.2\n",
    "X_train, X_test, y_train, y_test = train_test_split(x, y, test_size=test_size)"
   ]
  },
  {
   "cell_type": "code",
   "execution_count": null,
   "id": "a04c1d15-355e-45cb-b96e-9842ac203813",
   "metadata": {},
   "outputs": [],
   "source": [
    "# xgb_full= xgb.DMatrix(x, label=y)\n",
    "# xgb_train = xgb.DMatrix(X_train, label=y_train)\n",
    "# xgb_test = xgb.DMatrix(X_test, label=y_test)"
   ]
  },
  {
   "cell_type": "code",
   "execution_count": null,
   "id": "746f196a-44a8-4672-b7db-6d5c09babe53",
   "metadata": {},
   "outputs": [],
   "source": [
    "# params = {\n",
    "#     \"eta\": 0.002,\n",
    "#     \"max_depth\": 5,\n",
    "#     \"subsample\": 0.5\n",
    "# }\n",
    "# model_train = xgb.train(params, xgb_train, 10000, evals = [(xgb_test, \"test\")], verbose_eval=1000)"
   ]
  },
  {
   "cell_type": "code",
   "execution_count": null,
   "id": "c5c36fbb-f79d-4940-82c9-a3c892e97009",
   "metadata": {},
   "outputs": [],
   "source": [
    "# explainer = shap.Explainer(model_train)\n",
    "# shap_values = explainer(xgb_full)\n",
    "# shap.plots.bar(shap_values)"
   ]
  },
  {
   "cell_type": "code",
   "execution_count": null,
   "id": "f934fa44-fd33-42a8-9f53-c2e4f6ee8c32",
   "metadata": {},
   "outputs": [],
   "source": [
    "# xg_reg = xgb.XGBRegressor(objective ='reg:linear', colsample_bytree = 0.3, learning_rate = 0.1,\n",
    "#                 max_depth = 5, alpha = 10, n_estimators = 10, tree_method=\"hist\", enable_categorical=True)\n",
    "xg_reg = xgb.XGBRegressor(max_depth=6,subsample=0.5,n_estimators=10000,learning_rate=0.002)"
   ]
  },
  {
   "cell_type": "code",
   "execution_count": null,
   "id": "3b62592e-2dae-4bbf-8e91-44f20ed93fc2",
   "metadata": {},
   "outputs": [],
   "source": [
    "model=xg_reg.fit(X_train,y_train)"
   ]
  },
  {
   "cell_type": "code",
   "execution_count": null,
   "id": "6e82e53a-f3da-4f22-81d2-9ccae4ce6f14",
   "metadata": {},
   "outputs": [],
   "source": [
    "preds = xg_reg.predict(X_test)"
   ]
  },
  {
   "cell_type": "code",
   "execution_count": null,
   "id": "bd3e3fdf-7600-4c19-9877-0239ac5a0332",
   "metadata": {},
   "outputs": [],
   "source": [
    "r=pearsonr(np.array(y_test).squeeze(),np.array(preds))[0]\n",
    "rmse = np.sqrt(mean_squared_error(y_test, preds))\n",
    "print(\"Pearson correlation: %f\" % (r))\n",
    "print(\"RMSE: %f\" % (rmse))"
   ]
  },
  {
   "cell_type": "code",
   "execution_count": null,
   "id": "22b5f0be-997d-465c-86f9-c100d07c16c1",
   "metadata": {},
   "outputs": [],
   "source": [
    "# explain the model's predictions using SHAP\n",
    "# (same syntax works for LightGBM, CatBoost, scikit-learn, transformers, Spark, etc.)\n",
    "explainer = shap.Explainer(model)\n",
    "shap_values = explainer(x)"
   ]
  },
  {
   "cell_type": "code",
   "execution_count": null,
   "id": "50da591b-6c88-4fc4-99c7-fc909888f446",
   "metadata": {},
   "outputs": [],
   "source": [
    "# # visualize the first prediction's explanation\n",
    "# shap.plots.waterfall(shap_values[0])"
   ]
  },
  {
   "cell_type": "code",
   "execution_count": null,
   "id": "b5402961-0f5c-41ed-a7f0-3145649cd722",
   "metadata": {},
   "outputs": [],
   "source": [
    "shap.summary_plot(shap_values, x)"
   ]
  },
  {
   "cell_type": "code",
   "execution_count": null,
   "id": "80c184ce-f49f-4d8c-8232-f3b76c4d55dd",
   "metadata": {},
   "outputs": [],
   "source": [
    "shap.plots.bar(shap_values)"
   ]
  },
  {
   "cell_type": "code",
   "execution_count": null,
   "id": "5334e86e-2409-4054-9d7f-96e0a07ef3aa",
   "metadata": {},
   "outputs": [],
   "source": [
    "# create a dependence scatter plot to show the effect of a single feature across the whole dataset\n",
    "shap.plots.scatter(shap_values[:,\"alignment\"], color=shap_values)"
   ]
  },
  {
   "cell_type": "code",
   "execution_count": null,
   "id": "5b9f3424-f346-4d3b-b5dc-b7f82c35b5ac",
   "metadata": {},
   "outputs": [],
   "source": [
    "shap.plots.scatter(shap_values[:,\"l_variability\"], color=shap_values)"
   ]
  },
  {
   "cell_type": "markdown",
   "id": "a047b29d-1855-41ff-9939-9db10421ad70",
   "metadata": {},
   "source": [
    "### Linear Regression"
   ]
  },
  {
   "cell_type": "code",
   "execution_count": null,
   "id": "b60a1db6-b2a7-4f9c-a952-3e1b2572a07c",
   "metadata": {},
   "outputs": [],
   "source": [
    "# results = smf.ols(formula = 'aoa ~ alignment+v_variability+l_variability+v_discriminability+l_discriminability',data=df).fit()"
   ]
  },
  {
   "cell_type": "code",
   "execution_count": null,
   "id": "192df0c4-446c-426a-b6e7-5e24a8757c8d",
   "metadata": {},
   "outputs": [],
   "source": [
    "# results.summary()"
   ]
  },
  {
   "cell_type": "markdown",
   "id": "5b05c806-e6e7-4688-8886-e570c09343f0",
   "metadata": {
    "tags": []
   },
   "source": [
    "## nouns and verbs respectively"
   ]
  },
  {
   "cell_type": "code",
   "execution_count": 23,
   "id": "64804274-36dd-4db4-8a4c-b41719014065",
   "metadata": {},
   "outputs": [],
   "source": [
    "noun_visual_variability,noun_language_variability=get_variance(vg_noun_data)\n",
    "verb_visual_variability,verb_language_variability=get_variance(vg_verb_data)"
   ]
  },
  {
   "cell_type": "code",
   "execution_count": 24,
   "id": "c743152c-66f8-4c94-acdd-989aa09232db",
   "metadata": {},
   "outputs": [],
   "source": [
    "noun_visual_discriminability,noun_language_discriminability=get_distinctness(vg_noun_data)\n",
    "verb_visual_discriminability,verb_language_discriminability=get_distinctness(vg_verb_data)"
   ]
  },
  {
   "cell_type": "code",
   "execution_count": 25,
   "id": "7e67ebbf-7730-4867-aae0-a1fba80aa1e0",
   "metadata": {},
   "outputs": [],
   "source": [
    "aoas,alignments,v_vars,l_vars,v_dists,l_dists,freqs=combine_all_data(aggregated_vg_noun_data,noun_aoa_dict,\n",
    "                                                              noun_visual_variability,noun_language_variability,\n",
    "                                                              noun_visual_discriminability,noun_language_discriminability,\n",
    "                                                                    noun_freq_dict)"
   ]
  },
  {
   "cell_type": "code",
   "execution_count": 26,
   "id": "5eb528f1-886a-4ab5-b9ac-4758996d7d62",
   "metadata": {},
   "outputs": [],
   "source": [
    "df1=pd.DataFrame(data=np.transpose(np.array([aoas,alignments,v_vars,l_vars,v_dists,l_dists,freqs])),columns=['aoa','alignment','visual_var','lang_var','visual_dis','lang_dis','frequency'])\n",
    "df1['type']=0"
   ]
  },
  {
   "cell_type": "code",
   "execution_count": 27,
   "id": "c09c9638-2a4f-4fcf-a7d0-a68041a91df2",
   "metadata": {
    "tags": []
   },
   "outputs": [],
   "source": [
    "# df1"
   ]
  },
  {
   "cell_type": "code",
   "execution_count": 28,
   "id": "eedccda0-1ed6-4580-bd08-b80a02a13299",
   "metadata": {},
   "outputs": [],
   "source": [
    "aoas,alignments,v_vars,l_vars,v_dists,l_dists,freqs=combine_all_data(aggregated_vg_verb_data,verb_aoa_dict,\n",
    "                                                              verb_visual_variability,verb_language_variability,\n",
    "                                                              verb_visual_discriminability,verb_language_discriminability,\n",
    "                                                                    verb_freq_dict)"
   ]
  },
  {
   "cell_type": "code",
   "execution_count": 29,
   "id": "59657b5b-0a8d-4db6-8cc2-728163ed144d",
   "metadata": {},
   "outputs": [],
   "source": [
    "df2=pd.DataFrame(data=np.transpose(np.array([aoas,alignments,v_vars,l_vars,v_dists,l_dists,freqs])),columns=['aoa','alignment','visual_var','lang_var','visual_dis','lang_dis','frequency'])\n",
    "df2['type']=1"
   ]
  },
  {
   "cell_type": "code",
   "execution_count": 30,
   "id": "e079e6aa-b6e2-4566-a07b-578126985dfe",
   "metadata": {
    "tags": []
   },
   "outputs": [],
   "source": [
    "# df2"
   ]
  },
  {
   "cell_type": "code",
   "execution_count": 31,
   "id": "4d9050db-9a65-4362-8b5a-566000e8b17b",
   "metadata": {},
   "outputs": [],
   "source": [
    "df=pd.concat([df1,df2])"
   ]
  },
  {
   "cell_type": "code",
   "execution_count": 32,
   "id": "1248da69-55b2-45d8-a17b-855ab81d84ed",
   "metadata": {
    "tags": []
   },
   "outputs": [
    {
     "data": {
      "text/html": [
       "<div>\n",
       "<style scoped>\n",
       "    .dataframe tbody tr th:only-of-type {\n",
       "        vertical-align: middle;\n",
       "    }\n",
       "\n",
       "    .dataframe tbody tr th {\n",
       "        vertical-align: top;\n",
       "    }\n",
       "\n",
       "    .dataframe thead th {\n",
       "        text-align: right;\n",
       "    }\n",
       "</style>\n",
       "<table border=\"1\" class=\"dataframe\">\n",
       "  <thead>\n",
       "    <tr style=\"text-align: right;\">\n",
       "      <th></th>\n",
       "      <th>aoa</th>\n",
       "      <th>alignment</th>\n",
       "      <th>visual_var</th>\n",
       "      <th>lang_var</th>\n",
       "      <th>visual_dis</th>\n",
       "      <th>lang_dis</th>\n",
       "      <th>frequency</th>\n",
       "      <th>type</th>\n",
       "    </tr>\n",
       "  </thead>\n",
       "  <tbody>\n",
       "    <tr>\n",
       "      <th>0</th>\n",
       "      <td>17.0</td>\n",
       "      <td>0.141047</td>\n",
       "      <td>0.901835</td>\n",
       "      <td>9.098234</td>\n",
       "      <td>1.155025</td>\n",
       "      <td>13.945785</td>\n",
       "      <td>3410.0</td>\n",
       "      <td>0</td>\n",
       "    </tr>\n",
       "    <tr>\n",
       "      <th>1</th>\n",
       "      <td>17.0</td>\n",
       "      <td>0.390946</td>\n",
       "      <td>0.781586</td>\n",
       "      <td>9.511187</td>\n",
       "      <td>1.088986</td>\n",
       "      <td>14.066430</td>\n",
       "      <td>13592.0</td>\n",
       "      <td>0</td>\n",
       "    </tr>\n",
       "    <tr>\n",
       "      <th>2</th>\n",
       "      <td>17.0</td>\n",
       "      <td>0.339686</td>\n",
       "      <td>0.574474</td>\n",
       "      <td>10.290210</td>\n",
       "      <td>1.007442</td>\n",
       "      <td>14.296301</td>\n",
       "      <td>1820.0</td>\n",
       "      <td>0</td>\n",
       "    </tr>\n",
       "    <tr>\n",
       "      <th>3</th>\n",
       "      <td>17.0</td>\n",
       "      <td>0.214414</td>\n",
       "      <td>0.524033</td>\n",
       "      <td>9.852293</td>\n",
       "      <td>0.979389</td>\n",
       "      <td>14.479797</td>\n",
       "      <td>5888.0</td>\n",
       "      <td>0</td>\n",
       "    </tr>\n",
       "    <tr>\n",
       "      <th>4</th>\n",
       "      <td>18.0</td>\n",
       "      <td>0.163115</td>\n",
       "      <td>0.620925</td>\n",
       "      <td>7.891148</td>\n",
       "      <td>1.158732</td>\n",
       "      <td>13.066875</td>\n",
       "      <td>7092.0</td>\n",
       "      <td>0</td>\n",
       "    </tr>\n",
       "  </tbody>\n",
       "</table>\n",
       "</div>"
      ],
      "text/plain": [
       "    aoa  alignment  visual_var   lang_var  visual_dis   lang_dis  frequency  \\\n",
       "0  17.0   0.141047    0.901835   9.098234    1.155025  13.945785     3410.0   \n",
       "1  17.0   0.390946    0.781586   9.511187    1.088986  14.066430    13592.0   \n",
       "2  17.0   0.339686    0.574474  10.290210    1.007442  14.296301     1820.0   \n",
       "3  17.0   0.214414    0.524033   9.852293    0.979389  14.479797     5888.0   \n",
       "4  18.0   0.163115    0.620925   7.891148    1.158732  13.066875     7092.0   \n",
       "\n",
       "   type  \n",
       "0     0  \n",
       "1     0  \n",
       "2     0  \n",
       "3     0  \n",
       "4     0  "
      ]
     },
     "execution_count": 32,
     "metadata": {},
     "output_type": "execute_result"
    }
   ],
   "source": [
    "df.head()"
   ]
  },
  {
   "cell_type": "code",
   "execution_count": 33,
   "id": "2e9a9a9d-a092-4668-8222-0eac32b8a8fa",
   "metadata": {},
   "outputs": [],
   "source": [
    "# df['type']=df['type'].astype(\"category\")"
   ]
  },
  {
   "cell_type": "code",
   "execution_count": 34,
   "id": "d0e23404-9b84-48b5-8e5e-dd8214c550b5",
   "metadata": {},
   "outputs": [],
   "source": [
    "# df.dtypes"
   ]
  },
  {
   "cell_type": "markdown",
   "id": "3266ce44-1c32-45d7-bc6a-e4f949a6b0bc",
   "metadata": {},
   "source": [
    "### Xgboost"
   ]
  },
  {
   "cell_type": "code",
   "execution_count": 35,
   "id": "079293c4-4ab5-46c7-ac7a-e8a9291de853",
   "metadata": {},
   "outputs": [],
   "source": [
    "x=df.iloc[:,1:]"
   ]
  },
  {
   "cell_type": "code",
   "execution_count": 36,
   "id": "25032d60-6519-4e5e-ab21-7594597e8aad",
   "metadata": {},
   "outputs": [],
   "source": [
    "y=df.iloc[:,:1]"
   ]
  },
  {
   "cell_type": "code",
   "execution_count": 37,
   "id": "d88d2500-da05-4d7a-870f-37e87d72f935",
   "metadata": {},
   "outputs": [],
   "source": [
    "test_size=0.2\n",
    "X_train, X_test, y_train, y_test = train_test_split(x, y, test_size=test_size)"
   ]
  },
  {
   "cell_type": "code",
   "execution_count": 38,
   "id": "3daf970d-ec8c-4c66-b8d4-3747e89c24fa",
   "metadata": {},
   "outputs": [],
   "source": [
    "# Xy = xgb.DMatrix(X, y, enable_categorical=True)\n",
    "# params = {\n",
    "#     \"eta\": 0.002,\n",
    "#     \"max_depth\": 6,\n",
    "#     \"subsample\": 0.5\n",
    "# }\n",
    "# booster = xgb.train({\"tree_method\": \"hist\", \"max_cat_to_onehot\": 5}, Xy)"
   ]
  },
  {
   "cell_type": "code",
   "execution_count": 39,
   "id": "e325a800-138b-4594-88fe-d40b99cafcc7",
   "metadata": {},
   "outputs": [],
   "source": [
    "# xg_reg = xgb.XGBRegressor(objective ='reg:linear', colsample_bytree = 0.3, learning_rate = 0.1,\n",
    "#                 max_depth = 5, alpha = 10, n_estimators = 10, tree_method=\"hist\", enable_categorical=True)\n",
    "xg_reg = xgb.XGBRegressor(max_depth=10,subsample=0.5,n_estimators=10000,learning_rate=0.02)"
   ]
  },
  {
   "cell_type": "code",
   "execution_count": 40,
   "id": "8d93c47d-6f70-4a66-b19d-bf4ba16581e1",
   "metadata": {},
   "outputs": [],
   "source": [
    "model=xg_reg.fit(X_train,y_train)\n",
    "\n",
    "preds = xg_reg.predict(X_test)"
   ]
  },
  {
   "cell_type": "code",
   "execution_count": 41,
   "id": "76d95bae-e810-43bf-bacf-6ca19442d162",
   "metadata": {},
   "outputs": [
    {
     "name": "stdout",
     "output_type": "stream",
     "text": [
      "Pearson correlation: 0.404321\n",
      "RMSE: 2.672218\n"
     ]
    }
   ],
   "source": [
    "r=pearsonr(np.array(y_test).squeeze(),np.array(preds))[0]\n",
    "rmse = np.sqrt(mean_squared_error(y_test, preds))\n",
    "print(\"Pearson correlation: %f\" % (r))\n",
    "print(\"RMSE: %f\" % (rmse))"
   ]
  },
  {
   "cell_type": "code",
   "execution_count": 42,
   "id": "32d175d7-f4e9-4b3d-bf5d-d4533b0aa558",
   "metadata": {},
   "outputs": [],
   "source": [
    "# # explain the model's predictions using SHAP\n",
    "# # (same syntax works for LightGBM, CatBoost, scikit-learn, transformers, Spark, etc.)\n",
    "# explainer = shap.Explainer(model)\n",
    "# shap_values = explainer(x)"
   ]
  },
  {
   "cell_type": "code",
   "execution_count": 43,
   "id": "b192c1b8-b222-4718-9a91-bff7f87cb0d1",
   "metadata": {},
   "outputs": [
    {
     "name": "stderr",
     "output_type": "stream",
     "text": [
      "ntree_limit is deprecated, use `iteration_range` or model slicing instead.\n"
     ]
    }
   ],
   "source": [
    "shap_values = shap.TreeExplainer(model).shap_values(X_train)"
   ]
  },
  {
   "cell_type": "code",
   "execution_count": 44,
   "id": "df76d7e4-40bf-4e07-aa6f-be49241b8527",
   "metadata": {},
   "outputs": [],
   "source": [
    "# # visualize the first prediction's explanation\n",
    "# shap.plots.waterfall(shap_values[0])"
   ]
  },
  {
   "cell_type": "code",
   "execution_count": 45,
   "id": "d9fa12d5-52ce-430a-ac1a-80ad1825bffe",
   "metadata": {},
   "outputs": [],
   "source": [
    "# summarize the effects of all the features\n",
    "# shap.plots.beeswarm(shap_values, show=False, color_bar=False)\n",
    "# plt.colorbar()\n",
    "# plt.show()"
   ]
  },
  {
   "cell_type": "code",
   "execution_count": 46,
   "id": "edd0968a-48c7-42ad-843e-3ce557ffef31",
   "metadata": {},
   "outputs": [
    {
     "data": {
      "image/png": "[encoded data removed]",
      "text/plain": [
       "<Figure size 720x432 with 2 Axes>"
      ]
     },
     "metadata": {
      "needs_background": "light"
     },
     "output_type": "display_data"
    }
   ],
   "source": [
    "f = plt.figure()\n",
    "shap.summary_plot(shap_values, X_train, show=False)\n",
    "\n",
    "fig, ax = plt.gcf(), plt.gca()\n",
    "# main figure settings\n",
    "fig.set_size_inches(10, 6)\n",
    "ax.tick_params(labelsize=16)\n",
    "ax.set_xlabel(\"SHAP Value\",fontsize=16)\n",
    "plt.xticks([-4,-2,0,2,4])\n",
    "\n",
    "# color bar settings\n",
    "cb_ax = fig.axes[1]\n",
    "\n",
    "cb_ax.tick_params(labelsize=14)\n",
    "cb_ax.set_ylabel(\"Feature value\", fontsize=16)\n",
    "\n",
    "cb_ax.set_aspect('auto')\n",
    "plt.tight_layout()\n",
    "cb_ax.set_box_aspect(30) \n",
    "\n",
    "f.savefig(\"../figs/vg_shap_summary.png\", bbox_inches='tight', dpi=600)"
   ]
  },
  {
   "cell_type": "code",
   "execution_count": 47,
   "id": "2cc35d73-afc3-4160-b6f3-9fc30c576a78",
   "metadata": {},
   "outputs": [
    {
     "data": {
      "image/png": "[encoded data removed]",
      "text/plain": [
       "<Figure size 576x309.6 with 2 Axes>"
      ]
     },
     "metadata": {
      "needs_background": "light"
     },
     "output_type": "display_data"
    }
   ],
   "source": [
    "shap.summary_plot(shap_values, X_train, plot_type='violin')"
   ]
  },
  {
   "cell_type": "code",
   "execution_count": 48,
   "id": "213f54a1-b9ef-46b7-846b-f629b8d89a07",
   "metadata": {},
   "outputs": [],
   "source": [
    "# shap.summary_plot(shap_values, plot_type='violin')"
   ]
  },
  {
   "cell_type": "code",
   "execution_count": 49,
   "id": "c836266b-f2d7-4609-b4f9-824289505739",
   "metadata": {},
   "outputs": [],
   "source": [
    "# shap.summary_plot(shap_values, X_train, plot_type='bar')"
   ]
  },
  {
   "cell_type": "code",
   "execution_count": 50,
   "id": "42b8c8df-e41f-4723-8012-f2c9e034071b",
   "metadata": {},
   "outputs": [],
   "source": [
    "def ABS_SHAP(df_shap,df):\n",
    "    #import matplotlib as plt\n",
    "    # Make a copy of the input data\n",
    "    shap_v = pd.DataFrame(df_shap)\n",
    "    feature_list = df.columns\n",
    "    shap_v.columns = feature_list\n",
    "    df_v = df.copy().reset_index().drop('index',axis=1)\n",
    "    \n",
    "    # Determine the correlation in order to plot with different colors\n",
    "    corr_list = list()\n",
    "    for i in feature_list:\n",
    "        b = np.corrcoef(shap_v[i],df_v[i])[1][0]\n",
    "        corr_list.append(b)\n",
    "    corr_df = pd.concat([pd.Series(feature_list),pd.Series(corr_list)],axis=1).fillna(0)\n",
    "    # Make a data frame. Column 1 is the feature, and Column 2 is the correlation coefficient\n",
    "    corr_df.columns  = ['Variable','Corr']\n",
    "    corr_df['Sign'] = np.where(corr_df['Corr']>0,'red','blue')\n",
    "\n",
    "    # Plot it\n",
    "    shap_abs = np.abs(shap_v)\n",
    "    k=pd.DataFrame(shap_abs.mean()).reset_index()\n",
    "    k.columns = ['Variable','SHAP_abs']\n",
    "    k2 = k.merge(corr_df,left_on = 'Variable',right_on='Variable',how='inner')\n",
    "    k2 = k2.sort_values(by='SHAP_abs',ascending = True)\n",
    "    colorlist = k2['Sign']\n",
    "    \n",
    "\n",
    "    ax = k2.plot.barh(x='Variable',y='SHAP_abs',color = colorlist, figsize=(10,6),legend=False, fontsize=16)\n",
    "    figure_size = plt.gcf().get_size_inches()\n",
    "    print(figure_size)\n",
    "    for i, v in enumerate(k2['SHAP_abs']):\n",
    "        ax.text(v+0.02, i-0.1, \"{:.2f}\".format(v), color='black', fontsize=16)\n",
    "    ax.set_xlabel(\"SHAP Value (Red = Positive Impact)\",fontsize=16)\n",
    "    # xticks=range(0,2,0.2)\n",
    "    # ax.xticks(xticks,xticks)\n",
    "    plt.xlim(0, 1.6)\n",
    "    ax.set_xticks([0,0.5,1.0,1.5])\n",
    "    ax.set_ylabel(\"\")\n",
    "    plt.savefig(\"../figs/vg_shap_summary_value.png\", bbox_inches='tight', dpi=1000)\n",
    "    "
   ]
  },
  {
   "cell_type": "code",
   "execution_count": 51,
   "id": "6280b327-c76c-4053-ad50-a4ce470a2124",
   "metadata": {},
   "outputs": [
    {
     "name": "stdout",
     "output_type": "stream",
     "text": [
      "[10.  6.]\n"
     ]
    },
    {
     "data": {
      "image/png": "[encoded data removed]",
      "text/plain": [
       "<Figure size 720x432 with 1 Axes>"
      ]
     },
     "metadata": {
      "needs_background": "light"
     },
     "output_type": "display_data"
    }
   ],
   "source": [
    "ABS_SHAP(shap_values,X_train)"
   ]
  },
  {
   "cell_type": "code",
   "execution_count": null,
   "id": "a7d316e6-8d1c-4f27-992c-7a7a8234ac21",
   "metadata": {},
   "outputs": [],
   "source": [
    "# shap.plots.bar(shap_values)"
   ]
  },
  {
   "cell_type": "code",
   "execution_count": null,
   "id": "8d058a26-644b-458f-8003-52bdfc7d3e2c",
   "metadata": {},
   "outputs": [],
   "source": [
    "# create a dependence scatter plot to show the effect of a single feature across the whole dataset\n",
    "shap.plots.scatter(shap_values[:,\"alignment\"], color=shap_values)"
   ]
  },
  {
   "cell_type": "code",
   "execution_count": null,
   "id": "775e3b32-101b-40ed-bb74-6579b0ee70af",
   "metadata": {},
   "outputs": [],
   "source": [
    "# create a dependence scatter plot to show the effect of a single feature across the whole dataset\n",
    "shap.plots.scatter(shap_values[:,\"v_discriminability\"], color=shap_values)"
   ]
  },
  {
   "cell_type": "code",
   "execution_count": null,
   "id": "f675c1ff-c105-4695-b4a2-cea718dd8231",
   "metadata": {},
   "outputs": [],
   "source": [
    "# create a dependence scatter plot to show the effect of a single feature across the whole dataset\n",
    "shap.plots.scatter(shap_values[:,\"l_discriminability\"], color=shap_values)"
   ]
  },
  {
   "cell_type": "code",
   "execution_count": null,
   "id": "d0df90d9-859b-4e22-ac55-60594c563857",
   "metadata": {},
   "outputs": [],
   "source": [
    "shap.plots.scatter(shap_values[:,\"l_variability\"], color=shap_values)"
   ]
  },
  {
   "cell_type": "code",
   "execution_count": null,
   "id": "e491f12c-5727-4fe1-8c5c-f495520f8122",
   "metadata": {},
   "outputs": [],
   "source": [
    "shap.plots.scatter(shap_values[:,\"v_variability\"], color=shap_values)"
   ]
  },
  {
   "cell_type": "markdown",
   "id": "6e926d62-1c42-433e-9d87-d2c0fe81fbcd",
   "metadata": {},
   "source": [
    "### Linear Regression"
   ]
  },
  {
   "cell_type": "code",
   "execution_count": null,
   "id": "580fb539-90c0-458d-bfc7-364f1cbbe064",
   "metadata": {},
   "outputs": [],
   "source": [
    "results = smf.ols(formula = 'aoa ~ frequency+alignment+v_variability+l_variability+v_discriminability+l_discriminability',data=df).fit()"
   ]
  },
  {
   "cell_type": "code",
   "execution_count": null,
   "id": "ea4000ab-7d95-43dd-8565-0d4eb5f8f4d0",
   "metadata": {},
   "outputs": [],
   "source": [
    "results.summary()"
   ]
  },
  {
   "cell_type": "code",
   "execution_count": null,
   "id": "5788b880-fd70-4352-a581-d5b043948450",
   "metadata": {},
   "outputs": [],
   "source": []
  }
 ],
 "metadata": {
  "kernelspec": {
   "display_name": "Python 3 (ipykernel)",
   "language": "python",
   "name": "python3"
  },
  "language_info": {
   "codemirror_mode": {
    "name": "ipython",
    "version": 3
   },
   "file_extension": ".py",
   "mimetype": "text/x-python",
   "name": "python",
   "nbconvert_exporter": "python",
   "pygments_lexer": "ipython3",
   "version": "3.8.13"
  }
 },
 "nbformat": 4,
 "nbformat_minor": 5
}
