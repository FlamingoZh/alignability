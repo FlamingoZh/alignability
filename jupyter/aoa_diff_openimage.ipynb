{
 "cells": [
  {
   "cell_type": "code",
   "execution_count": 1,
   "id": "25598d9d-f351-4fe5-ab1d-d4f7cf3d3f05",
   "metadata": {},
   "outputs": [],
   "source": [
    "import csv\n",
    "import sys\n",
    "import os\n",
    "import pickle\n",
    "import random\n",
    "import numpy as np\n",
    "import time\n",
    "import operator\n",
    "import seaborn as sns\n",
    "\n",
    "import matplotlib\n",
    "import matplotlib.pyplot as plt\n",
    "\n",
    "from collections import Counter\n",
    "\n",
    "import statsmodels.stats.api as sms\n",
    "\n",
    "import scipy.stats\n",
    "from scipy.stats import entropy\n",
    "from scipy.stats import spearmanr\n",
    "from scipy.stats import zscore\n",
    "from sklearn.linear_model import LinearRegression\n",
    "from sklearn.metrics.pairwise import cosine_similarity"
   ]
  },
  {
   "cell_type": "code",
   "execution_count": 2,
   "id": "6123483e-8392-4a5b-b553-ccf50beffe9b",
   "metadata": {},
   "outputs": [],
   "source": [
    "np.set_printoptions(precision=2)"
   ]
  },
  {
   "cell_type": "code",
   "execution_count": 3,
   "id": "09d974c6-251f-481d-9ad3-6d282bde798f",
   "metadata": {},
   "outputs": [],
   "source": [
    "sys.path.append('../python')\n",
    "from permutation import permutation, compute_alignment_strength\n",
    "from utils.utils_funcs import aggregate_embeddings_visual_and_language, get_variance, get_distinctness_from_nearest_5\n",
    "from utils.utils_funcs import load_data_to_dict"
   ]
  },
  {
   "cell_type": "code",
   "execution_count": 4,
   "id": "af91fd7e-bacd-4d39-b39b-861b2fabeb59",
   "metadata": {},
   "outputs": [],
   "source": [
    "def get_alignment_strength(struct,concepts,relative):\n",
    "    visual_embeddings_list=list()\n",
    "    langauge_embeddings_list=list()\n",
    "    for concept in concepts:\n",
    "        embeddings=struct[\"embeds\"][concept]\n",
    "        visual_embeddings_list.append(embeddings[\"visual\"])\n",
    "        langauge_embeddings_list.append(embeddings[\"language\"])\n",
    "    z_0=np.array(visual_embeddings_list)\n",
    "    z_1=np.array(langauge_embeddings_list)\n",
    "    if relative:\n",
    "        return permutation(z_0,z_1,n_sim=100)[0]\n",
    "    else:\n",
    "        return compute_alignment_strength(z_0,z_1)"
   ]
  },
  {
   "cell_type": "code",
   "execution_count": 5,
   "id": "34e8a9f3-fc3c-43dc-9f5d-209dfe1a0478",
   "metadata": {},
   "outputs": [],
   "source": [
    "openimage_data=pickle.load(open(\"../data/dumped_embeddings/openimage_concept_swav_glove_1.pkl\",\"rb\"))"
   ]
  },
  {
   "cell_type": "code",
   "execution_count": 6,
   "id": "e9a92a35-4eb1-4c66-96ce-b39eb16996d2",
   "metadata": {},
   "outputs": [],
   "source": [
    "openimage_data['words'].remove(\"container\")\n",
    "openimage_data['words'].remove(\"kitchenware\")"
   ]
  },
  {
   "cell_type": "code",
   "execution_count": 7,
   "id": "24d00ebd-5bf2-42e7-8cf0-f556d265ce75",
   "metadata": {},
   "outputs": [],
   "source": [
    "aggregated_openimage_data=aggregate_embeddings_visual_and_language(openimage_data,1,1)"
   ]
  },
  {
   "cell_type": "code",
   "execution_count": 8,
   "id": "5528131b-1a7e-4879-9de0-d51f3888e530",
   "metadata": {},
   "outputs": [],
   "source": [
    "# kuperman aoa\n",
    "noun_aoa_dict=dict()\n",
    "with open(\"../data/processed/AoA_Kuperman.csv\",\"r\") as f:\n",
    "    next(f)\n",
    "    for row in f:\n",
    "        temp=row.replace('\\n','').replace('\\r','').split(\",\")\n",
    "        if temp[0]:\n",
    "            if temp[0] in openimage_data[\"words\"]:\n",
    "                noun_aoa_dict[temp[0]]=float(temp[4])\n",
    "noun_aoa_sorted= sorted(noun_aoa_dict.items(), key=operator.itemgetter(1))"
   ]
  },
  {
   "cell_type": "code",
   "execution_count": 9,
   "id": "64997a16-2e89-4c66-9c7c-ad7e4207cebb",
   "metadata": {},
   "outputs": [],
   "source": [
    "# noun_aoa_dict=load_data_to_dict(\"../data/processed/aoa/wordbank_noun_aoa.txt\",concepts=vg_noun_data[\"words\"])\n",
    "# verb_aoa_dict=load_data_to_dict(\"../data/processed/aoa/wordbank_verb_aoa.txt\",concepts=vg_verb_data[\"words\"])\n",
    "\n",
    "# noun_aoa_sorted = sorted(noun_aoa_dict.items(), key=operator.itemgetter(1))\n",
    "# verb_aoa_sorted = sorted(verb_aoa_dict.items(), key=operator.itemgetter(1))"
   ]
  },
  {
   "cell_type": "code",
   "execution_count": 10,
   "id": "0fa1008e-27f0-45b9-918f-225d1569c696",
   "metadata": {},
   "outputs": [],
   "source": [
    "# noun_aoa_dict=load_data_to_dict(\"../data/processed/aoa/glasgow_noun_aoa.txt\",concepts=vg_noun_data[\"words\"])\n",
    "# verb_aoa_dict=load_data_to_dict(\"../data/processed/aoa/glasgow_verb_aoa.txt\",concepts=vg_verb_data[\"words\"])\n",
    "\n",
    "# noun_aoa_sorted = sorted(noun_aoa_dict.items(), key=operator.itemgetter(1))\n",
    "# verb_aoa_sorted = sorted(verb_aoa_dict.items(), key=operator.itemgetter(1))"
   ]
  },
  {
   "cell_type": "code",
   "execution_count": 11,
   "id": "a2264698-3f17-4541-92bb-249df9cd99ff",
   "metadata": {},
   "outputs": [],
   "source": [
    "def mean_confidence_interval(data, confidence=0.95):\n",
    "    a = 1.0 * np.array(data)\n",
    "    n = len(a)\n",
    "    m, se = np.mean(a), scipy.stats.sem(a)\n",
    "    h = se * scipy.stats.t.ppf((1 + confidence) / 2., n-1)\n",
    "    return m, h"
   ]
  },
  {
   "cell_type": "code",
   "execution_count": 12,
   "id": "59eb7d95-e4eb-4481-8ffa-c67634ed1f5a",
   "metadata": {},
   "outputs": [],
   "source": [
    "def compute_alignment(concepts,shuffled_concepts,struct,relative):\n",
    "    num_list=list()\n",
    "    for sh_concepts in shuffled_concepts:\n",
    "        num_list.append(get_alignment_strength(struct,sh_concepts,relative))\n",
    "    temp=mean_confidence_interval(num_list)\n",
    "    return get_alignment_strength(struct,concepts,relative),temp[0],temp[1]"
   ]
  },
  {
   "cell_type": "code",
   "execution_count": 13,
   "id": "d4c9834e-8e82-4f0d-b01f-47ac9e666c52",
   "metadata": {},
   "outputs": [],
   "source": [
    "def sim_in_order(struct,concepts,step=20,num_simulation=1000,concept_accum=True,relative=False):\n",
    "    \n",
    "    xs=list()\n",
    "    ag_true=list()\n",
    "    ag_sh=list()\n",
    "    ag_sh_err=list()\n",
    "\n",
    "    for idx in range(0,len(concepts),step):\n",
    "        if concept_accum:\n",
    "            concept_group=concepts[:idx+step]\n",
    "        else:\n",
    "            concept_group=concepts[idx:idx+step]\n",
    "        \n",
    "        shuffled_list=list()\n",
    "        temp=concepts.copy()\n",
    "        for i in range(num_simulation):\n",
    "            random.shuffle(temp)\n",
    "            temp2=temp[:len(concept_group)]\n",
    "            shuffled_list.append(temp2)\n",
    "            # print(sorted(temp2))\n",
    "            # for j in temp2:\n",
    "            #     if j not in concept_group:\n",
    "            #         print(j)\n",
    "        \n",
    "        xs.append(min(idx+step,len(concepts)))\n",
    "        ag_rts=compute_alignment(concept_group,shuffled_list,struct,relative)\n",
    "        ag_true.append(ag_rts[0])\n",
    "        ag_sh.append(ag_rts[1])\n",
    "        ag_sh_err.append(ag_rts[2])\n",
    "    \n",
    "    return ag_true,ag_sh,ag_sh_err,xs"
   ]
  },
  {
   "cell_type": "code",
   "execution_count": 14,
   "id": "19236cd0-985a-4d01-af67-aea477c6a646",
   "metadata": {},
   "outputs": [],
   "source": [
    "def sim_in_order(struct,concepts,step=20,num_simulation=1000,concept_accum=True,relative=False):\n",
    "    \n",
    "    xs=list()\n",
    "    ag_true=list()\n",
    "    ag_sh=list()\n",
    "    ag_sh_err=list()\n",
    "    \n",
    "    for idx in range(0,len(concepts),step):\n",
    "        if concept_accum:\n",
    "            concept_group=concepts[:idx+step]\n",
    "        else:\n",
    "            concept_group=concepts[idx:idx+step]\n",
    "        xs.append(min(idx+step,len(concepts)))\n",
    "        ag_true.append(get_alignment_strength(struct,concept_group,relative))\n",
    "    \n",
    "    temp=concepts.copy()\n",
    "    ll=list()\n",
    "    for i in range(num_simulation):\n",
    "        random.shuffle(temp)\n",
    "        l=list()\n",
    "        for idx in range(0,len(temp),step):\n",
    "            if concept_accum:\n",
    "                concept_group=temp[:idx+step]\n",
    "            else:\n",
    "                concept_group=temp[idx:idx+step]\n",
    "            l.append(get_alignment_strength(struct,concept_group,relative))\n",
    "        ll.append(l)\n",
    "    ll=np.array(ll)\n",
    "    for i in range(ll.shape[1]):\n",
    "        temp=mean_confidence_interval([row[i] for row in ll])\n",
    "        ag_sh.append(temp[0])\n",
    "        ag_sh_err.append(temp[1])\n",
    "        \n",
    "    return ag_true,ag_sh,ag_sh_err,xs"
   ]
  },
  {
   "cell_type": "code",
   "execution_count": 15,
   "id": "ab076d05-e2bd-47ce-bb9d-d9cc1190124b",
   "metadata": {},
   "outputs": [],
   "source": [
    "def plot_percentage_in_order(title,struct,concepts,step=20,num_simulation=1000,concept_accum=True,relative=False):\n",
    "    t1=time.time()\n",
    "    ag_true,ag_sh,ag_sh_err,xs=sim_in_order(struct,concepts,step,num_simulation,concept_accum,relative)\n",
    "    t2=time.time()\n",
    "    print(t2-t1)\n",
    "    \n",
    "    plt.plot(xs,ag_true,color=\"green\",label=\"Alignment Strength of True Order\")\n",
    "    #plt.plot(xs,ag_sh,color=\"red\",label=\"Alignment Strength of Random Concepts\")\n",
    "    plt.errorbar(xs,ag_sh,yerr =ag_sh_err,color=\"red\",label=\"Alignment Strength of Random Concepts\")\n",
    "    plt.title(title)\n",
    "    plt.xlabel(\"number of concepts in the system\")\n",
    "    plt.ylabel(\"Alignment Strength\")\n",
    "    plt.legend() \n",
    "    \n",
    "    print(xs)\n",
    "    print(\"alignment true:\",ag_true)\n",
    "    print(\"alignment shuffled:\",ag_sh)"
   ]
  },
  {
   "cell_type": "code",
   "execution_count": 16,
   "id": "102e2574-891f-42cb-8318-e552f4bcddea",
   "metadata": {},
   "outputs": [
    {
     "name": "stdout",
     "output_type": "stream",
     "text": [
      "46.02394700050354\n",
      "[10, 20, 30, 40, 50, 60, 70, 80, 90, 100, 110, 120, 130, 140, 150, 160, 170, 180, 190, 200, 210, 220, 230, 240, 250, 260, 270, 280, 290, 300, 310, 320, 330, 340, 350, 360, 370, 380, 390, 400, 410, 418]\n",
      "alignment true: [0.03820816864295125, 0.11533633385383181, 0.1801251426880311, 0.18913329524260838, 0.17124973970012147, 0.18768482806802633, 0.21315147792975567, 0.21341303104271345, 0.23206690776842268, 0.22652707107123193, 0.24250483903465644, 0.22540621815473275, 0.22639612906057358, 0.22595310913159253, 0.22504883852021135, 0.23037708120331063, 0.22849394583226004, 0.23164673472791633, 0.22979304167185716, 0.23112081373064802, 0.24188171928928756, 0.23922715664462568, 0.24561622449714035, 0.2478191748506316, 0.24384353101253564, 0.24475939350184125, 0.24074909688436452, 0.23889172941871478, 0.23563993976576758, 0.23867293868076717, 0.23187276899409195, 0.2242043211895113, 0.2220385740319679, 0.2220305143101329, 0.2259857651738718, 0.225675150412038, 0.2225885461930376, 0.22226729364476355, 0.22493387703850629, 0.22639313569207545, 0.2211590430603679, 0.22219922712545512]\n",
      "alignment shuffled: [0.1986930171277997, 0.22417829915101894, 0.2351479357118758, 0.23747748981893385, 0.23832899112871708, 0.23837338254283405, 0.23646414730023146, 0.23271409635998183, 0.2293884520305485, 0.22806175689442434, 0.22865654829259174, 0.22779390318540713, 0.2293049493268968, 0.22768388441280923, 0.22579937061713673, 0.2265648327920421, 0.22700585936911594, 0.22579558167051872, 0.22578810620847534, 0.22563627132513223, 0.22597683695688645, 0.2257740077317581, 0.22537361400142936, 0.22395823850963406, 0.22413210254119698, 0.22426781373031346, 0.22382654177329758, 0.22299906051696894, 0.2229468123243795, 0.22266335599445905, 0.22314762166988064, 0.22320785607711546, 0.22344567903987006, 0.2239289162372912, 0.22352823434489938, 0.22356575715920082, 0.2230548445722237, 0.22321703297276346, 0.22260817164312952, 0.22216360394657095, 0.222247811413248, 0.22219922712545506]\n"
     ]
    },
    {
     "data": {
      "image/png": "[encoded data removed]",
      "text/plain": [
       "<Figure size 432x288 with 1 Axes>"
      ]
     },
     "metadata": {
      "needs_background": "light"
     },
     "output_type": "display_data"
    }
   ],
   "source": [
    "plot_percentage_in_order(\"openimage: absolute\",aggregated_openimage_data,list(list(zip(*noun_aoa_sorted))[0]),\n",
    "                         step=10,num_simulation=100,concept_accum=True,relative=False)"
   ]
  },
  {
   "cell_type": "code",
   "execution_count": 18,
   "id": "31ae1baa-00ac-44e7-8331-271a4176fb0a",
   "metadata": {},
   "outputs": [
    {
     "name": "stdout",
     "output_type": "stream",
     "text": [
      "3028.068192958832\n",
      "[10, 20, 30, 40, 50, 60, 70, 80, 90, 100, 110, 120, 130, 140, 150, 160, 170, 180, 190, 200, 210, 220, 230, 240, 250, 260, 270, 280, 290, 300, 310, 320, 330, 340, 350, 360, 370, 380, 390, 400, 410, 418]\n",
      "alignment true: [0.63, 0.93, 1.0, 1.0, 1.0, 1.0, 1.0, 1.0, 1.0, 1.0, 1.0, 1.0, 1.0, 1.0, 1.0, 1.0, 1.0, 1.0, 1.0, 1.0, 1.0, 1.0, 1.0, 1.0, 1.0, 1.0, 1.0, 1.0, 1.0, 1.0, 1.0, 1.0, 1.0, 1.0, 1.0, 1.0, 1.0, 1.0, 1.0, 1.0, 1.0, 1.0]\n",
      "alignment shuffled: [0.678, 0.922, 0.983, 0.998, 1.0, 1.0, 1.0, 1.0, 1.0, 1.0, 1.0, 1.0, 1.0, 1.0, 1.0, 1.0, 1.0, 1.0, 1.0, 1.0, 1.0, 1.0, 1.0, 1.0, 1.0, 1.0, 1.0, 1.0, 1.0, 1.0, 1.0, 1.0, 1.0, 1.0, 1.0, 1.0, 1.0, 1.0, 1.0, 1.0, 1.0, 1.0]\n"
     ]
    },
    {
     "data": {
      "image/png": "[encoded data removed]",
      "text/plain": [
       "<Figure size 432x288 with 1 Axes>"
      ]
     },
     "metadata": {
      "needs_background": "light"
     },
     "output_type": "display_data"
    }
   ],
   "source": [
    "plot_percentage_in_order(\"openimage: relative\",aggregated_openimage_data,list(list(zip(*noun_aoa_sorted))[0]),\n",
    "                         step=10,num_simulation=10,concept_accum=True,relative=True)"
   ]
  },
  {
   "cell_type": "code",
   "execution_count": null,
   "id": "ad642c2e-257f-489f-997e-97c995c64020",
   "metadata": {},
   "outputs": [],
   "source": []
  }
 ],
 "metadata": {
  "kernelspec": {
   "display_name": "Python 3 (ipykernel)",
   "language": "python",
   "name": "python3"
  },
  "language_info": {
   "codemirror_mode": {
    "name": "ipython",
    "version": 3
   },
   "file_extension": ".py",
   "mimetype": "text/x-python",
   "name": "python",
   "nbconvert_exporter": "python",
   "pygments_lexer": "ipython3",
   "version": "3.8.12"
  }
 },
 "nbformat": 4,
 "nbformat_minor": 5
}
