{
 "cells": [
  {
   "cell_type": "code",
   "execution_count": 347,
   "id": "4b2967aa-f3d7-4d29-8eef-b33a4e703b29",
   "metadata": {},
   "outputs": [],
   "source": [
    "import csv\n",
    "import sys\n",
    "import os\n",
    "import pickle\n",
    "import random\n",
    "import numpy as np\n",
    "import time\n",
    "import operator\n",
    "import seaborn as sns\n",
    "import pandas as pd\n",
    "\n",
    "import matplotlib\n",
    "import matplotlib.pyplot as plt\n",
    "\n",
    "from collections import Counter\n",
    "\n",
    "import statsmodels.stats.api as sms\n",
    "import statsmodels.formula.api as smf\n",
    "import statsmodels.api as sm\n",
    "\n",
    "import scipy.stats\n",
    "from scipy.stats import entropy\n",
    "from scipy.stats import spearmanr, pearsonr\n",
    "from scipy.stats import zscore\n",
    "\n",
    "import sklearn\n",
    "from sklearn.linear_model import LinearRegression\n",
    "from sklearn.metrics.pairwise import cosine_similarity\n",
    "from sklearn.metrics import mean_squared_error\n",
    "from sklearn.model_selection import train_test_split\n",
    "from sklearn.utils import shuffle\n",
    "from sklearn.model_selection import cross_val_score, KFold\n",
    "\n",
    "import xgboost as xgb\n",
    "import shap"
   ]
  },
  {
   "cell_type": "code",
   "execution_count": 348,
   "id": "0281edc6-f267-4164-a2bd-13793386bf9f",
   "metadata": {},
   "outputs": [],
   "source": [
    "sys.path.append('../python')\n",
    "from permutation import permutation, compute_alignment_strength\n",
    "from utils.utils_funcs import get_variance, get_distinctness, get_distinctness_from_nearest_5\n",
    "from utils.utils_funcs import load_data_to_dict"
   ]
  },
  {
   "cell_type": "code",
   "execution_count": 349,
   "id": "28189381-8881-4e9b-a2b0-06b0a215257d",
   "metadata": {},
   "outputs": [],
   "source": [
    "# aggregate both visual embeddings and language embeddings\n",
    "def aggregate_embeddings_visual_and_language(input_struct,n_sample_per_visual,n_sample_per_language):\n",
    "\twords=input_struct['words']\n",
    "\tembed_dict=dict()\n",
    "\tfor word in words:\n",
    "\t\tn_sample_v = min(len(input_struct['embeds'][word]['visual']), n_sample_per_visual)\n",
    "\t\tvisual_temp=np.mean(np.array(random.sample(input_struct['embeds'][word]['visual'],n_sample_v)),axis=0)\n",
    "\t\tn_sample_l = min(len(input_struct['embeds'][word]['language']), n_sample_per_language)\n",
    "\t\tlanguage_temp=np.mean(np.array(random.sample(input_struct['embeds'][word]['language'],n_sample_l)),axis=0)\n",
    "\t\t#embed_dict[word]=dict(visual=np.expand_dims(visual_temp,axis=0),language=language_temp)\n",
    "\t\tembed_dict[word]=dict(visual=visual_temp,language=np.squeeze(language_temp))\n",
    "\treturn dict(embeds=embed_dict,words=words)"
   ]
  },
  {
   "cell_type": "code",
   "execution_count": 350,
   "id": "2423c9fe-1d36-497c-892b-4ada8438f908",
   "metadata": {},
   "outputs": [],
   "source": [
    "def combine_nouns_and_verbs(struct1,struct2):\n",
    "    words_full=list()\n",
    "    embeds_full=dict()\n",
    "    for w in struct1[\"embeds\"]:\n",
    "        ww=w+\"_n\"\n",
    "        temp=dict()\n",
    "        temp[\"visual\"]=struct1[\"embeds\"][w][\"visual\"]\n",
    "        temp[\"language\"]=struct1[\"embeds\"][w][\"language\"]\n",
    "        embeds_full[ww]=temp\n",
    "        words_full.append(ww)\n",
    "    for w in struct2[\"embeds\"]:\n",
    "        ww=w+\"_v\"\n",
    "        temp=dict()\n",
    "        temp[\"visual\"]=struct2[\"embeds\"][w][\"visual\"]\n",
    "        temp[\"language\"]=struct2[\"embeds\"][w][\"language\"]\n",
    "        embeds_full[ww]=temp\n",
    "        words_full.append(ww)\n",
    "    data_full=dict(\n",
    "        embeds=embeds_full,\n",
    "        words=words_full\n",
    "    )\n",
    "    return data_full"
   ]
  },
  {
   "cell_type": "code",
   "execution_count": 351,
   "id": "d1745eff-b7c4-4886-b8c1-0e149e88923b",
   "metadata": {},
   "outputs": [],
   "source": [
    "def get_concept_level_alignment_strength(struct,concepts,targets):\n",
    "    visual_embeddings_list=list()\n",
    "    langauge_embeddings_list=list()\n",
    "    for concept in concepts:\n",
    "        embeddings=struct[\"embeds\"][concept]\n",
    "        visual_embeddings_list.append(embeddings[\"visual\"])\n",
    "        langauge_embeddings_list.append(embeddings[\"language\"])\n",
    "    z_0=np.array(visual_embeddings_list)\n",
    "    z_1=np.array(langauge_embeddings_list)\n",
    "    sim_z_0=cosine_similarity(z_0)\n",
    "    sim_z_1=cosine_similarity(z_1)\n",
    "    rt=list()\n",
    "    for target in targets:\n",
    "        idx=concepts.index(target)\n",
    "        aln=spearmanr(sim_z_0[idx],sim_z_1[idx])[0]\n",
    "        if aln>0:\n",
    "            rt.append(aln)\n",
    "        else:\n",
    "            rt.append(0)\n",
    "    return rt"
   ]
  },
  {
   "cell_type": "code",
   "execution_count": 352,
   "id": "99875d2e-b607-4989-9843-fe6bdb0fc9f5",
   "metadata": {},
   "outputs": [],
   "source": [
    "def combine_all_data(data,aoa_dict,v_var_dict,l_var_dict,v_dist_dict,l_dist_dict):\n",
    "    aoas=list()\n",
    "    v_vars=list()\n",
    "    l_vars=list()\n",
    "    v_dists=list()\n",
    "    l_dists=list()\n",
    "    \n",
    "    intersect_concepts=list()\n",
    "    for concept in aoa_dict:\n",
    "        if concept in data['words']:\n",
    "            aoas.append(aoa_dict[concept])\n",
    "            v_vars.append(v_var_dict[concept])\n",
    "            l_vars.append(l_var_dict[concept])\n",
    "            v_dists.append(v_dist_dict[concept])\n",
    "            l_dists.append(l_dist_dict[concept])\n",
    "            intersect_concepts.append(concept)\n",
    "    alignments=get_concept_level_alignment_strength(data,data['words'],intersect_concepts)\n",
    "    return aoas,alignments,v_vars,l_vars,v_dists,l_dists"
   ]
  },
  {
   "cell_type": "code",
   "execution_count": 353,
   "id": "f65e1893-cad1-4adf-8b28-61c130f96ba2",
   "metadata": {},
   "outputs": [],
   "source": [
    "# vg_noun_data=pickle.load(open(\"../data/dumped_embeddings/vg_noun_swav_bert_window5_20.pkl\",\"rb\"))\n",
    "# vg_verb_data=pickle.load(open(\"../data/dumped_embeddings/vg_verb_swav_bert_window5_20.pkl\",\"rb\"))\n",
    "\n",
    "# aggregated_vg_noun_data=aggregate_embeddings_visual_and_language(vg_noun_data,20,20)\n",
    "# aggregated_vg_verb_data=aggregate_embeddings_visual_and_language(vg_verb_data,20,20)"
   ]
  },
  {
   "cell_type": "code",
   "execution_count": 354,
   "id": "566f5e9b-9790-42b9-bdd7-b4cfa96d4586",
   "metadata": {
    "tags": []
   },
   "outputs": [],
   "source": [
    "vg_noun_data=pickle.load(open(\"../data/dumped_embeddings/vg_noun_ll_swav_bert_20.pkl\",\"rb\"))\n",
    "vg_verb_data=pickle.load(open(\"../data/dumped_embeddings/vg_verb_ll_swav_bert_20.pkl\",\"rb\"))\n",
    "\n",
    "aggregated_vg_noun_data=aggregate_embeddings_visual_and_language(vg_noun_data,20,20)\n",
    "aggregated_vg_verb_data=aggregate_embeddings_visual_and_language(vg_verb_data,20,20)"
   ]
  },
  {
   "cell_type": "code",
   "execution_count": 355,
   "id": "561cc823-b942-48ee-8272-e9b54c8c9a86",
   "metadata": {},
   "outputs": [],
   "source": [
    "# vg_noun_data=pickle.load(open(\"../data/dumped_embeddings/vg_noun_concept_least20_swav_bert_20.pkl\",\"rb\"))\n",
    "# vg_verb_data=pickle.load(open(\"../data/dumped_embeddings/vg_verb_concept_least20_swav_bert_20.pkl\",\"rb\"))\n",
    "\n",
    "# aggregated_vg_noun_data=aggregate_embeddings_visual_and_language(vg_noun_data,20,20)\n",
    "# aggregated_vg_verb_data=aggregate_embeddings_visual_and_language(vg_verb_data,20,20)"
   ]
  },
  {
   "cell_type": "code",
   "execution_count": 356,
   "id": "8418ad04-a208-4bc4-8cb3-5d1a359695ff",
   "metadata": {},
   "outputs": [],
   "source": [
    "# vg_noun_data=pickle.load(open(\"../data/dumped_embeddings/vg_noun_concept_least20_swav_glove_20.pkl\",\"rb\"))\n",
    "# vg_verb_data=pickle.load(open(\"../data/dumped_embeddings/vg_verb_concept_least20_swav_glove_20.pkl\",\"rb\"))\n",
    "\n",
    "# aggregated_vg_noun_data=aggregate_embeddings_visual_and_language(vg_noun_data,20,1)\n",
    "# aggregated_vg_verb_data=aggregate_embeddings_visual_and_language(vg_verb_data,20,1)"
   ]
  },
  {
   "cell_type": "code",
   "execution_count": 357,
   "id": "f036ac41-5657-49fd-a305-fd771da1d78e",
   "metadata": {},
   "outputs": [],
   "source": [
    "vg_all_data=combine_nouns_and_verbs(vg_noun_data,vg_verb_data)\n",
    "aggregated_vg_all_data=aggregate_embeddings_visual_and_language(vg_all_data,20,20)"
   ]
  },
  {
   "cell_type": "markdown",
   "id": "8f9ba1b0-685d-4b60-937d-9c777a807450",
   "metadata": {},
   "source": [
    "----"
   ]
  },
  {
   "cell_type": "code",
   "execution_count": 358,
   "id": "9cc0a135-9223-4468-b5ba-4af97dd2cdb6",
   "metadata": {},
   "outputs": [],
   "source": [
    "noun_aoa_dict=load_data_to_dict(\"../data/processed/aoa/kuperman_noun_aoa.txt\",concepts=vg_noun_data[\"words\"])\n",
    "verb_aoa_dict=load_data_to_dict(\"../data/processed/aoa/kuperman_verb_aoa.txt\",concepts=vg_verb_data[\"words\"])\n",
    "\n",
    "noun_aoa_sorted = sorted(noun_aoa_dict.items(), key=operator.itemgetter(1))\n",
    "verb_aoa_sorted = sorted(verb_aoa_dict.items(), key=operator.itemgetter(1))"
   ]
  },
  {
   "cell_type": "code",
   "execution_count": 359,
   "id": "8e051182-fed4-40f4-80de-d1d0f060ef88",
   "metadata": {},
   "outputs": [],
   "source": [
    "# noun_aoa_dict=load_data_to_dict(\"../data/processed/aoa/wordbank_noun_aoa.txt\",concepts=vg_noun_data[\"words\"])\n",
    "# verb_aoa_dict=load_data_to_dict(\"../data/processed/aoa/wordbank_verb_aoa.txt\",concepts=vg_verb_data[\"words\"])\n",
    "\n",
    "# noun_aoa_sorted = sorted(noun_aoa_dict.items(), key=operator.itemgetter(1))\n",
    "# verb_aoa_sorted = sorted(verb_aoa_dict.items(), key=operator.itemgetter(1))"
   ]
  },
  {
   "cell_type": "code",
   "execution_count": 360,
   "id": "db06ee5d-e654-4f7c-96a7-686d1391b8e8",
   "metadata": {},
   "outputs": [],
   "source": [
    "# noun_aoa_dict=load_data_to_dict(\"../data/processed/aoa/glasgow_noun_aoa.txt\",concepts=vg_noun_data[\"words\"])\n",
    "# verb_aoa_dict=load_data_to_dict(\"../data/processed/aoa/glasgow_verb_aoa.txt\",concepts=vg_verb_data[\"words\"])\n",
    "\n",
    "# noun_aoa_sorted = sorted(noun_aoa_dict.items(), key=operator.itemgetter(1))\n",
    "# verb_aoa_sorted = sorted(verb_aoa_dict.items(), key=operator.itemgetter(1))"
   ]
  },
  {
   "cell_type": "code",
   "execution_count": 361,
   "id": "7b9147eb-41b0-4f74-b207-fd65633d11f8",
   "metadata": {},
   "outputs": [],
   "source": [
    "all_aoa_dict=dict()\n",
    "for w in noun_aoa_dict:\n",
    "    ww=w+\"_n\"\n",
    "    all_aoa_dict[ww]=noun_aoa_dict[w]\n",
    "for w in verb_aoa_dict:\n",
    "    ww=w+\"_v\"\n",
    "    all_aoa_dict[ww]=verb_aoa_dict[w]"
   ]
  },
  {
   "cell_type": "markdown",
   "id": "3e72dd63-24f5-482f-aaf3-e812e9e25cee",
   "metadata": {},
   "source": [
    "----"
   ]
  },
  {
   "cell_type": "markdown",
   "id": "1cff28a5-a36d-44f2-aa3e-10dad50efdbe",
   "metadata": {},
   "source": [
    "## nouns+verbs"
   ]
  },
  {
   "cell_type": "code",
   "execution_count": 362,
   "id": "c4be0e87-ebe9-4d37-9479-11be90e8db10",
   "metadata": {},
   "outputs": [],
   "source": [
    "all_visual_variability,all_language_variability=get_variance(vg_all_data)"
   ]
  },
  {
   "cell_type": "code",
   "execution_count": 363,
   "id": "ac5cabf8-0205-4aaa-a509-373d0c3c3012",
   "metadata": {},
   "outputs": [],
   "source": [
    "all_visual_discriminability,all_language_discriminability=get_distinctness_from_nearest_5(vg_all_data)"
   ]
  },
  {
   "cell_type": "markdown",
   "id": "87c6f033-38d9-4325-9e84-79ac4fc9b65e",
   "metadata": {},
   "source": [
    "----"
   ]
  },
  {
   "cell_type": "code",
   "execution_count": 364,
   "id": "8b2dd935-5806-43ff-94ff-a3ca44e955fe",
   "metadata": {},
   "outputs": [],
   "source": [
    "aoas,alignments,v_vars,l_vars,v_dists,l_dists=combine_all_data(aggregated_vg_all_data,all_aoa_dict,\n",
    "                                                              all_visual_variability,all_language_variability,\n",
    "                                                              all_visual_discriminability,all_language_discriminability)"
   ]
  },
  {
   "cell_type": "code",
   "execution_count": 365,
   "id": "3244f6bd-30d9-4d6c-ae3b-6a5514e1ff63",
   "metadata": {},
   "outputs": [],
   "source": [
    "df=pd.DataFrame(data=np.transpose(np.array([aoas,alignments,v_vars,l_vars,v_dists,l_dists])),columns=['aoa','alignment','v_variability','l_variability','v_discriminability','l_discriminability'])\n",
    "# df1['type']='noun'"
   ]
  },
  {
   "cell_type": "code",
   "execution_count": 366,
   "id": "0819bd14-aa08-4ae3-8908-0b799a568e15",
   "metadata": {
    "tags": []
   },
   "outputs": [],
   "source": [
    "# df"
   ]
  },
  {
   "cell_type": "code",
   "execution_count": 367,
   "id": "49f19608-df04-46e0-a093-8fef09d267b2",
   "metadata": {},
   "outputs": [],
   "source": [
    "# df['type']=df['type'].astype(\"category\")"
   ]
  },
  {
   "cell_type": "code",
   "execution_count": 368,
   "id": "54bbfe20-8ff3-46ad-b042-2e7cff2a3089",
   "metadata": {},
   "outputs": [],
   "source": [
    "# df.dtypes"
   ]
  },
  {
   "cell_type": "markdown",
   "id": "6ed8d5f7-44aa-4a92-a2ee-b062568b3d5f",
   "metadata": {},
   "source": [
    "### Xgboost"
   ]
  },
  {
   "cell_type": "code",
   "execution_count": 369,
   "id": "07904c11-9239-49d0-9a8f-8bafb38b0649",
   "metadata": {},
   "outputs": [],
   "source": [
    "x=df.iloc[:,1:]"
   ]
  },
  {
   "cell_type": "code",
   "execution_count": 370,
   "id": "1fd76a21-4e44-438e-a53a-ed84323e15ef",
   "metadata": {},
   "outputs": [],
   "source": [
    "y=df.iloc[:,:1]"
   ]
  },
  {
   "cell_type": "code",
   "execution_count": 371,
   "id": "1e9b69e7-5c1b-48b4-8a12-5ec67bda3caa",
   "metadata": {},
   "outputs": [],
   "source": [
    "# # Shuffling the data\n",
    "# X_shuffle, y_shuffle = shuffle(x, y)"
   ]
  },
  {
   "cell_type": "code",
   "execution_count": 372,
   "id": "35f793e8-f56d-4ef1-bf4a-1bfe899f5828",
   "metadata": {
    "tags": []
   },
   "outputs": [],
   "source": [
    "# xgb_rg = xgb.XGBRegressor(max_depth=3, n_estimators=100,\n",
    "#                             objective ='reg:linear', booster='gbtree',\n",
    "#                             n_jobs=2)\n",
    "\n",
    "# # Cross-validation with 10 folds\n",
    "# mse = cross_val_score(xgb_rg, X_shuffle, y_shuffle,\n",
    "#                          scoring='neg_mean_squared_error',\n",
    "#                          cv=10, n_jobs=-1)\n",
    "\n",
    "# print(\"MSE Values: \", -1 * np.round(mse, 2))\n",
    "# print(\"Average MSE: \", -1 * np.mean(mse))"
   ]
  },
  {
   "cell_type": "code",
   "execution_count": 373,
   "id": "ab3a0fe9-2429-45ee-8444-e683ff8a92f8",
   "metadata": {},
   "outputs": [],
   "source": [
    "test_size=0.2\n",
    "X_train, X_test, y_train, y_test = train_test_split(x, y, test_size=test_size)"
   ]
  },
  {
   "cell_type": "code",
   "execution_count": 374,
   "id": "37b46118-2053-42a2-8c81-90699e85ce63",
   "metadata": {},
   "outputs": [],
   "source": [
    "# xgb_full= xgb.DMatrix(x, label=y)\n",
    "# xgb_train = xgb.DMatrix(X_train, label=y_train)\n",
    "# xgb_test = xgb.DMatrix(X_test, label=y_test)"
   ]
  },
  {
   "cell_type": "code",
   "execution_count": 375,
   "id": "e2c5a976-a976-453b-bf6f-1b2c3f39c507",
   "metadata": {},
   "outputs": [],
   "source": [
    "# params = {\n",
    "#     \"eta\": 0.002,\n",
    "#     \"max_depth\": 5,\n",
    "#     \"subsample\": 0.5\n",
    "# }\n",
    "# model_train = xgb.train(params, xgb_train, 10000, evals = [(xgb_test, \"test\")], verbose_eval=1000)"
   ]
  },
  {
   "cell_type": "code",
   "execution_count": 376,
   "id": "97350ba2-a80b-4f93-8a66-193319208b37",
   "metadata": {},
   "outputs": [],
   "source": [
    "# explainer = shap.Explainer(model_train)\n",
    "# shap_values = explainer(xgb_full)\n",
    "# shap.plots.bar(shap_values)"
   ]
  },
  {
   "cell_type": "code",
   "execution_count": 377,
   "id": "f5faba5c-4816-41d2-930a-269bbc096c36",
   "metadata": {},
   "outputs": [],
   "source": [
    "# xg_reg = xgb.XGBRegressor(objective ='reg:linear', colsample_bytree = 0.3, learning_rate = 0.1,\n",
    "#                 max_depth = 5, alpha = 10, n_estimators = 10, tree_method=\"hist\", enable_categorical=True)\n",
    "xg_reg = xgb.XGBRegressor(max_depth=5,subsample=0.5,n_estimators=10000,learning_rate=0.002)"
   ]
  },
  {
   "cell_type": "code",
   "execution_count": 378,
   "id": "58cce175-a144-44ed-b485-0f9c8aa6f205",
   "metadata": {},
   "outputs": [],
   "source": [
    "model=xg_reg.fit(X_train,y_train)"
   ]
  },
  {
   "cell_type": "code",
   "execution_count": 379,
   "id": "40ecf0e7-94eb-48b1-a763-9f3401994cc2",
   "metadata": {},
   "outputs": [],
   "source": [
    "preds = xg_reg.predict(X_test)"
   ]
  },
  {
   "cell_type": "code",
   "execution_count": 380,
   "id": "f7d1b4b0-9f43-459c-8f54-3fd2ec15c503",
   "metadata": {},
   "outputs": [
    {
     "name": "stdout",
     "output_type": "stream",
     "text": [
      "Pearson correlation: 0.474618\n",
      "RMSE: 1.748408\n"
     ]
    }
   ],
   "source": [
    "r=pearsonr(np.array(y_test).squeeze(),np.array(preds))[0]\n",
    "rmse = np.sqrt(mean_squared_error(y_test, preds))\n",
    "print(\"Pearson correlation: %f\" % (r))\n",
    "print(\"RMSE: %f\" % (rmse))"
   ]
  },
  {
   "cell_type": "code",
   "execution_count": 381,
   "id": "f7131bfe-0261-45e9-a2d5-04e45e72196d",
   "metadata": {},
   "outputs": [
    {
     "name": "stderr",
     "output_type": "stream",
     "text": [
      "ntree_limit is deprecated, use `iteration_range` or model slicing instead.\n"
     ]
    }
   ],
   "source": [
    "# explain the model's predictions using SHAP\n",
    "# (same syntax works for LightGBM, CatBoost, scikit-learn, transformers, Spark, etc.)\n",
    "explainer = shap.Explainer(model)\n",
    "shap_values = explainer(x)"
   ]
  },
  {
   "cell_type": "code",
   "execution_count": 382,
   "id": "e8d4a0c8-2581-4dcb-8a80-34f8fc1bd67b",
   "metadata": {},
   "outputs": [],
   "source": [
    "# # visualize the first prediction's explanation\n",
    "# shap.plots.waterfall(shap_values[0])"
   ]
  },
  {
   "cell_type": "code",
   "execution_count": 383,
   "id": "8a4a872a-14dd-4107-a792-626bd7c9da27",
   "metadata": {},
   "outputs": [
    {
     "data": {
      "image/png": "[encoded data removed]",
      "text/plain": [
       "<Figure size 576x252 with 2 Axes>"
      ]
     },
     "metadata": {
      "needs_background": "light"
     },
     "output_type": "display_data"
    }
   ],
   "source": [
    "shap.summary_plot(shap_values, x)"
   ]
  },
  {
   "cell_type": "code",
   "execution_count": 384,
   "id": "95edaa53-0d9e-4232-a852-e5182aad14ae",
   "metadata": {},
   "outputs": [
    {
     "data": {
      "image/png": "[encoded data removed]",
      "text/plain": [
       "<Figure size 576x288 with 1 Axes>"
      ]
     },
     "metadata": {},
     "output_type": "display_data"
    }
   ],
   "source": [
    "shap.plots.bar(shap_values)"
   ]
  },
  {
   "cell_type": "code",
   "execution_count": 385,
   "id": "25e6a27f-a435-47f0-b878-ed6b638a8776",
   "metadata": {},
   "outputs": [
    {
     "data": {
      "image/png": "[encoded data removed]",
      "text/plain": [
       "<Figure size 432x360 with 2 Axes>"
      ]
     },
     "metadata": {
      "needs_background": "light"
     },
     "output_type": "display_data"
    }
   ],
   "source": [
    "# create a dependence scatter plot to show the effect of a single feature across the whole dataset\n",
    "shap.plots.scatter(shap_values[:,\"alignment\"], color=\"black\")"
   ]
  },
  {
   "cell_type": "markdown",
   "id": "9f05af0d-0076-4095-9053-df44b52de0c0",
   "metadata": {},
   "source": [
    "### Linear Regression"
   ]
  },
  {
   "cell_type": "code",
   "execution_count": 386,
   "id": "ec4075d4-3c86-4be7-99e3-65239bea3511",
   "metadata": {},
   "outputs": [],
   "source": [
    "results = smf.ols(formula = 'aoa ~ alignment+v_variability+l_variability+v_discriminability+l_discriminability',data=df).fit()"
   ]
  },
  {
   "cell_type": "code",
   "execution_count": 387,
   "id": "ca32f1b6-6ff6-4a2c-b038-f1e97268a5db",
   "metadata": {},
   "outputs": [
    {
     "data": {
      "text/html": [
       "<table class=\"simpletable\">\n",
       "<caption>OLS Regression Results</caption>\n",
       "<tr>\n",
       "  <th>Dep. Variable:</th>           <td>aoa</td>       <th>  R-squared:         </th> <td>   0.223</td>\n",
       "</tr>\n",
       "<tr>\n",
       "  <th>Model:</th>                   <td>OLS</td>       <th>  Adj. R-squared:    </th> <td>   0.213</td>\n",
       "</tr>\n",
       "<tr>\n",
       "  <th>Method:</th>             <td>Least Squares</td>  <th>  F-statistic:       </th> <td>   23.41</td>\n",
       "</tr>\n",
       "<tr>\n",
       "  <th>Date:</th>             <td>Thu, 12 May 2022</td> <th>  Prob (F-statistic):</th> <td>1.08e-20</td>\n",
       "</tr>\n",
       "<tr>\n",
       "  <th>Time:</th>                 <td>11:40:28</td>     <th>  Log-Likelihood:    </th> <td> -862.94</td>\n",
       "</tr>\n",
       "<tr>\n",
       "  <th>No. Observations:</th>      <td>   414</td>      <th>  AIC:               </th> <td>   1738.</td>\n",
       "</tr>\n",
       "<tr>\n",
       "  <th>Df Residuals:</th>          <td>   408</td>      <th>  BIC:               </th> <td>   1762.</td>\n",
       "</tr>\n",
       "<tr>\n",
       "  <th>Df Model:</th>              <td>     5</td>      <th>                     </th>     <td> </td>   \n",
       "</tr>\n",
       "<tr>\n",
       "  <th>Covariance Type:</th>      <td>nonrobust</td>    <th>                     </th>     <td> </td>   \n",
       "</tr>\n",
       "</table>\n",
       "<table class=\"simpletable\">\n",
       "<tr>\n",
       "           <td></td>             <th>coef</th>     <th>std err</th>      <th>t</th>      <th>P>|t|</th>  <th>[0.025</th>    <th>0.975]</th>  \n",
       "</tr>\n",
       "<tr>\n",
       "  <th>Intercept</th>          <td>    3.5186</td> <td>    1.841</td> <td>    1.911</td> <td> 0.057</td> <td>   -0.100</td> <td>    7.137</td>\n",
       "</tr>\n",
       "<tr>\n",
       "  <th>alignment</th>          <td>    1.8039</td> <td>    0.878</td> <td>    2.055</td> <td> 0.040</td> <td>    0.079</td> <td>    3.529</td>\n",
       "</tr>\n",
       "<tr>\n",
       "  <th>v_variability</th>      <td>    3.4395</td> <td>    0.996</td> <td>    3.454</td> <td> 0.001</td> <td>    1.482</td> <td>    5.397</td>\n",
       "</tr>\n",
       "<tr>\n",
       "  <th>l_variability</th>      <td>  -22.8041</td> <td>    2.860</td> <td>   -7.974</td> <td> 0.000</td> <td>  -28.426</td> <td>  -17.182</td>\n",
       "</tr>\n",
       "<tr>\n",
       "  <th>v_discriminability</th> <td>   -0.9354</td> <td>    1.366</td> <td>   -0.685</td> <td> 0.494</td> <td>   -3.621</td> <td>    1.750</td>\n",
       "</tr>\n",
       "<tr>\n",
       "  <th>l_discriminability</th> <td>    0.6525</td> <td>    0.126</td> <td>    5.175</td> <td> 0.000</td> <td>    0.405</td> <td>    0.900</td>\n",
       "</tr>\n",
       "</table>\n",
       "<table class=\"simpletable\">\n",
       "<tr>\n",
       "  <th>Omnibus:</th>       <td>39.995</td> <th>  Durbin-Watson:     </th> <td>   1.872</td>\n",
       "</tr>\n",
       "<tr>\n",
       "  <th>Prob(Omnibus):</th> <td> 0.000</td> <th>  Jarque-Bera (JB):  </th> <td>  50.410</td>\n",
       "</tr>\n",
       "<tr>\n",
       "  <th>Skew:</th>          <td> 0.753</td> <th>  Prob(JB):          </th> <td>1.13e-11</td>\n",
       "</tr>\n",
       "<tr>\n",
       "  <th>Kurtosis:</th>      <td> 3.809</td> <th>  Cond. No.          </th> <td>    271.</td>\n",
       "</tr>\n",
       "</table><br/><br/>Notes:<br/>[1] Standard Errors assume that the covariance matrix of the errors is correctly specified."
      ],
      "text/plain": [
       "<class 'statsmodels.iolib.summary.Summary'>\n",
       "\"\"\"\n",
       "                            OLS Regression Results                            \n",
       "==============================================================================\n",
       "Dep. Variable:                    aoa   R-squared:                       0.223\n",
       "Model:                            OLS   Adj. R-squared:                  0.213\n",
       "Method:                 Least Squares   F-statistic:                     23.41\n",
       "Date:                Thu, 12 May 2022   Prob (F-statistic):           1.08e-20\n",
       "Time:                        11:40:28   Log-Likelihood:                -862.94\n",
       "No. Observations:                 414   AIC:                             1738.\n",
       "Df Residuals:                     408   BIC:                             1762.\n",
       "Df Model:                           5                                         \n",
       "Covariance Type:            nonrobust                                         \n",
       "======================================================================================\n",
       "                         coef    std err          t      P>|t|      [0.025      0.975]\n",
       "--------------------------------------------------------------------------------------\n",
       "Intercept              3.5186      1.841      1.911      0.057      -0.100       7.137\n",
       "alignment              1.8039      0.878      2.055      0.040       0.079       3.529\n",
       "v_variability          3.4395      0.996      3.454      0.001       1.482       5.397\n",
       "l_variability        -22.8041      2.860     -7.974      0.000     -28.426     -17.182\n",
       "v_discriminability    -0.9354      1.366     -0.685      0.494      -3.621       1.750\n",
       "l_discriminability     0.6525      0.126      5.175      0.000       0.405       0.900\n",
       "==============================================================================\n",
       "Omnibus:                       39.995   Durbin-Watson:                   1.872\n",
       "Prob(Omnibus):                  0.000   Jarque-Bera (JB):               50.410\n",
       "Skew:                           0.753   Prob(JB):                     1.13e-11\n",
       "Kurtosis:                       3.809   Cond. No.                         271.\n",
       "==============================================================================\n",
       "\n",
       "Notes:\n",
       "[1] Standard Errors assume that the covariance matrix of the errors is correctly specified.\n",
       "\"\"\""
      ]
     },
     "execution_count": 387,
     "metadata": {},
     "output_type": "execute_result"
    }
   ],
   "source": [
    "results.summary()"
   ]
  },
  {
   "cell_type": "markdown",
   "id": "044fd049-0a19-4095-ba7b-1584d7e3cbb0",
   "metadata": {
    "tags": []
   },
   "source": [
    "## nouns and verbs respectively"
   ]
  },
  {
   "cell_type": "code",
   "execution_count": 388,
   "id": "c0081ff1-e9e0-44bc-9bd3-3a32470121e1",
   "metadata": {},
   "outputs": [],
   "source": [
    "noun_visual_variability,noun_language_variability=get_variance(vg_noun_data)\n",
    "verb_visual_variability,verb_language_variability=get_variance(vg_verb_data)"
   ]
  },
  {
   "cell_type": "code",
   "execution_count": 389,
   "id": "fa25676d-16e7-45f6-8ff7-d04b6c4e9384",
   "metadata": {},
   "outputs": [],
   "source": [
    "noun_visual_discriminability,noun_language_discriminability=get_distinctness_from_nearest_5(vg_noun_data)\n",
    "verb_visual_discriminability,verb_language_discriminability=get_distinctness_from_nearest_5(vg_verb_data)"
   ]
  },
  {
   "cell_type": "code",
   "execution_count": 390,
   "id": "df01c2f6-c971-4264-a36b-ed52f45877dc",
   "metadata": {},
   "outputs": [],
   "source": [
    "aoas,alignments,v_vars,l_vars,v_dists,l_dists=combine_all_data(aggregated_vg_noun_data,noun_aoa_dict,\n",
    "                                                              noun_visual_variability,noun_language_variability,\n",
    "                                                              noun_visual_discriminability,noun_language_discriminability)"
   ]
  },
  {
   "cell_type": "code",
   "execution_count": 391,
   "id": "8d9c1c17-3055-4be5-9efb-d8ae1ff6a365",
   "metadata": {},
   "outputs": [],
   "source": [
    "df1=pd.DataFrame(data=np.transpose(np.array([aoas,alignments,v_vars,l_vars,v_dists,l_dists])),columns=['aoa','alignment','v_variability','l_variability','v_discriminability','l_discriminability'])\n",
    "# df1['type']='noun'"
   ]
  },
  {
   "cell_type": "code",
   "execution_count": 392,
   "id": "09e16900-84b3-4350-8501-56639a12ade3",
   "metadata": {
    "tags": []
   },
   "outputs": [],
   "source": [
    "# df1"
   ]
  },
  {
   "cell_type": "code",
   "execution_count": 393,
   "id": "e4eae9c8-ce6f-4830-bbbf-a262d7c4e441",
   "metadata": {},
   "outputs": [],
   "source": [
    "aoas,alignments,v_vars,l_vars,v_dists,l_dists=combine_all_data(aggregated_vg_verb_data,verb_aoa_dict,\n",
    "                                                              verb_visual_variability,verb_language_variability,\n",
    "                                                              verb_visual_discriminability,verb_language_discriminability)"
   ]
  },
  {
   "cell_type": "code",
   "execution_count": 394,
   "id": "6d6a32a8-a60d-4c20-97f9-b84b98a5fb2b",
   "metadata": {},
   "outputs": [],
   "source": [
    "df2=pd.DataFrame(data=np.transpose(np.array([aoas,alignments,v_vars,l_vars,v_dists,l_dists])),columns=['aoa','alignment','v_variability','l_variability','v_discriminability','l_discriminability'])\n",
    "# df2['type']='verb'"
   ]
  },
  {
   "cell_type": "code",
   "execution_count": 395,
   "id": "72defc33-5048-4105-a5c9-18461ac6de8f",
   "metadata": {
    "tags": []
   },
   "outputs": [],
   "source": [
    "# df2"
   ]
  },
  {
   "cell_type": "code",
   "execution_count": 396,
   "id": "82fbf6ff-ed0b-49ee-8019-f6205697a71b",
   "metadata": {},
   "outputs": [],
   "source": [
    "df=pd.concat([df1,df2])"
   ]
  },
  {
   "cell_type": "code",
   "execution_count": 397,
   "id": "263581ab-9ac7-49ea-b2cf-e77410e6d978",
   "metadata": {
    "tags": []
   },
   "outputs": [],
   "source": [
    "# df"
   ]
  },
  {
   "cell_type": "code",
   "execution_count": 398,
   "id": "41e0c315-cb55-4bff-be94-0674f6d1ce2c",
   "metadata": {},
   "outputs": [],
   "source": [
    "# df['type']=df['type'].astype(\"category\")"
   ]
  },
  {
   "cell_type": "code",
   "execution_count": 399,
   "id": "c542ecf2-2b3a-4455-a12a-93a04513b740",
   "metadata": {},
   "outputs": [],
   "source": [
    "# df.dtypes"
   ]
  },
  {
   "cell_type": "markdown",
   "id": "a66c7866-72d0-47a7-9d2e-af9b894acf82",
   "metadata": {},
   "source": [
    "### Xgboost"
   ]
  },
  {
   "cell_type": "code",
   "execution_count": 400,
   "id": "a2f7b31e-34be-4404-a983-96d4051bbd3d",
   "metadata": {},
   "outputs": [],
   "source": [
    "x=df.iloc[:,1:]"
   ]
  },
  {
   "cell_type": "code",
   "execution_count": 401,
   "id": "168c810f-8f02-4405-87e6-053d6bfcd822",
   "metadata": {},
   "outputs": [],
   "source": [
    "y=df.iloc[:,:1]"
   ]
  },
  {
   "cell_type": "code",
   "execution_count": 402,
   "id": "970cf9e4-28f6-4625-a94d-06fc5a5f3a4f",
   "metadata": {},
   "outputs": [],
   "source": [
    "# # Shuffling the data\n",
    "# X_shuffle, y_shuffle = shuffle(x, y)"
   ]
  },
  {
   "cell_type": "code",
   "execution_count": 403,
   "id": "b59b7cae-0ece-4819-a4a9-73e9cb55dd41",
   "metadata": {
    "tags": []
   },
   "outputs": [],
   "source": [
    "# xgb_rg = xgb.XGBRegressor(max_depth=3, n_estimators=100,\n",
    "#                             objective ='reg:linear', booster='gbtree',\n",
    "#                             n_jobs=2)\n",
    "\n",
    "# # Cross-validation with 10 folds\n",
    "# mse = cross_val_score(xgb_rg, X_shuffle, y_shuffle,\n",
    "#                          scoring='neg_mean_squared_error',\n",
    "#                          cv=10, n_jobs=-1)\n",
    "\n",
    "# print(\"MSE Values: \", -1 * np.round(mse, 2))\n",
    "# print(\"Average MSE: \", -1 * np.mean(mse))"
   ]
  },
  {
   "cell_type": "code",
   "execution_count": 404,
   "id": "8818fa9b-e909-4d28-909f-075703b067dc",
   "metadata": {},
   "outputs": [],
   "source": [
    "test_size=0.2\n",
    "X_train, X_test, y_train, y_test = train_test_split(x, y, test_size=test_size)"
   ]
  },
  {
   "cell_type": "code",
   "execution_count": 405,
   "id": "65be7fa0-1257-49a9-86a7-434316def72b",
   "metadata": {},
   "outputs": [],
   "source": [
    "# xg_reg = xgb.XGBRegressor(objective ='reg:linear', colsample_bytree = 0.3, learning_rate = 0.1,\n",
    "#                 max_depth = 5, alpha = 10, n_estimators = 10, tree_method=\"hist\", enable_categorical=True)\n",
    "xg_reg = xgb.XGBRegressor(max_depth=5,subsample=0.5,n_estimators=10000,learning_rate=0.002)"
   ]
  },
  {
   "cell_type": "code",
   "execution_count": 406,
   "id": "66a1a2f5-32e3-4176-bc9d-5566af97fd34",
   "metadata": {},
   "outputs": [],
   "source": [
    "model=xg_reg.fit(X_train,y_train)\n",
    "\n",
    "preds = xg_reg.predict(X_test)"
   ]
  },
  {
   "cell_type": "code",
   "execution_count": 407,
   "id": "14f5478b-8dc5-491e-a011-481ea1588bb4",
   "metadata": {},
   "outputs": [
    {
     "name": "stdout",
     "output_type": "stream",
     "text": [
      "Pearson correlation: 0.378233\n",
      "RMSE: 2.140344\n"
     ]
    }
   ],
   "source": [
    "r=pearsonr(np.array(y_test).squeeze(),np.array(preds))[0]\n",
    "rmse = np.sqrt(mean_squared_error(y_test, preds))\n",
    "print(\"Pearson correlation: %f\" % (r))\n",
    "print(\"RMSE: %f\" % (rmse))"
   ]
  },
  {
   "cell_type": "code",
   "execution_count": 408,
   "id": "8dee46df-fc8c-4583-bf9e-0d11650879bb",
   "metadata": {},
   "outputs": [
    {
     "name": "stderr",
     "output_type": "stream",
     "text": [
      "ntree_limit is deprecated, use `iteration_range` or model slicing instead.\n"
     ]
    }
   ],
   "source": [
    "# explain the model's predictions using SHAP\n",
    "# (same syntax works for LightGBM, CatBoost, scikit-learn, transformers, Spark, etc.)\n",
    "explainer = shap.Explainer(model)\n",
    "shap_values = explainer(x)"
   ]
  },
  {
   "cell_type": "code",
   "execution_count": 409,
   "id": "5e3b08ec-e4c6-4e6e-b3cc-b57b6c3e0fce",
   "metadata": {},
   "outputs": [],
   "source": [
    "# # visualize the first prediction's explanation\n",
    "# shap.plots.waterfall(shap_values[0])"
   ]
  },
  {
   "cell_type": "code",
   "execution_count": 410,
   "id": "ff76bfbb-2edc-4a30-a693-6f64b230e3b2",
   "metadata": {},
   "outputs": [
    {
     "data": {
      "image/png": "[encoded data removed]",
      "text/plain": [
       "<Figure size 576x252 with 2 Axes>"
      ]
     },
     "metadata": {
      "needs_background": "light"
     },
     "output_type": "display_data"
    }
   ],
   "source": [
    "# summarize the effects of all the features\n",
    "shap.plots.beeswarm(shap_values)"
   ]
  },
  {
   "cell_type": "code",
   "execution_count": 411,
   "id": "35badeb8-1319-4ab9-a25a-9698b51437a6",
   "metadata": {},
   "outputs": [
    {
     "data": {
      "image/png": "[encoded data removed]",
      "text/plain": [
       "<Figure size 576x288 with 1 Axes>"
      ]
     },
     "metadata": {},
     "output_type": "display_data"
    }
   ],
   "source": [
    "shap.plots.bar(shap_values)"
   ]
  },
  {
   "cell_type": "code",
   "execution_count": 412,
   "id": "e2a9d292-3c43-490e-b274-9a1bb9be2481",
   "metadata": {},
   "outputs": [
    {
     "data": {
      "image/png": "[encoded data removed]",
      "text/plain": [
       "<Figure size 432x360 with 2 Axes>"
      ]
     },
     "metadata": {
      "needs_background": "light"
     },
     "output_type": "display_data"
    }
   ],
   "source": [
    "# create a dependence scatter plot to show the effect of a single feature across the whole dataset\n",
    "shap.plots.scatter(shap_values[:,\"alignment\"], color=\"black\")"
   ]
  },
  {
   "cell_type": "markdown",
   "id": "b0f61d6a-b638-4ec3-a9d9-547d1f2b202f",
   "metadata": {},
   "source": [
    "### Linear Regression"
   ]
  },
  {
   "cell_type": "code",
   "execution_count": 413,
   "id": "08b0918b-18fd-4d95-b8b1-3ccb05db0eb8",
   "metadata": {},
   "outputs": [],
   "source": [
    "results = smf.ols(formula = 'aoa ~ alignment+v_variability+l_variability+v_discriminability+l_discriminability',data=df).fit()"
   ]
  },
  {
   "cell_type": "code",
   "execution_count": 414,
   "id": "aa5decb2-da58-4502-8b60-72deddd71d16",
   "metadata": {},
   "outputs": [
    {
     "data": {
      "text/html": [
       "<table class=\"simpletable\">\n",
       "<caption>OLS Regression Results</caption>\n",
       "<tr>\n",
       "  <th>Dep. Variable:</th>           <td>aoa</td>       <th>  R-squared:         </th> <td>   0.196</td>\n",
       "</tr>\n",
       "<tr>\n",
       "  <th>Model:</th>                   <td>OLS</td>       <th>  Adj. R-squared:    </th> <td>   0.187</td>\n",
       "</tr>\n",
       "<tr>\n",
       "  <th>Method:</th>             <td>Least Squares</td>  <th>  F-statistic:       </th> <td>   19.94</td>\n",
       "</tr>\n",
       "<tr>\n",
       "  <th>Date:</th>             <td>Thu, 12 May 2022</td> <th>  Prob (F-statistic):</th> <td>8.40e-18</td>\n",
       "</tr>\n",
       "<tr>\n",
       "  <th>Time:</th>                 <td>11:40:40</td>     <th>  Log-Likelihood:    </th> <td> -869.88</td>\n",
       "</tr>\n",
       "<tr>\n",
       "  <th>No. Observations:</th>      <td>   414</td>      <th>  AIC:               </th> <td>   1752.</td>\n",
       "</tr>\n",
       "<tr>\n",
       "  <th>Df Residuals:</th>          <td>   408</td>      <th>  BIC:               </th> <td>   1776.</td>\n",
       "</tr>\n",
       "<tr>\n",
       "  <th>Df Model:</th>              <td>     5</td>      <th>                     </th>     <td> </td>   \n",
       "</tr>\n",
       "<tr>\n",
       "  <th>Covariance Type:</th>      <td>nonrobust</td>    <th>                     </th>     <td> </td>   \n",
       "</tr>\n",
       "</table>\n",
       "<table class=\"simpletable\">\n",
       "<tr>\n",
       "           <td></td>             <th>coef</th>     <th>std err</th>      <th>t</th>      <th>P>|t|</th>  <th>[0.025</th>    <th>0.975]</th>  \n",
       "</tr>\n",
       "<tr>\n",
       "  <th>Intercept</th>          <td>    6.7409</td> <td>    1.984</td> <td>    3.398</td> <td> 0.001</td> <td>    2.842</td> <td>   10.640</td>\n",
       "</tr>\n",
       "<tr>\n",
       "  <th>alignment</th>          <td>   -1.9592</td> <td>    0.911</td> <td>   -2.151</td> <td> 0.032</td> <td>   -3.750</td> <td>   -0.169</td>\n",
       "</tr>\n",
       "<tr>\n",
       "  <th>v_variability</th>      <td>    3.1983</td> <td>    1.074</td> <td>    2.977</td> <td> 0.003</td> <td>    1.086</td> <td>    5.310</td>\n",
       "</tr>\n",
       "<tr>\n",
       "  <th>l_variability</th>      <td>  -23.7078</td> <td>    2.890</td> <td>   -8.202</td> <td> 0.000</td> <td>  -29.390</td> <td>  -18.026</td>\n",
       "</tr>\n",
       "<tr>\n",
       "  <th>v_discriminability</th> <td>   -0.7896</td> <td>    1.199</td> <td>   -0.659</td> <td> 0.511</td> <td>   -3.147</td> <td>    1.568</td>\n",
       "</tr>\n",
       "<tr>\n",
       "  <th>l_discriminability</th> <td>    0.3866</td> <td>    0.134</td> <td>    2.874</td> <td> 0.004</td> <td>    0.122</td> <td>    0.651</td>\n",
       "</tr>\n",
       "</table>\n",
       "<table class=\"simpletable\">\n",
       "<tr>\n",
       "  <th>Omnibus:</th>       <td>34.896</td> <th>  Durbin-Watson:     </th> <td>   1.797</td>\n",
       "</tr>\n",
       "<tr>\n",
       "  <th>Prob(Omnibus):</th> <td> 0.000</td> <th>  Jarque-Bera (JB):  </th> <td>  41.880</td>\n",
       "</tr>\n",
       "<tr>\n",
       "  <th>Skew:</th>          <td> 0.710</td> <th>  Prob(JB):          </th> <td>8.05e-10</td>\n",
       "</tr>\n",
       "<tr>\n",
       "  <th>Kurtosis:</th>      <td> 3.642</td> <th>  Cond. No.          </th> <td>    272.</td>\n",
       "</tr>\n",
       "</table><br/><br/>Notes:<br/>[1] Standard Errors assume that the covariance matrix of the errors is correctly specified."
      ],
      "text/plain": [
       "<class 'statsmodels.iolib.summary.Summary'>\n",
       "\"\"\"\n",
       "                            OLS Regression Results                            \n",
       "==============================================================================\n",
       "Dep. Variable:                    aoa   R-squared:                       0.196\n",
       "Model:                            OLS   Adj. R-squared:                  0.187\n",
       "Method:                 Least Squares   F-statistic:                     19.94\n",
       "Date:                Thu, 12 May 2022   Prob (F-statistic):           8.40e-18\n",
       "Time:                        11:40:40   Log-Likelihood:                -869.88\n",
       "No. Observations:                 414   AIC:                             1752.\n",
       "Df Residuals:                     408   BIC:                             1776.\n",
       "Df Model:                           5                                         \n",
       "Covariance Type:            nonrobust                                         \n",
       "======================================================================================\n",
       "                         coef    std err          t      P>|t|      [0.025      0.975]\n",
       "--------------------------------------------------------------------------------------\n",
       "Intercept              6.7409      1.984      3.398      0.001       2.842      10.640\n",
       "alignment             -1.9592      0.911     -2.151      0.032      -3.750      -0.169\n",
       "v_variability          3.1983      1.074      2.977      0.003       1.086       5.310\n",
       "l_variability        -23.7078      2.890     -8.202      0.000     -29.390     -18.026\n",
       "v_discriminability    -0.7896      1.199     -0.659      0.511      -3.147       1.568\n",
       "l_discriminability     0.3866      0.134      2.874      0.004       0.122       0.651\n",
       "==============================================================================\n",
       "Omnibus:                       34.896   Durbin-Watson:                   1.797\n",
       "Prob(Omnibus):                  0.000   Jarque-Bera (JB):               41.880\n",
       "Skew:                           0.710   Prob(JB):                     8.05e-10\n",
       "Kurtosis:                       3.642   Cond. No.                         272.\n",
       "==============================================================================\n",
       "\n",
       "Notes:\n",
       "[1] Standard Errors assume that the covariance matrix of the errors is correctly specified.\n",
       "\"\"\""
      ]
     },
     "execution_count": 414,
     "metadata": {},
     "output_type": "execute_result"
    }
   ],
   "source": [
    "results.summary()"
   ]
  }
 ],
 "metadata": {
  "kernelspec": {
   "display_name": "Python 3 (ipykernel)",
   "language": "python",
   "name": "python3"
  },
  "language_info": {
   "codemirror_mode": {
    "name": "ipython",
    "version": 3
   },
   "file_extension": ".py",
   "mimetype": "text/x-python",
   "name": "python",
   "nbconvert_exporter": "python",
   "pygments_lexer": "ipython3",
   "version": "3.8.13"
  }
 },
 "nbformat": 4,
 "nbformat_minor": 5
}
